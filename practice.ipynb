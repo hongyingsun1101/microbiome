{
 "cells": [
  {
   "cell_type": "code",
   "execution_count": 1,
   "metadata": {},
   "outputs": [],
   "source": [
    "import numpy as np\n",
    "import pandas as pd\n",
    "import matplotlib.pyplot as plt\n",
    "import seaborn as sns\n",
    "# roc curve and auc score\n",
    "from sklearn.datasets import make_classification\n",
    "from sklearn.neighbors import KNeighborsClassifier\n",
    "from sklearn.ensemble import RandomForestClassifier\n",
    "from sklearn.model_selection import train_test_split\n",
    "from sklearn.metrics import roc_curve\n",
    "from sklearn.metrics import roc_auc_score"
   ]
  },
  {
   "cell_type": "code",
   "execution_count": 46,
   "metadata": {},
   "outputs": [],
   "source": [
    "def plot_roc_curve(fpr, tpr):\n",
    "    plt.plot(fpr, tpr, color='orange', label='ROC')\n",
    "    plt.plot([0, 1], [0, 1], color='darkblue', linestyle='--')\n",
    "    plt.xlabel('False Positive Rate')\n",
    "    plt.ylabel('True Positive Rate')\n",
    "    plt.title('Receiver Operating Characteristic (ROC) Curve')\n",
    "    plt.legend()\n",
    "    plt.show()"
   ]
  },
  {
   "cell_type": "code",
   "execution_count": 78,
   "metadata": {},
   "outputs": [
    {
     "data": {
      "text/plain": [
       "[<matplotlib.lines.Line2D at 0x1802d70>]"
      ]
     },
     "execution_count": 78,
     "metadata": {},
     "output_type": "execute_result"
    },
    {
     "data": {
      "image/png": "[encoded data removed]",
      "text/plain": [
       "<Figure size 432x288 with 1 Axes>"
      ]
     },
     "metadata": {
      "needs_background": "light"
     },
     "output_type": "display_data"
    }
   ],
   "source": [
    "plt.plot(fpr, tpr, color='orange', label='ROC')"
   ]
  },
  {
   "cell_type": "code",
   "execution_count": null,
   "metadata": {},
   "outputs": [],
   "source": []
  },
  {
   "cell_type": "code",
   "execution_count": 54,
   "metadata": {},
   "outputs": [],
   "source": [
    "data_X, class_label = make_classification(n_samples=1000, n_classes=2, weights=[1,1], random_state=1)"
   ]
  },
  {
   "cell_type": "code",
   "execution_count": 58,
   "metadata": {},
   "outputs": [
    {
     "data": {
      "text/plain": [
       "(1000, 1000)"
      ]
     },
     "execution_count": 58,
     "metadata": {},
     "output_type": "execute_result"
    }
   ],
   "source": [
    "len(data_X),len(class_label)"
   ]
  },
  {
   "cell_type": "code",
   "execution_count": 60,
   "metadata": {},
   "outputs": [
    {
     "data": {
      "text/plain": [
       "((1000,), (1000, 20))"
      ]
     },
     "execution_count": 60,
     "metadata": {},
     "output_type": "execute_result"
    }
   ],
   "source": [
    "class_label.shape, data_X.shape"
   ]
  },
  {
   "cell_type": "code",
   "execution_count": 61,
   "metadata": {},
   "outputs": [],
   "source": [
    "trainX, testX, trainy, testy = train_test_split(data_X, class_label, test_size=0.3, random_state=1)"
   ]
  },
  {
   "cell_type": "code",
   "execution_count": 62,
   "metadata": {},
   "outputs": [
    {
     "data": {
      "text/plain": [
       "(700, 300, 700, 300)"
      ]
     },
     "execution_count": 62,
     "metadata": {},
     "output_type": "execute_result"
    }
   ],
   "source": [
    "len(trainX), len(testX), len(trainy), len(testy)"
   ]
  },
  {
   "cell_type": "code",
   "execution_count": 65,
   "metadata": {},
   "outputs": [
    {
     "ename": "IndexError",
     "evalue": "too many indices for array",
     "output_type": "error",
     "traceback": [
      "\u001b[1;31m---------------------------------------------------------------------------\u001b[0m",
      "\u001b[1;31mIndexError\u001b[0m                                Traceback (most recent call last)",
      "\u001b[1;32m<ipython-input-65-84af1f1f4da4>\u001b[0m in \u001b[0;36m<module>\u001b[1;34m\u001b[0m\n\u001b[1;32m----> 1\u001b[1;33m \u001b[0mtesty\u001b[0m\u001b[1;33m[\u001b[0m\u001b[1;33m:\u001b[0m\u001b[1;33m,\u001b[0m\u001b[1;36m1\u001b[0m\u001b[1;33m]\u001b[0m\u001b[1;33m\u001b[0m\u001b[1;33m\u001b[0m\u001b[0m\n\u001b[0m",
      "\u001b[1;31mIndexError\u001b[0m: too many indices for array"
     ]
    }
   ],
   "source": []
  },
  {
   "cell_type": "code",
   "execution_count": 66,
   "metadata": {},
   "outputs": [
    {
     "name": "stderr",
     "output_type": "stream",
     "text": [
      "d:\\program files (x86)\\python37-32\\lib\\site-packages\\sklearn\\ensemble\\forest.py:245: FutureWarning: The default value of n_estimators will change from 10 in version 0.20 to 100 in 0.22.\n",
      "  \"10 in version 0.20 to 100 in 0.22.\", FutureWarning)\n"
     ]
    },
    {
     "data": {
      "text/plain": [
       "RandomForestClassifier(bootstrap=True, class_weight=None, criterion='gini',\n",
       "                       max_depth=None, max_features='auto', max_leaf_nodes=None,\n",
       "                       min_impurity_decrease=0.0, min_impurity_split=None,\n",
       "                       min_samples_leaf=1, min_samples_split=2,\n",
       "                       min_weight_fraction_leaf=0.0, n_estimators=10,\n",
       "                       n_jobs=None, oob_score=False, random_state=None,\n",
       "                       verbose=0, warm_start=False)"
      ]
     },
     "execution_count": 66,
     "metadata": {},
     "output_type": "execute_result"
    }
   ],
   "source": [
    "model = RandomForestClassifier()\n",
    "model.fit(trainX, trainy)"
   ]
  },
  {
   "cell_type": "code",
   "execution_count": 69,
   "metadata": {},
   "outputs": [
    {
     "name": "stdout",
     "output_type": "stream",
     "text": [
      "RandomForestClassifier(bootstrap=True, class_weight=None, criterion='gini',\n",
      "                       max_depth=None, max_features='auto', max_leaf_nodes=None,\n",
      "                       min_impurity_decrease=0.0, min_impurity_split=None,\n",
      "                       min_samples_leaf=1, min_samples_split=2,\n",
      "                       min_weight_fraction_leaf=0.0, n_estimators=10,\n",
      "                       n_jobs=None, oob_score=False, random_state=None,\n",
      "                       verbose=0, warm_start=False)\n"
     ]
    }
   ],
   "source": [
    "print(model)"
   ]
  },
  {
   "cell_type": "code",
   "execution_count": 70,
   "metadata": {},
   "outputs": [],
   "source": [
    "probs = model.predict_proba(testX)"
   ]
  },
  {
   "cell_type": "code",
   "execution_count": 71,
   "metadata": {},
   "outputs": [
    {
     "data": {
      "text/plain": [
       "300"
      ]
     },
     "execution_count": 71,
     "metadata": {},
     "output_type": "execute_result"
    }
   ],
   "source": [
    "len(probs)"
   ]
  },
  {
   "cell_type": "code",
   "execution_count": null,
   "metadata": {},
   "outputs": [],
   "source": []
  },
  {
   "cell_type": "code",
   "execution_count": null,
   "metadata": {},
   "outputs": [],
   "source": [
    "probs[:,1]"
   ]
  },
  {
   "cell_type": "code",
   "execution_count": 81,
   "metadata": {},
   "outputs": [],
   "source": [
    "probs = probs[:, 1]"
   ]
  },
  {
   "cell_type": "code",
   "execution_count": 82,
   "metadata": {},
   "outputs": [
    {
     "name": "stdout",
     "output_type": "stream",
     "text": [
      "AUC: 0.94\n"
     ]
    }
   ],
   "source": [
    "auc = roc_auc_score(testy, probs)\n",
    "print('AUC: %.2f' % auc)"
   ]
  },
  {
   "cell_type": "code",
   "execution_count": 45,
   "metadata": {},
   "outputs": [
    {
     "data": {
      "text/plain": [
       "(300,\n",
       " 300,\n",
       " 300,\n",
       " array([0. , 0.9, 0. , 0.1, 0.9, 0.9, 0.8, 1. , 0.6, 0. , 0.6, 1. , 0.1,\n",
       "        0.9, 0.6, 0. , 1. , 0.2, 1. , 0. , 0.2, 0.2, 0.8, 0.8, 0.9, 0.9,\n",
       "        0. , 0.8, 0.7, 1. , 0. , 0.1, 0.7, 0.7, 0.7, 0.1, 0. , 0.2, 0.9,\n",
       "        0.1, 0. , 0.5, 0. , 0.2, 0.9, 0.2, 0.7, 1. , 0.8, 0. , 0. , 0.7,\n",
       "        0. , 0. , 0.1, 0. , 0.9, 0.9, 0. , 0. , 0.5, 0. , 0.9, 0. , 0.1,\n",
       "        0.5, 0. , 0.6, 0.8, 0.8, 0.8, 0. , 0.9, 0. , 0.2, 0.9, 0. , 1. ,\n",
       "        1. , 1. , 0. , 0.1, 0.9, 1. , 0.1, 0.7, 0. , 0. , 0.3, 0.8, 0.9,\n",
       "        0.9, 0.5, 0. , 0.9, 0.2, 0.9, 0.8, 0. , 0.1, 0.6, 0. , 0.8, 0. ,\n",
       "        0. , 0.8, 0.2, 0.7, 0.3, 0.7, 0.9, 0. , 0.9, 0.9, 0.9, 1. , 0.9,\n",
       "        0. , 1. , 0. , 0. , 0. , 0. , 1. , 0.9, 0.1, 0.7, 1. , 0.7, 1. ,\n",
       "        0.9, 0. , 0.9, 0.9, 0.3, 0.8, 0. , 0.9, 1. , 0.9, 0.9, 0.6, 0. ,\n",
       "        0. , 1. , 0. , 0.7, 0.3, 0. , 0.6, 0. , 0. , 1. , 0.9, 0.6, 0.1,\n",
       "        0.6, 0.5, 0. , 0. , 1. , 0.9, 0. , 0.9, 0.1, 0.3, 0.6, 0.1, 0.8,\n",
       "        0.1, 0.7, 0.8, 0. , 0.1, 0.8, 0.9, 0.8, 0.9, 0.7, 0.8, 0. , 0. ,\n",
       "        0.6, 0.1, 0.5, 0.7, 0. , 0. , 0.6, 0.9, 0.1, 0.6, 0.8, 0.9, 0.3,\n",
       "        0.2, 0. , 1. , 0.7, 0. , 0.1, 0. , 0.4, 0.9, 0.5, 0.2, 0. , 0.8,\n",
       "        0.7, 0. , 1. , 0.9, 0. , 0. , 0.8, 0.9, 0. , 0.9, 0.1, 0. , 0.9,\n",
       "        0. , 0.2, 1. , 1. , 1. , 0.7, 0.2, 0.1, 1. , 0.6, 0.8, 0.9, 0.1,\n",
       "        0.9, 1. , 0.7, 0.1, 0.9, 0.9, 0. , 1. , 1. , 0.1, 1. , 0.3, 0.7,\n",
       "        0.8, 0.1, 0.5, 0. , 0.9, 0.9, 0.8, 0.6, 1. , 0. , 0.5, 0.9, 0. ,\n",
       "        0.9, 0.2, 1. , 1. , 0.4, 1. , 0.8, 1. , 0. , 0.7, 0.8, 0.9, 0.4,\n",
       "        0.1, 0.8, 0.8, 0.4, 0.4, 0.8, 1. , 0. , 0.9, 0.2, 0.9, 0.6, 0.7,\n",
       "        0.9, 0. , 0.6, 0.9, 0. , 0. , 0. , 0.2, 0. , 0.5, 0.9, 0.9, 0.8,\n",
       "        0. ]))"
      ]
     },
     "execution_count": 45,
     "metadata": {},
     "output_type": "execute_result"
    }
   ],
   "source": [
    "len(testy), len(probs),len(probs),probs"
   ]
  },
  {
   "cell_type": "code",
   "execution_count": 83,
   "metadata": {},
   "outputs": [],
   "source": [
    "fpr, tpr, thresholds = roc_curve(testy, probs)"
   ]
  },
  {
   "cell_type": "code",
   "execution_count": null,
   "metadata": {},
   "outputs": [],
   "source": []
  },
  {
   "cell_type": "code",
   "execution_count": 16,
   "metadata": {},
   "outputs": [
    {
     "data": {
      "image/png": "[encoded data removed]",
      "text/plain": [
       "<Figure size 432x288 with 1 Axes>"
      ]
     },
     "metadata": {
      "needs_background": "light"
     },
     "output_type": "display_data"
    }
   ],
   "source": [
    "plot_roc_curve(fpr, tpr)"
   ]
  },
  {
   "cell_type": "code",
   "execution_count": 84,
   "metadata": {},
   "outputs": [],
   "source": [
    "data_Y=data_X"
   ]
  },
  {
   "cell_type": "code",
   "execution_count": 86,
   "metadata": {},
   "outputs": [
    {
     "data": {
      "text/plain": [
       "(1000, 20)"
      ]
     },
     "execution_count": 86,
     "metadata": {},
     "output_type": "execute_result"
    }
   ],
   "source": [
    "data_Y.shape"
   ]
  },
  {
   "cell_type": "code",
   "execution_count": 97,
   "metadata": {},
   "outputs": [],
   "source": [
    "data_test=data_Y"
   ]
  },
  {
   "cell_type": "code",
   "execution_count": 98,
   "metadata": {},
   "outputs": [
    {
     "name": "stdout",
     "output_type": "stream",
     "text": [
      "printing data_test is not empty\n"
     ]
    }
   ],
   "source": [
    "if(data_test is None):\n",
    "    print(\"data_test is empty!\")\n",
    "else:\n",
    "    print(\"printing data_test is not empty\")"
   ]
  },
  {
   "cell_type": "code",
   "execution_count": 103,
   "metadata": {},
   "outputs": [],
   "source": [
    "def plot_roc_test(data_X, class_label, data_test=data_Y):\n",
    "    trainX, testX, trainy, testy = train_test_split(data_X, class_label, test_size=0.3, random_state=1)\n",
    "    model = RandomForestClassifier()\n",
    "    model.fit(trainX, trainy)\n",
    "    probs = model.predict_proba(testX)\n",
    "    probs = probs[:, 1]\n",
    "    auc = roc_auc_score(testy, probs)\n",
    "    fpr, tpr, thresholds = roc_curve(testy, probs)\n",
    "    print('AUC: %.2f' % auc)\n",
    "    plot_roc_curve(fpr, tpr)\n",
    "    \n",
    "    "
   ]
  },
  {
   "cell_type": "code",
   "execution_count": 104,
   "metadata": {},
   "outputs": [
    {
     "name": "stdout",
     "output_type": "stream",
     "text": [
      "AUC: 0.95\n"
     ]
    },
    {
     "name": "stderr",
     "output_type": "stream",
     "text": [
      "d:\\program files (x86)\\python37-32\\lib\\site-packages\\sklearn\\ensemble\\forest.py:245: FutureWarning: The default value of n_estimators will change from 10 in version 0.20 to 100 in 0.22.\n",
      "  \"10 in version 0.20 to 100 in 0.22.\", FutureWarning)\n"
     ]
    },
    {
     "data": {
      "image/png": "[encoded data removed]",
      "text/plain": [
       "<Figure size 432x288 with 1 Axes>"
      ]
     },
     "metadata": {
      "needs_background": "light"
     },
     "output_type": "display_data"
    }
   ],
   "source": [
    "plot_roc_test(data_X, class_label)"
   ]
  },
  {
   "cell_type": "code",
   "execution_count": null,
   "metadata": {},
   "outputs": [],
   "source": [
    "d={data:df, independent_variable:predictor, dependent_variable:outcome}"
   ]
  },
  {
   "cell_type": "code",
   "execution_count": 79,
   "metadata": {},
   "outputs": [
    {
     "data": {
      "text/plain": [
       "array([2. , 1. , 0.9, 0.8, 0.7, 0.6, 0.5, 0.4, 0.3, 0.2, 0.1, 0. ])"
      ]
     },
     "execution_count": 79,
     "metadata": {},
     "output_type": "execute_result"
    }
   ],
   "source": [
    "thresholds"
   ]
  },
  {
   "cell_type": "code",
   "execution_count": 28,
   "metadata": {},
   "outputs": [
    {
     "data": {
      "text/plain": [
       "(1000, 20)"
      ]
     },
     "execution_count": 28,
     "metadata": {},
     "output_type": "execute_result"
    }
   ],
   "source": [
    "data_X.shape\n"
   ]
  },
  {
   "cell_type": "code",
   "execution_count": 29,
   "metadata": {},
   "outputs": [
    {
     "data": {
      "text/plain": [
       "(1000,)"
      ]
     },
     "execution_count": 29,
     "metadata": {},
     "output_type": "execute_result"
    }
   ],
   "source": [
    "class_label.shape"
   ]
  },
  {
   "cell_type": "code",
   "execution_count": 39,
   "metadata": {},
   "outputs": [
    {
     "data": {
      "text/plain": [
       "array([0.        , 0.01408451, 0.03521127, 0.04929577, 0.0915493 ,\n",
       "       0.11267606, 0.14084507, 0.16197183, 0.1971831 , 0.29577465,\n",
       "       0.47887324, 1.        ])"
      ]
     },
     "execution_count": 39,
     "metadata": {},
     "output_type": "execute_result"
    }
   ],
   "source": [
    "fpr"
   ]
  },
  {
   "cell_type": "code",
   "execution_count": 40,
   "metadata": {},
   "outputs": [
    {
     "data": {
      "text/plain": [
       "array([0.        , 0.20886076, 0.55063291, 0.7278481 , 0.82911392,\n",
       "       0.91772152, 0.9556962 , 0.96835443, 0.98101266, 0.99367089,\n",
       "       0.99367089, 1.        ])"
      ]
     },
     "execution_count": 40,
     "metadata": {},
     "output_type": "execute_result"
    }
   ],
   "source": [
    "tpr"
   ]
  },
  {
   "cell_type": "code",
   "execution_count": 41,
   "metadata": {},
   "outputs": [
    {
     "data": {
      "text/plain": [
       "array([2. , 1. , 0.9, 0.8, 0.7, 0.6, 0.5, 0.4, 0.3, 0.2, 0.1, 0. ])"
      ]
     },
     "execution_count": 41,
     "metadata": {},
     "output_type": "execute_result"
    }
   ],
   "source": [
    "thresholds"
   ]
  },
  {
   "cell_type": "code",
   "execution_count": 139,
   "metadata": {},
   "outputs": [
    {
     "data": {
      "text/plain": [
       "((1000,), (1000, 20))"
      ]
     },
     "execution_count": 139,
     "metadata": {},
     "output_type": "execute_result"
    }
   ],
   "source": [
    "new_data_x = data_X\n",
    "new_data_y = class_label\n",
    "new_data_y.shape, new_data_x.shape"
   ]
  },
  {
   "cell_type": "code",
   "execution_count": 153,
   "metadata": {},
   "outputs": [],
   "source": [
    "def plot_roc_microbiome(data_X, class_label, x, y, data_test=False):\n",
    "    if(not data_test):\n",
    "        print(\"data_set is False\")\n",
    "        trainX, testX, trainy, testy = train_test_split(data_X, class_label, test_size=0.3, random_state=1)\n",
    "        model = RandomForestClassifier()\n",
    "        model.fit(trainX, trainy)\n",
    "        probs = model.predict_proba(testX)\n",
    "        probs = probs[:, 1]\n",
    "        auc = roc_auc_score(testy, probs)\n",
    "        fpr, tpr, thresholds = roc_curve(testy, probs)\n",
    "        print('AUC: %.2f' % auc)\n",
    "        plot_roc_curve(fpr, tpr)\n",
    "\n",
    "    else:\n",
    "        print(\"data_set is True\")\n",
    "        trainX, testX, trainy, testy = train_test_split(data_X, class_label, test_size=0.3, random_state=1)\n",
    "        model = RandomForestClassifier()\n",
    "        model.fit(trainX, trainy)\n",
    "        probs1 = model.predict_proba(testX)\n",
    "        probs1 = probs1[:, 1]\n",
    "        auc1 = roc_auc_score(testy, probs1)\n",
    "        fpr1, tpr1, thresholds1 = roc_curve(testy, probs1)\n",
    "        print('AUC1: %.2f' % auc1)\n",
    "        plot_roc_curve(fpr1, tpr1)\n",
    "        \n",
    "        probs2 = model.predict_proba(x)\n",
    "        probs2 = probs2[:, 1]\n",
    "        auc2 = roc_auc_score(y, probs2)\n",
    "        fpr2, tpr2, thresholds2 = roc_curve(y, probs2)\n",
    "        print('AUC2: %.2f' % auc2)\n",
    "        plot_roc_curve(fpr2, tpr2)\n"
   ]
  },
  {
   "cell_type": "code",
   "execution_count": 154,
   "metadata": {},
   "outputs": [
    {
     "name": "stdout",
     "output_type": "stream",
     "text": [
      "data_set is True\n",
      "AUC1: 0.96\n"
     ]
    },
    {
     "name": "stderr",
     "output_type": "stream",
     "text": [
      "d:\\program files (x86)\\python37-32\\lib\\site-packages\\sklearn\\ensemble\\forest.py:245: FutureWarning: The default value of n_estimators will change from 10 in version 0.20 to 100 in 0.22.\n",
      "  \"10 in version 0.20 to 100 in 0.22.\", FutureWarning)\n"
     ]
    },
    {
     "data": {
      "image/png": "[encoded data removed]",
      "text/plain": [
       "<Figure size 432x288 with 1 Axes>"
      ]
     },
     "metadata": {
      "needs_background": "light"
     },
     "output_type": "display_data"
    },
    {
     "name": "stdout",
     "output_type": "stream",
     "text": [
      "AUC2: 0.99\n"
     ]
    },
    {
     "data": {
      "image/png": "[encoded data removed]",
      "text/plain": [
       "<Figure size 432x288 with 1 Axes>"
      ]
     },
     "metadata": {
      "needs_background": "light"
     },
     "output_type": "display_data"
    }
   ],
   "source": [
    "plot_roc_microbiome(data_X, class_label, x=new_data_x,y=new_data_y,data_test=True)"
   ]
  },
  {
   "cell_type": "code",
   "execution_count": 146,
   "metadata": {},
   "outputs": [
    {
     "name": "stdout",
     "output_type": "stream",
     "text": [
      "data_set is False\n",
      "AUC: 0.95\n"
     ]
    },
    {
     "name": "stderr",
     "output_type": "stream",
     "text": [
      "d:\\program files (x86)\\python37-32\\lib\\site-packages\\sklearn\\ensemble\\forest.py:245: FutureWarning: The default value of n_estimators will change from 10 in version 0.20 to 100 in 0.22.\n",
      "  \"10 in version 0.20 to 100 in 0.22.\", FutureWarning)\n"
     ]
    },
    {
     "data": {
      "image/png": "[encoded data removed]",
      "text/plain": [
       "<Figure size 432x288 with 1 Axes>"
      ]
     },
     "metadata": {
      "needs_background": "light"
     },
     "output_type": "display_data"
    }
   ],
   "source": [
    "plot_roc_microbiome(data_X, class_label, x=None,y=None,data_test=False)"
   ]
  },
  {
   "cell_type": "code",
   "execution_count": 156,
   "metadata": {},
   "outputs": [],
   "source": [
    "def plot_roc_curve_microbiome_test(pplacer_ref_list, pplacer_stats_list, community_list, cutoff_list, test_data_list, scoreOption=True, testOption=False):\n",
    "    for refIndex in range(len(pplacer_ref_list)):\n",
    "        pplacer_ref = pplacer_ref_list[refIndex]\n",
    "        for statsIndex in range(len(pplacer_stats_list)):\n",
    "            pplacer_stats = pplacer_stats_list[statsIndex]\n",
    "            for communityIndex in range(len(community_list)):\n",
    "                community = community_list[communityIndex]\n",
    "                for i in range(len(cutoff_list)):\n",
    "                    cutoff=cutoff_list[i]\n",
    "                    if(is_float(cutoff)):\n",
    "                        cutoff_binary=float(cutoff)\n",
    "                    else:\n",
    "                        if(scoreOption):\n",
    "                            cutoff_binary=float(df[pplacer_ref+community].describe().loc[[cutoff]])\n",
    "\n",
    "                        else:\n",
    "                            cutoff_binary = float(df[pplacer_ref+pplacer_stats].describe().loc[[cutoff]])\n",
    "                    # no test situation, which is the default option\n",
    "                    if (not testOption):\n",
    "\n",
    "                        if(scoreOption):\n",
    "                            mask = df[pplacer_ref+community] <=  cutoff_binary\n",
    "                            df.loc[mask, pplacer_ref+community+'_binary'] = 1\n",
    "                            mask = df[pplacer_ref+community] >cutoff_binary\n",
    "                            df.loc[mask, pplacer_ref+community+'_binary'] = 0\n",
    "                            df_binary = df[[pplacer_ref+pplacer_stats, pplacer_ref+community+'_binary']].dropna()\n",
    "                            data_stats = df_binary[pplacer_ref+pplacer_stats].to_numpy().reshape(-1,1)\n",
    "                            binary_label =  df_binary[pplacer_ref+community+'_binary'].to_numpy()\n",
    "                            print(' The score cutoff '+ cutoff +' for Reference ' + pplacer_ref +' community ' + community   + ' with pplacer_stats '+ pplacer_stats[1:] + ': %.2f' % cutoff_binary )\n",
    "                            # plot_roc(data_stats,binary_label)\n",
    "                            plot_roc_microbiome(data_stats,binary_label,x=None,y=None,data_test=False)\n",
    "                        else:\n",
    "                            mask = df[pplacer_ref+pplacer_stats] <=  cutoff_binary\n",
    "                            df.loc[mask, pplacer_ref+pplacer_stats+'_binary'] = 1\n",
    "                            mask = df[pplacer_ref+pplacer_stats] >cutoff_binary\n",
    "                            df.loc[mask, pplacer_ref+pplacer_stats+'_binary'] = 0\n",
    "                            df_binary = df[[pplacer_ref+community, pplacer_ref+pplacer_stats+'_binary']].dropna()\n",
    "                            data_stats = df_binary[pplacer_ref+community].to_numpy().reshape(-1,1)\n",
    "                            binary_label =  df_binary[pplacer_ref+pplacer_stats+'_binary'].to_numpy()\n",
    "                            print(' The pplacer_stats_cutoff '+ cutoff +' for Reference ' + pplacer_ref +' community ' + community + ' pplacer_stats '  + pplacer_stats[1:]  + ': %.2f' % cutoff_binary )\n",
    "                            # plot_roc(data_stats,binary_label)\n",
    "                            plot_roc_microbiome(data_stats,binary_label,x=None,y=None,data_test=False)\n",
    "                    \n",
    "                    # the no test situation\n",
    "                    else:\n",
    "                        for j in range(len(test_data_list)):\n",
    "                            test=test_data_list[j]\n",
    "                            if(scoreOption):\n",
    "                                mask = df[pplacer_ref+community] <=  cutoff_binary\n",
    "                                df.loc[mask, pplacer_ref+community+'_binary'] = 1\n",
    "                                mask = df[pplacer_ref+community] >cutoff_binary\n",
    "                                df.loc[mask, pplacer_ref+community+'_binary'] = 0\n",
    "                                df_binary = df[[pplacer_ref+pplacer_stats, pplacer_ref+community+'_binary']].dropna()\n",
    "                                data_stats = df_binary[pplacer_ref+pplacer_stats].to_numpy().reshape(-1,1)\n",
    "                                binary_label =  df_binary[pplacer_ref+community+'_binary'].to_numpy()\n",
    "                                \n",
    "                                mask_test = df[test+community] <=  cutoff_binary\n",
    "                                df.loc[mask_test, test+community+'_binary'] = 1\n",
    "                                mask_test = df[test+community] >cutoff_binary\n",
    "                                df.loc[mask_test, test+community+'_binary'] = 0\n",
    "                                df_binary = df[[test+pplacer_stats, test+community+'_binary']].dropna()\n",
    "                                x = df_binary[test+pplacer_stats].to_numpy().reshape(-1,1)\n",
    "                                y =  df_binary[test+community+'_binary'].to_numpy()\n",
    "\n",
    "                                print(' The score cutoff '+ cutoff +' for Reference ' + pplacer_ref +' community ' + community   + ' with pplacer_stats '+ pplacer_stats[1:] + 'compared with test ' + test +': %.2f' % cutoff_binary )\n",
    "                                plot_roc_microbiome(data_stats,binary_label,x,y,data_test=True)\n",
    "                            else:\n",
    "\n",
    "                                mask = df[pplacer_ref+pplacer_stats] <=  cutoff_binary\n",
    "                                df.loc[mask, pplacer_ref+pplacer_stats+'_binary'] = 1\n",
    "                                mask = df[pplacer_ref+pplacer_stats] >cutoff_binary\n",
    "                                df.loc[mask, pplacer_ref+pplacer_stats+'_binary'] = 0\n",
    "                                df_binary = df[[pplacer_ref+pplacer_stats, pplacer_ref+pplacer_stats+'_binary']].dropna()\n",
    "                                data_stats = df_binary[pplacer_ref+community].to_numpy().reshape(-1,1)\n",
    "                                binary_label =  df_binary[pplacer_ref+pplacer_stats+'_binary'].to_numpy()\n",
    "                                \n",
    "                                mask_test = df[test+pplacer_stats] <=  cutoff_binary\n",
    "                                df.loc[mask_test, test+pplacer_stats+'_binary'] = 1\n",
    "                                mask_test = df[test+pplacer_stats] >cutoff_binary\n",
    "                                df.loc[mask_test, test+pplacer_stats+'_binary'] = 0\n",
    "                                df_binary = df[[test+pplacer_stats, test+pplacer_stats+'_binary']].dropna()\n",
    "                                x = df_binary[test+community].to_numpy().reshape(-1,1)\n",
    "                                y =  df_binary[test+pplacer_stats+'_binary'].to_numpy()\n",
    "                                binary_label =  df_binary[pplacer_ref+pplacer_stats+'_binary'].to_numpy()\n",
    "                                print(' The pplacer_stats_cutoff '+ cutoff +' for Reference ' + pplacer_ref +' community ' + community + ' pplacer_stats '  + pplacer_stats[1:] + 'compared with test ' + test  + ': %.2f' % cutoff_binary )\n",
    "                                plot_roc_microbiome(data_stats,binary_label,x,y,data_test=True)"
   ]
  },
  {
   "cell_type": "code",
   "execution_count": null,
   "metadata": {},
   "outputs": [],
   "source": [
    "def multiple_plots():\n",
    "    "
   ]
  },
  {
   "cell_type": "code",
   "execution_count": null,
   "metadata": {},
   "outputs": [],
   "source": []
  }
 ],
 "metadata": {
  "kernelspec": {
   "display_name": "Python 3",
   "language": "python",
   "name": "python3"
  },
  "language_info": {
   "codemirror_mode": {
    "name": "ipython",
    "version": 3
   },
   "file_extension": ".py",
   "mimetype": "text/x-python",
   "name": "python",
   "nbconvert_exporter": "python",
   "pygments_lexer": "ipython3",
   "version": "3.7.3"
  }
 },
 "nbformat": 4,
 "nbformat_minor": 4
}
