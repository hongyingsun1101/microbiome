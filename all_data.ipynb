{
 "cells": [
  {
   "cell_type": "code",
   "execution_count": 1,
   "metadata": {
    "collapsed": false,
    "deletable": true,
    "editable": true,
    "jupyter": {
     "outputs_hidden": false
    }
   },
   "outputs": [],
   "source": [
    "import os\n",
    "from IPython.display import display, Image\n",
    "import pandas as pd\n",
    "import numpy as np\n",
    "import seaborn as sns\n",
    "import matplotlib.pyplot as plt\n",
    "from matplotlib import colors\n",
    "from matplotlib.ticker import PercentFormatter\n",
    "from scipy.stats import linregress\n",
    "import math\n",
    "from functools import reduce\n",
    "import matplotlib\n",
    "import argparse\n",
    "from Bio import SeqIO, Entrez, pairwise2\n",
    "Entrez.email = 'hongyingsun1101@gmail.com'\n",
    "from Bio.SeqRecord import SeqRecord\n",
    "import re, time\n",
    "import os, sys, glob\n",
    "import random\n",
    "import uuid\n",
    "# from skbio.tree import TreeNode\n",
    "# from skbio import read\n",
    "# from skbio.stats.distance import DistanceMatrix\n",
    "# from skbio.stats.distance import DissimilarityMatrix\n",
    "\n",
    "from scipy import stats\n",
    "from ast import literal_eval\n",
    "import sqlite3\n",
    "# roc curve and auc score\n",
    "from sklearn.datasets import make_classification\n",
    "from sklearn.neighbors import KNeighborsClassifier\n",
    "from sklearn.ensemble import RandomForestClassifier\n",
    "from sklearn.model_selection import train_test_split\n",
    "from sklearn.metrics import roc_curve\n",
    "from sklearn.metrics import roc_auc_score\n",
    "import warnings\n",
    "warnings.filterwarnings(\"ignore\")\n",
    "\n"
   ]
  },
  {
   "cell_type": "code",
   "execution_count": 15,
   "metadata": {
    "collapsed": true,
    "deletable": true,
    "editable": true,
    "jupyter": {
     "outputs_hidden": true
    }
   },
   "outputs": [],
   "source": [
    "import matplotlib.pyplot as plt"
   ]
  },
  {
   "cell_type": "code",
   "execution_count": 2,
   "metadata": {
    "collapsed": true,
    "deletable": true,
    "editable": true,
    "jupyter": {
     "outputs_hidden": true
    }
   },
   "outputs": [],
   "source": [
    "df = pd.read_csv(\"all_data.csv\", index_col=0)\n",
    "score= pd.read_csv(\"score_merged.csv\", index_col=0)"
   ]
  },
  {
   "cell_type": "code",
   "execution_count": 3,
   "metadata": {
    "collapsed": true,
    "deletable": true,
    "editable": true,
    "jupyter": {
     "outputs_hidden": true
    }
   },
   "outputs": [],
   "source": [
    "reference ={'A':\"RDP_10398\", 'B':'RDP_5224', 'C':\"RDP_1017\", 'D':'RDP_92', 'E':'RDP_12'}"
   ]
  },
  {
   "cell_type": "code",
   "execution_count": 4,
   "metadata": {
    "collapsed": false,
    "deletable": true,
    "editable": true,
    "jupyter": {
     "outputs_hidden": false
    }
   },
   "outputs": [
    {
     "data": {
      "text/plain": [
       "count    5974.000000\n",
       "mean        6.038165\n",
       "std         4.627806\n",
       "min         1.000000\n",
       "25%         1.000000\n",
       "50%         5.000000\n",
       "75%        11.000000\n",
       "max        17.000000\n",
       "Name: E_prichness, dtype: float64"
      ]
     },
     "execution_count": 4,
     "metadata": {},
     "output_type": "execute_result"
    }
   ],
   "source": [
    "df.E_prichness.describe()\n"
   ]
  },
  {
   "cell_type": "code",
   "execution_count": null,
   "metadata": {
    "collapsed": true,
    "deletable": true,
    "editable": true,
    "jupyter": {
     "outputs_hidden": true
    }
   },
   "outputs": [],
   "source": []
  },
  {
   "cell_type": "code",
   "execution_count": 5,
   "metadata": {
    "collapsed": true,
    "deletable": true,
    "editable": true,
    "jupyter": {
     "outputs_hidden": true
    }
   },
   "outputs": [],
   "source": [
    "#pplacer_ref_list = ['A','B','C', 'D','E'],pplacer_stats_list=['_adcl_log','_edpl', '_prichness'],community_list=['0','1','2','3','4'],cutoff_list=['mean','min','25%','50%','75%']\n"
   ]
  },
  {
   "cell_type": "code",
   "execution_count": 6,
   "metadata": {
    "collapsed": true,
    "deletable": true,
    "editable": true,
    "jupyter": {
     "outputs_hidden": true
    }
   },
   "outputs": [],
   "source": [
    "def is_float(string):\n",
    "  try:\n",
    "    return float(string) and '.' in string  # True if string is a number contains a dot\n",
    "  except ValueError:  # String is not a number\n",
    "    return False"
   ]
  },
  {
   "cell_type": "code",
   "execution_count": 7,
   "metadata": {
    "collapsed": false,
    "deletable": true,
    "editable": true,
    "jupyter": {
     "outputs_hidden": false
    }
   },
   "outputs": [
    {
     "data": {
      "text/plain": [
       "{'A': 'RDP_10398',\n",
       " 'B': 'RDP_5224',\n",
       " 'C': 'RDP_1017',\n",
       " 'D': 'RDP_92',\n",
       " 'E': 'RDP_12'}"
      ]
     },
     "execution_count": 7,
     "metadata": {},
     "output_type": "execute_result"
    }
   ],
   "source": [
    "reference"
   ]
  },
  {
   "cell_type": "code",
   "execution_count": 8,
   "metadata": {
    "collapsed": true,
    "deletable": true,
    "editable": true,
    "jupyter": {
     "outputs_hidden": true
    }
   },
   "outputs": [],
   "source": [
    "columnList=list(df.columns)"
   ]
  },
  {
   "cell_type": "code",
   "execution_count": 9,
   "metadata": {
    "collapsed": true,
    "deletable": true,
    "editable": true,
    "jupyter": {
     "outputs_hidden": true
    }
   },
   "outputs": [],
   "source": [
    "communityList = df.community"
   ]
  },
  {
   "cell_type": "code",
   "execution_count": 10,
   "metadata": {
    "collapsed": true,
    "deletable": true,
    "editable": true,
    "jupyter": {
     "outputs_hidden": true
    }
   },
   "outputs": [],
   "source": [
    "# df.describe()"
   ]
  },
  {
   "cell_type": "code",
   "execution_count": 16,
   "metadata": {
    "collapsed": true,
    "deletable": true,
    "editable": true,
    "jupyter": {
     "outputs_hidden": true
    }
   },
   "outputs": [],
   "source": [
    "def plot_pplacer(variable):\n",
    "    fig, axes = plt.subplots(nrows=3, ncols=2)\n",
    "    ax0, ax1, ax2, ax3, ax4, ax5 = axes.flatten()\n",
    "\n",
    "    ax0.hist(df['A'+variable])\n",
    "    ax0.set_title('A'+variable)\n",
    "\n",
    "    ax1.hist(df['B'+variable])\n",
    "    ax1.set_title('B'+variable)\n",
    "\n",
    "    ax2.hist(df['C'+variable])\n",
    "    ax2.set_title('C'+variable)\n",
    "\n",
    "    ax3.hist(df['D'+variable])\n",
    "    ax3.set_title('D'+variable)\n",
    "    ax4.hist(df['E'+variable])\n",
    "    ax4.set_title('E'+variable)\n"
   ]
  },
  {
   "cell_type": "code",
   "execution_count": 17,
   "metadata": {
    "collapsed": false,
    "deletable": true,
    "editable": true,
    "jupyter": {
     "outputs_hidden": false
    }
   },
   "outputs": [
    {
     "data": {
      "image/png": "[encoded data removed]",
      "text/plain": [
       "<Figure size 432x288 with 6 Axes>"
      ]
     },
     "metadata": {},
     "output_type": "display_data"
    }
   ],
   "source": [
    "plot_pplacer('_adcl_log')"
   ]
  },
  {
   "cell_type": "code",
   "execution_count": 18,
   "metadata": {
    "collapsed": false,
    "deletable": true,
    "editable": true,
    "jupyter": {
     "outputs_hidden": false
    }
   },
   "outputs": [
    {
     "data": {
      "image/png": "[encoded data removed]",
      "text/plain": [
       "<Figure size 432x288 with 6 Axes>"
      ]
     },
     "metadata": {},
     "output_type": "display_data"
    }
   ],
   "source": [
    "plot_pplacer('_edpl')"
   ]
  },
  {
   "cell_type": "code",
   "execution_count": 19,
   "metadata": {
    "collapsed": false,
    "deletable": true,
    "editable": true,
    "jupyter": {
     "outputs_hidden": false
    }
   },
   "outputs": [
    {
     "data": {
      "image/png": "[encoded data removed]",
      "text/plain": [
       "<Figure size 432x288 with 6 Axes>"
      ]
     },
     "metadata": {},
     "output_type": "display_data"
    }
   ],
   "source": [
    "\n",
    "plot_pplacer('_adcl_log')"
   ]
  },
  {
   "cell_type": "code",
   "execution_count": 20,
   "metadata": {
    "collapsed": false,
    "deletable": true,
    "editable": true,
    "jupyter": {
     "outputs_hidden": false
    }
   },
   "outputs": [
    {
     "data": {
      "image/png": "[encoded data removed]",
      "text/plain": [
       "<Figure size 432x288 with 6 Axes>"
      ]
     },
     "metadata": {},
     "output_type": "display_data"
    }
   ],
   "source": [
    "plot_pplacer('_prichness')"
   ]
  },
  {
   "cell_type": "code",
   "execution_count": 22,
   "metadata": {
    "collapsed": false,
    "deletable": true,
    "editable": true,
    "jupyter": {
     "outputs_hidden": false
    }
   },
   "outputs": [],
   "source": [
    "# plot_pplacer('0');"
   ]
  },
  {
   "cell_type": "code",
   "execution_count": 23,
   "metadata": {
    "collapsed": true,
    "deletable": true,
    "editable": true,
    "jupyter": {
     "outputs_hidden": true
    }
   },
   "outputs": [],
   "source": [
    "def plotScatter(reference,community):\n",
    "    fig, axes = plt.subplots(nrows=2, ncols=2)\n",
    "    ax0, ax1, ax2, ax3 = axes.flatten()\n",
    "\n",
    "    ax0.scatter(df[reference+'_adcl_log'], df[reference+community])\n",
    "    ax0.set_title(reference+community+' vs '+ reference + '_adcl_log')\n",
    "    \n",
    "    ax1.scatter(df[reference+'_edpl'], df[reference+community])\n",
    "    ax1.set_title(reference+community+' vs '+ reference + '_edpl')\n",
    "    \n",
    "    ax2.scatter(df[reference+'_mindistl'], df[reference+community])\n",
    "    ax2.set_title(reference+community+' vs '+ reference + '_mindistl')\n",
    "    \n",
    "    ax3.scatter(df[reference+'_prichness'], df[reference+community])\n",
    "    ax3.set_title(reference+community+' vs '+ reference + '_prichness')\n"
   ]
  },
  {
   "cell_type": "code",
   "execution_count": 24,
   "metadata": {
    "collapsed": false,
    "deletable": true,
    "editable": true,
    "jupyter": {
     "outputs_hidden": false
    }
   },
   "outputs": [
    {
     "data": {
      "image/png": "[encoded data removed]",
      "text/plain": [
       "<Figure size 432x288 with 4 Axes>"
      ]
     },
     "metadata": {},
     "output_type": "display_data"
    }
   ],
   "source": [
    "plotScatter('A','0')"
   ]
  },
  {
   "cell_type": "code",
   "execution_count": 25,
   "metadata": {
    "collapsed": false,
    "deletable": true,
    "editable": true,
    "jupyter": {
     "outputs_hidden": false
    }
   },
   "outputs": [
    {
     "data": {
      "image/png": "[encoded data removed]",
      "text/plain": [
       "<Figure size 432x288 with 4 Axes>"
      ]
     },
     "metadata": {},
     "output_type": "display_data"
    }
   ],
   "source": [
    "plotScatter('B','0')"
   ]
  },
  {
   "cell_type": "code",
   "execution_count": 26,
   "metadata": {
    "collapsed": false,
    "deletable": true,
    "editable": true,
    "jupyter": {
     "outputs_hidden": false
    }
   },
   "outputs": [
    {
     "data": {
      "image/png": "[encoded data removed]",
      "text/plain": [
       "<Figure size 432x288 with 6 Axes>"
      ]
     },
     "metadata": {},
     "output_type": "display_data"
    }
   ],
   "source": [
    "def plotScatterRef(variable,community):\n",
    "    fig, axes = plt.subplots(nrows=3, ncols=2)\n",
    "    ax0, ax1, ax2, ax3, ax4, ax5 = axes.flatten()\n",
    "\n",
    "    ax0.scatter(df['A'+variable], df['A'+community])\n",
    "    ax0.set_title('A' + community +' vs A' + variable)\n",
    "    ax1.scatter(df['B'+variable], df['B'+community])\n",
    "    ax1.set_title('B' + community +' vs B' + variable)\n",
    "    \n",
    "    ax2.scatter(df['C'+variable], df['C'+community])\n",
    "    ax2.set_title('C' + community +' vs C' + variable)\n",
    "    \n",
    "    ax3.scatter(df['D'+variable], df['D'+community])\n",
    "    ax3.set_title('D' + community +' vs D' + variable)  \n",
    "    \n",
    "    ax4.scatter(df['E'+variable], df['E'+community])\n",
    "    ax4.set_title('E' + community +' vs E' + variable)   \n",
    "    \n",
    "    ax5.scatter(df['E'+variable], df['E'+community])\n",
    "    ax5.set_title('E ' + community +'vs E' + variable)       \n",
    "\n",
    "\n",
    "    \n",
    "    \n",
    "plotScatterRef('_adcl_log','0');"
   ]
  },
  {
   "cell_type": "code",
   "execution_count": 27,
   "metadata": {
    "collapsed": false,
    "deletable": true,
    "editable": true,
    "jupyter": {
     "outputs_hidden": false
    }
   },
   "outputs": [
    {
     "data": {
      "image/png": "[encoded data removed]",
      "text/plain": [
       "<Figure size 432x288 with 6 Axes>"
      ]
     },
     "metadata": {},
     "output_type": "display_data"
    }
   ],
   "source": [
    "    \n",
    "plotScatterRef('_edpl','99');"
   ]
  },
  {
   "cell_type": "code",
   "execution_count": 28,
   "metadata": {
    "collapsed": true,
    "deletable": true,
    "editable": true,
    "jupyter": {
     "outputs_hidden": true
    }
   },
   "outputs": [],
   "source": [
    "cols=df.columns.tolist()\n",
    "# cols[:20]"
   ]
  },
  {
   "cell_type": "code",
   "execution_count": 29,
   "metadata": {
    "collapsed": true,
    "deletable": true,
    "editable": true,
    "jupyter": {
     "outputs_hidden": true
    }
   },
   "outputs": [],
   "source": [
    "def plot_roc_curve(fpr, tpr):\n",
    "    plt.plot(fpr, tpr, color='orange', label='ROC')\n",
    "    plt.plot([0, 1], [0, 1], color='darkblue', linestyle='--')\n",
    "    plt.xlabel('False Positive Rate')\n",
    "    plt.ylabel('True Positive Rate')\n",
    "    plt.title('Receiver Operating Characteristic (ROC) Curve')\n",
    "    plt.legend()\n",
    "    plt.show()"
   ]
  },
  {
   "cell_type": "code",
   "execution_count": 30,
   "metadata": {
    "collapsed": true,
    "deletable": true,
    "editable": true,
    "jupyter": {
     "outputs_hidden": true
    }
   },
   "outputs": [],
   "source": [
    "def plot_roc(data_X, class_label):\n",
    "    trainX, testX, trainy, testy = train_test_split(data_X, class_label, test_size=0.3, random_state=1)\n",
    "    model = RandomForestClassifier()\n",
    "    model.fit(trainX, trainy)\n",
    "    probs = model.predict_proba(testX)\n",
    "    probs = probs[:, 1]\n",
    "    auc = roc_auc_score(testy, probs)\n",
    "    fpr, tpr, thresholds = roc_curve(testy, probs)\n",
    "    optimal_idx = np.argmax(tpr - fpr)\n",
    "    optimal_threshold = thresholds[optimal_idx]\n",
    "    print('optimal_threshold: %.2f' % optimal_threshold)\n",
    "    print('AUC: %.2f' % auc)\n",
    "    print( thresholds)\n",
    "#     print( thresholds)\n",
    "#     print('Model: ')\n",
    "#     print(model)\n",
    "    plot_roc_curve(fpr, tpr)"
   ]
  },
  {
   "cell_type": "code",
   "execution_count": 31,
   "metadata": {
    "collapsed": false,
    "deletable": true,
    "editable": true,
    "jupyter": {
     "outputs_hidden": false
    }
   },
   "outputs": [
    {
     "name": "stdout",
     "output_type": "stream",
     "text": [
      "------------------\n",
      "AUROC    Categoroy\n",
      "------------------\n",
      "0.9-1.0  Very good\n",
      "0.8-0.9  Good     \n",
      "0.7-0.8  Fair     \n",
      "0.6-0.7  Poor     \n",
      "0.5-0.6  Fail     \n",
      "------------------\n"
     ]
    }
   ],
   "source": [
    "def makeTable(headerRow,columnizedData,columnSpacing=2):\n",
    "    \"\"\"Creates a technical paper style, left justified table\"\"\"\n",
    "    from numpy import array,max,vectorize\n",
    "\n",
    "    cols = array(columnizedData,dtype=str)\n",
    "    colSizes = [max(vectorize(len)(col)) for col in cols]\n",
    "\n",
    "    header = ''\n",
    "    rows = ['' for i in cols[0]]\n",
    "\n",
    "    for i in range(0,len(headerRow)):\n",
    "        if len(headerRow[i]) > colSizes[i]: colSizes[i]=len(headerRow[i])\n",
    "        headerRow[i]+=' '*(colSizes[i]-len(headerRow[i]))\n",
    "        header+=headerRow[i]\n",
    "        if not i == len(headerRow)-1: header+=' '*columnSpacing\n",
    "\n",
    "        for j in range(0,len(cols[i])):\n",
    "            if len(cols[i][j]) < colSizes[i]:\n",
    "                cols[i][j]+=' '*(colSizes[i]-len(cols[i][j])+columnSpacing)\n",
    "            rows[j]+=cols[i][j]\n",
    "            if not i == len(headerRow)-1: rows[j]+=' '*columnSpacing\n",
    "\n",
    "    line = '-'*len(header)\n",
    "    print(line)\n",
    "    print(header)\n",
    "    print(line)\n",
    "    for row in rows: print(row)\n",
    "    print(line)\n",
    "header = ['AUROC','Categoroy']\n",
    "cutoffs = ['0.9-1.0','0.8-0.9','0.7-0.8','0.6-0.7','0.5-0.6']\n",
    "evalualtion = ['Very good','Good','Fair', 'Poor', 'Fail']\n",
    "makeTable(header,[cutoffs,evalualtion])"
   ]
  },
  {
   "cell_type": "code",
   "execution_count": 32,
   "metadata": {
    "collapsed": true,
    "deletable": true,
    "editable": true,
    "jupyter": {
     "outputs_hidden": true
    }
   },
   "outputs": [],
   "source": [
    "def plot_roc_microbiome(data_X, class_label, x, y, data_test=False):\n",
    "    if(not data_test):\n",
    "#         print(\"data_set is False\")\n",
    "        trainX, testX, trainy, testy = train_test_split(data_X, class_label, test_size=0.3, random_state=1)\n",
    "        model = RandomForestClassifier()\n",
    "        model.fit(trainX, trainy)\n",
    "        probs = model.predict_proba(testX)\n",
    "        probs = probs[:, 1]\n",
    "        auc = roc_auc_score(testy, probs)\n",
    "        fpr, tpr, thresholds = roc_curve(testy, probs)\n",
    "        optimal_idx = np.argmax(tpr - fpr)\n",
    "        optimal_threshold = thresholds[optimal_idx]\n",
    "        print('optimal_threshold: %.2f' % optimal_threshold)\n",
    "        print('AUC: %.2f' % auc)\n",
    "        print('thresholds: ' + thresholds)\n",
    "\n",
    "        plot_roc_curve(fpr, tpr)\n",
    "\n",
    "    else:\n",
    "        print(\"data_set is True\")\n",
    "        trainX, testX, trainy, testy = train_test_split(data_X, class_label, test_size=0.3, random_state=1)\n",
    "        model = RandomForestClassifier()\n",
    "        model.fit(trainX, trainy)\n",
    "        probs1 = model.predict_proba(testX)\n",
    "        probs1 = probs1[:, 1]\n",
    "        auc1 = roc_auc_score(testy, probs1)\n",
    "        fpr1, tpr1, thresholds1 = roc_curve(testy, probs1)\n",
    "        optimal_idx1 = np.argmax(tpr1 - fpr1)\n",
    "        optimal_threshold1 = thresholds1[optimal_idx1]\n",
    "        print('AUC1: %.2f' % auc1)\n",
    "        print('optimal_threshold1: %.2f' % optimal_threshold1)\n",
    "        print(thresholds1)\n",
    "        plot_roc_curve(fpr1, tpr1)\n",
    "        \n",
    "        probs2 = model.predict_proba(x)\n",
    "        probs2 = probs2[:, 1]\n",
    "        auc2 = roc_auc_score(y, probs2)\n",
    "        fpr2, tpr2, thresholds2 = roc_curve(y, probs2)\n",
    "        optimal_idx2 = np.argmax(tpr2 - fpr2)\n",
    "        optimal_threshold2 = thresholds2[optimal_idx2]\n",
    "        print('AUC2: %.2f' % auc2)\n",
    "        print('optimal_threshold2: %.2f' % optimal_threshold2)\n",
    "        print( thresholds2)\n",
    "        plot_roc_curve(fpr2, tpr2)\n"
   ]
  },
  {
   "cell_type": "code",
   "execution_count": 33,
   "metadata": {
    "collapsed": true,
    "deletable": true,
    "editable": true,
    "jupyter": {
     "outputs_hidden": true
    }
   },
   "outputs": [],
   "source": [
    "def plot_roc_curve_microbiome(pplacer_ref_list, pplacer_stats_list, community_list, cutoff_list, scoreOption=True):\n",
    "    for (refIndex,pplacer_ref) in enumerate(pplacer_ref_list):\n",
    "#     for refIndex in range(len(pplacer_ref_list)):\n",
    "#         pplacer_ref = pplacer_ref_list[refIndex]\n",
    "        for (statsIndex,pplacer_stats) in enumerate(pplacer_stats_list):\n",
    "#         for statsIndex in range(len(pplacer_stats_list)):\n",
    "#             pplacer_stats = pplacer_stats_list[statsIndex]\n",
    "            for (communityIndex,community) in enumerate(community_list):\n",
    "#             for communityIndex in range(len(community_list)):\n",
    "#                 community = community_list[communityIndex]\n",
    "                for (i, cutoff) in enumerate(cutoff_list):\n",
    "#                 for i in range(len(cutoff_list)):\n",
    "#                     cutoff=cutoff_list[i]\n",
    "                    if(is_float(cutoff)):\n",
    "                        cutoff_binary=float(cutoff)\n",
    "                    else:\n",
    "                        if(scoreOption):\n",
    "                            cutoff_binary=float(df[pplacer_ref+community].describe().loc[[cutoff]])\n",
    "\n",
    "                        else:\n",
    "                            cutoff_binary = float(df[pplacer_ref+pplacer_stats].describe().loc[[cutoff]])\n",
    "                    if(scoreOption):\n",
    "                        mask = df[pplacer_ref+community] <=  cutoff_binary\n",
    "                        df.loc[mask, pplacer_ref+community+'_binary'] = 1\n",
    "                        mask = df[pplacer_ref+community] >cutoff_binary\n",
    "                        df.loc[mask, pplacer_ref+community+'_binary'] = 0\n",
    "                        df_binary = df[[pplacer_ref+pplacer_stats, pplacer_ref+community+'_binary']].dropna()\n",
    "                        data_stats = df_binary[pplacer_ref+pplacer_stats].to_numpy().reshape(-1,1)\n",
    "                        binary_label =  df_binary[pplacer_ref+community+'_binary'].to_numpy()\n",
    "                        print(' The score cutoff '+ cutoff +' for Reference ' + pplacer_ref +' community ' + community   + ' with pplacer_stats '+ pplacer_stats[1:] + ': %.2f' % cutoff_binary )\n",
    "                        plot_roc(data_stats,binary_label)\n",
    "                    else:\n",
    "                        mask = df[pplacer_ref+pplacer_stats] <=  cutoff_binary\n",
    "                        df.loc[mask, pplacer_ref+pplacer_stats+'_binary'] = 1\n",
    "                        mask = df[pplacer_ref+pplacer_stats] >cutoff_binary\n",
    "                        df.loc[mask, pplacer_ref+pplacer_stats+'_binary'] = 0\n",
    "                        df_binary = df[[pplacer_ref+community, pplacer_ref+pplacer_stats+'_binary']].dropna()\n",
    "                        data_stats = df_binary[pplacer_ref+community].to_numpy().reshape(-1,1)\n",
    "                        binary_label =  df_binary[pplacer_ref+pplacer_stats+'_binary'].to_numpy()\n",
    "                        print(' The pplacer_stats_cutoff '+ cutoff +' for Reference ' + pplacer_ref +' community ' + community + ' pplacer_stats '  + pplacer_stats[1:]  + ': %.2f' % cutoff_binary )\n",
    "                        plot_roc(data_stats,binary_label)\n",
    "                "
   ]
  },
  {
   "cell_type": "markdown",
   "metadata": {
    "deletable": true,
    "editable": true
   },
   "source": [
    "# different reference same pplacer stats same community to test different cutoffs  and different references for score"
   ]
  },
  {
   "cell_type": "code",
   "execution_count": 34,
   "metadata": {
    "collapsed": true,
    "deletable": true,
    "editable": true,
    "jupyter": {
     "outputs_hidden": true
    }
   },
   "outputs": [],
   "source": [
    "# plot_roc_curve_microbiome(pplacer_ref_list = ['A','B','C','D','E'],pplacer_stats_list=['_adcl_log'],community_list=['A'],cutoff_list=['mean', 'min','25%','50%','75%'],scoreOption=False)"
   ]
  },
  {
   "cell_type": "code",
   "execution_count": 35,
   "metadata": {
    "collapsed": false,
    "deletable": true,
    "editable": true,
    "jupyter": {
     "outputs_hidden": false
    }
   },
   "outputs": [
    {
     "data": {
      "text/plain": [
       "count    605.000000\n",
       "mean      14.601653\n",
       "std       25.354082\n",
       "min        0.000000\n",
       "25%        0.000000\n",
       "50%        2.000000\n",
       "75%        2.000000\n",
       "max       62.000000\n",
       "Name: E0, dtype: float64"
      ]
     },
     "execution_count": 35,
     "metadata": {},
     "output_type": "execute_result"
    }
   ],
   "source": [
    "df['E0'].describe()"
   ]
  },
  {
   "cell_type": "markdown",
   "metadata": {
    "deletable": true,
    "editable": true
   },
   "source": [
    "# Different reference same pplacer stats same community to test different cutoffs  and different references for adcl_log"
   ]
  },
  {
   "cell_type": "markdown",
   "metadata": {
    "deletable": true,
    "editable": true
   },
   "source": [
    "# Fitting on large reference and test on small reference datasets"
   ]
  },
  {
   "cell_type": "code",
   "execution_count": 36,
   "metadata": {
    "collapsed": true,
    "deletable": true,
    "editable": true,
    "jupyter": {
     "outputs_hidden": true
    }
   },
   "outputs": [],
   "source": [
    "def plot_roc_curve_microbiome_test2(pplacer_ref_list, pplacer_stats_list, community_list, cutoff_list, test_data_list, scoreOption=True, testOption=False):\n",
    "    for refIndex in range(len(pplacer_ref_list)):\n",
    "        pplacer_ref = pplacer_ref_list[refIndex]\n",
    "        for statsIndex in range(len(pplacer_stats_list)):\n",
    "            pplacer_stats = pplacer_stats_list[statsIndex]\n",
    "            for communityIndex in range(len(community_list)):\n",
    "                community = community_list[communityIndex]\n",
    "                for i in range(len(cutoff_list)):\n",
    "                    cutoff=cutoff_list[i]\n",
    "                    if(is_float(cutoff)):\n",
    "                        cutoff_binary=float(cutoff)\n",
    "                    else:\n",
    "                        if(scoreOption):\n",
    "                            cutoff_binary=float(df[pplacer_ref+community].describe().loc[[cutoff]])\n",
    "\n",
    "                        else:\n",
    "                            cutoff_binary = float(df[pplacer_ref+pplacer_stats].describe().loc[[cutoff]])\n",
    "                    # no test situation, which is the default option\n",
    "                    if (not testOption):\n",
    "\n",
    "                        if(scoreOption):\n",
    "                            mask = df[pplacer_ref+community] <=  cutoff_binary\n",
    "                            df.loc[mask, pplacer_ref+community+'_binary'] = 1\n",
    "                            mask = df[pplacer_ref+community] >cutoff_binary\n",
    "                            df.loc[mask, pplacer_ref+community+'_binary'] = 0\n",
    "                            df_binary = df[[pplacer_ref+pplacer_stats, pplacer_ref+community+'_binary']].dropna()\n",
    "                            data_stats = df_binary[pplacer_ref+pplacer_stats].to_numpy().reshape(-1,1)\n",
    "                            binary_label =  df_binary[pplacer_ref+community+'_binary'].to_numpy()\n",
    "                            print(' The score cutoff '+ cutoff +' for Reference ' + pplacer_ref +' community ' + community   + ' with pplacer_stats '+ pplacer_stats[1:] + ': %.2f' % cutoff_binary )\n",
    "                            # plot_roc(data_stats,binary_label)\n",
    "                            plot_roc_microbiome(data_stats,binary_label,x=None,y=None,data_test=False)\n",
    "                        else:\n",
    "                            mask = df[pplacer_ref+pplacer_stats] <=  cutoff_binary\n",
    "                            df.loc[mask, pplacer_ref+pplacer_stats+'_binary'] = 1\n",
    "                            mask = df[pplacer_ref+pplacer_stats] >cutoff_binary\n",
    "                            df.loc[mask, pplacer_ref+pplacer_stats+'_binary'] = 0\n",
    "                            df_binary = df[[pplacer_ref+community, pplacer_ref+pplacer_stats+'_binary']].dropna()\n",
    "                            data_stats = df_binary[pplacer_ref+community].to_numpy().reshape(-1,1)\n",
    "                            binary_label =  df_binary[pplacer_ref+pplacer_stats+'_binary'].to_numpy()\n",
    "                            print(' The pplacer_stats_cutoff '+ cutoff +' for Reference ' + pplacer_ref +' community ' + community + ' pplacer_stats '  + pplacer_stats[1:]  + ': %.2f' % cutoff_binary )\n",
    "                            # plot_roc(data_stats,binary_label)\n",
    "                            plot_roc_microbiome(data_stats,binary_label,x=None,y=None,data_test=False)\n",
    "                    \n",
    "                    # if there is test\n",
    "                    else:\n",
    "                        for j in range(len(test_data_list)):\n",
    "                            test=test_data_list[j]\n",
    "                            if(scoreOption):\n",
    "                                mask = df[pplacer_ref+community] <=  cutoff_binary\n",
    "                                df.loc[mask, pplacer_ref+community+'_binary'] = 1\n",
    "                                mask = df[pplacer_ref+community] >cutoff_binary\n",
    "                                df.loc[mask, pplacer_ref+community+'_binary'] = 0\n",
    "                                df_binary = df[[pplacer_ref+pplacer_stats, pplacer_ref+community+'_binary']].dropna()\n",
    "                                data_stats = df_binary[pplacer_ref+pplacer_stats].to_numpy().reshape(-1,1)\n",
    "                                binary_label =  df_binary[pplacer_ref+community+'_binary'].to_numpy()\n",
    "                                \n",
    "                                mask_test = df[test+community] <=  cutoff_binary\n",
    "                                df.loc[mask_test, test+community+'_binary'] = 1\n",
    "                                mask_test = df[test+community] >cutoff_binary\n",
    "                                df.loc[mask_test, test+community+'_binary'] = 0\n",
    "                                df_binary = df[[test+pplacer_stats, test+community+'_binary']].dropna()\n",
    "                                x = df_binary[test+pplacer_stats].to_numpy().reshape(-1,1)\n",
    "                                y =  df_binary[test+community+'_binary'].to_numpy()\n",
    "\n",
    "                                print(' The score cutoff '+ cutoff +' for Reference ' + pplacer_ref +' community ' + community   + ' with pplacer_stats '+ pplacer_stats[1:] + ' compared with test ' + test +': %.2f' % cutoff_binary )\n",
    "                                plot_roc_microbiome(data_stats,binary_label,x,y,data_test=True)\n",
    "                            else:\n",
    "\n",
    "                                mask = df[pplacer_ref+pplacer_stats] <=  cutoff_binary\n",
    "                                df.loc[mask, pplacer_ref+pplacer_stats+'_binary'] = 1\n",
    "                                mask = df[pplacer_ref+pplacer_stats] >cutoff_binary\n",
    "                                df.loc[mask, pplacer_ref+pplacer_stats+'_binary'] = 0\n",
    "                                df_binary = df[[pplacer_ref+community, pplacer_ref+pplacer_stats+'_binary']].dropna()\n",
    "                                data_stats = df_binary[pplacer_ref+community].to_numpy().reshape(-1,1)\n",
    "                                binary_label =  df_binary[pplacer_ref+pplacer_stats+'_binary'].to_numpy()\n",
    "                                \n",
    "                                mask_test = df[test+pplacer_stats] <=  cutoff_binary\n",
    "                                df.loc[mask_test, test+pplacer_stats+'_binary'] = 1\n",
    "                                mask_test = df[test+pplacer_stats] >cutoff_binary\n",
    "                                df.loc[mask_test, test+pplacer_stats+'_binary'] = 0\n",
    "                                df_binary = df[[test+community, test+pplacer_stats+'_binary']].dropna()\n",
    "                                x = df_binary[test+community].to_numpy().reshape(-1,1)\n",
    "                                y =  df_binary[test+pplacer_stats+'_binary'].to_numpy()\n",
    "                  \n",
    "                                print(' The pplacer_stats_cutoff '+ cutoff +' for Reference ' + pplacer_ref +' community ' + community + ' pplacer_stats '  + pplacer_stats[1:] + ' compared with test ' + test  + ': %.2f' % cutoff_binary )\n",
    "                                plot_roc_microbiome(data_stats,binary_label,x,y,data_test=True)"
   ]
  },
  {
   "cell_type": "markdown",
   "metadata": {
    "deletable": true,
    "editable": true
   },
   "source": [
    "## Model from larger reference sets to fit data used small reference set.  Could be worse on both directions"
   ]
  },
  {
   "cell_type": "code",
   "execution_count": 37,
   "metadata": {
    "collapsed": true,
    "deletable": true,
    "editable": true,
    "jupyter": {
     "outputs_hidden": true
    }
   },
   "outputs": [],
   "source": [
    "# plot_roc_curve_microbiome_test2(pplacer_ref_list = ['A'],pplacer_stats_list=['_adcl_log','_edpl','_prichness','_mindistl'],community_list=['0'],cutoff_list=['2.00'], test_data_list=['B','C','D','E'],testOption=True, scoreOption=True)"
   ]
  },
  {
   "cell_type": "code",
   "execution_count": 38,
   "metadata": {
    "collapsed": true,
    "deletable": true,
    "editable": true,
    "jupyter": {
     "outputs_hidden": true
    }
   },
   "outputs": [],
   "source": [
    "# plot_roc_curve_microbiome_test2(pplacer_ref_list = ['A'],pplacer_stats_list=['_adcl_log'],community_list=['0'],cutoff_list=['-4.00'], test_data_list=['B','C','D','E'],testOption=True, scoreOption=False)"
   ]
  },
  {
   "cell_type": "code",
   "execution_count": 39,
   "metadata": {
    "collapsed": true,
    "deletable": true,
    "editable": true,
    "jupyter": {
     "outputs_hidden": true
    }
   },
   "outputs": [],
   "source": [
    "# plot_roc_curve_microbiome_test2(pplacer_ref_list = ['A'],pplacer_stats_list=['_adcl_log'],community_list=['0'],cutoff_list=['25%'], test_data_list=['B','C'],testOption=True, scoreOption=False)"
   ]
  },
  {
   "cell_type": "code",
   "execution_count": 40,
   "metadata": {
    "collapsed": true,
    "deletable": true,
    "editable": true,
    "jupyter": {
     "outputs_hidden": true
    }
   },
   "outputs": [],
   "source": [
    "# plot_roc_curve_microbiome_test2(pplacer_ref_list = ['B'],pplacer_stats_list=['_adcl_log'],community_list=['0'],cutoff_list=['25%'], test_data_list=['A','C'],testOption=True, scoreOption=False)"
   ]
  },
  {
   "cell_type": "code",
   "execution_count": 41,
   "metadata": {
    "collapsed": true,
    "deletable": true,
    "editable": true,
    "jupyter": {
     "outputs_hidden": true
    }
   },
   "outputs": [],
   "source": [
    "# print(\"the head for df is {}\".format(df.head)+ \" the columns of the df is {}\".format(df.columns))\n",
    "#       "
   ]
  },
  {
   "cell_type": "code",
   "execution_count": 42,
   "metadata": {
    "collapsed": true,
    "deletable": true,
    "editable": true,
    "jupyter": {
     "outputs_hidden": true
    }
   },
   "outputs": [],
   "source": [
    "# df['A0'].describe(), df['B0'].describe(), df['C0'].describe(), df['D0'].describe(),df['E0'].describe()\n"
   ]
  },
  {
   "cell_type": "code",
   "execution_count": 43,
   "metadata": {
    "collapsed": true,
    "deletable": true,
    "editable": true,
    "jupyter": {
     "outputs_hidden": true
    }
   },
   "outputs": [],
   "source": [
    "\n",
    "# for community in ['A','B','C','D','E']:\n",
    "#     for i in range(10):\n",
    "#             print(df[community+str(i)].describe())\n"
   ]
  },
  {
   "cell_type": "code",
   "execution_count": 44,
   "metadata": {
    "collapsed": true,
    "deletable": true,
    "editable": true,
    "jupyter": {
     "outputs_hidden": true
    }
   },
   "outputs": [],
   "source": [
    "df_0 = df"
   ]
  },
  {
   "cell_type": "code",
   "execution_count": 45,
   "metadata": {
    "collapsed": true,
    "deletable": true,
    "editable": true,
    "jupyter": {
     "outputs_hidden": true
    }
   },
   "outputs": [],
   "source": [
    "# plot_pplacer('90')"
   ]
  },
  {
   "cell_type": "code",
   "execution_count": 46,
   "metadata": {
    "collapsed": true,
    "deletable": true,
    "editable": true,
    "jupyter": {
     "outputs_hidden": true
    }
   },
   "outputs": [],
   "source": [
    "# plotScatter('B','0')"
   ]
  },
  {
   "cell_type": "code",
   "execution_count": 47,
   "metadata": {
    "collapsed": true,
    "deletable": true,
    "editable": true,
    "jupyter": {
     "outputs_hidden": true
    }
   },
   "outputs": [],
   "source": [
    "# plotScatterRef('_adcl_log','0')"
   ]
  },
  {
   "cell_type": "code",
   "execution_count": 48,
   "metadata": {
    "collapsed": true,
    "deletable": true,
    "editable": true,
    "jupyter": {
     "outputs_hidden": true
    }
   },
   "outputs": [],
   "source": [
    "# plot_pplacer('_adcl_log')"
   ]
  },
  {
   "cell_type": "code",
   "execution_count": 49,
   "metadata": {
    "collapsed": false,
    "deletable": true,
    "editable": true,
    "jupyter": {
     "outputs_hidden": false
    }
   },
   "outputs": [
    {
     "data": {
      "text/plain": [
       "count    5974.000000\n",
       "mean       -4.083366\n",
       "std         1.837510\n",
       "min        -5.995679\n",
       "25%        -5.221126\n",
       "50%        -5.096367\n",
       "75%        -1.706947\n",
       "max        -0.344675\n",
       "Name: A_adcl_log, dtype: float64"
      ]
     },
     "execution_count": 49,
     "metadata": {},
     "output_type": "execute_result"
    }
   ],
   "source": [
    "df['A_adcl_log'].describe()\n",
    "\n"
   ]
  },
  {
   "cell_type": "code",
   "execution_count": 50,
   "metadata": {
    "collapsed": true,
    "deletable": true,
    "editable": true,
    "jupyter": {
     "outputs_hidden": true
    }
   },
   "outputs": [],
   "source": [
    "# plot_pplacer('0')"
   ]
  },
  {
   "cell_type": "code",
   "execution_count": 51,
   "metadata": {
    "collapsed": false,
    "deletable": true,
    "editable": true,
    "jupyter": {
     "outputs_hidden": false
    }
   },
   "outputs": [
    {
     "data": {
      "text/plain": [
       "count    605.000000\n",
       "mean       6.390083\n",
       "std       10.778008\n",
       "min        0.000000\n",
       "25%        2.000000\n",
       "50%        2.000000\n",
       "75%        2.000000\n",
       "max       38.000000\n",
       "Name: A0, dtype: float64"
      ]
     },
     "execution_count": 51,
     "metadata": {},
     "output_type": "execute_result"
    }
   ],
   "source": [
    "df['A0'].describe()\n"
   ]
  },
  {
   "cell_type": "code",
   "execution_count": 52,
   "metadata": {
    "collapsed": true,
    "deletable": true,
    "editable": true,
    "jupyter": {
     "outputs_hidden": true
    }
   },
   "outputs": [],
   "source": [
    "df1 = df[(df['A0']>10)]"
   ]
  },
  {
   "cell_type": "code",
   "execution_count": 53,
   "metadata": {
    "collapsed": false,
    "deletable": true,
    "editable": true,
    "jupyter": {
     "outputs_hidden": false
    }
   },
   "outputs": [
    {
     "data": {
      "text/plain": [
       "count    99.000000\n",
       "mean     28.626263\n",
       "std      10.791707\n",
       "min      12.000000\n",
       "25%      12.000000\n",
       "50%      32.000000\n",
       "75%      38.000000\n",
       "max      38.000000\n",
       "Name: A0, dtype: float64"
      ]
     },
     "execution_count": 53,
     "metadata": {},
     "output_type": "execute_result"
    }
   ],
   "source": [
    "df1['A0'].describe()"
   ]
  },
  {
   "cell_type": "code",
   "execution_count": 54,
   "metadata": {
    "collapsed": false,
    "deletable": true,
    "editable": true,
    "jupyter": {
     "outputs_hidden": false
    }
   },
   "outputs": [
    {
     "data": {
      "text/plain": [
       "0.16363636363636364"
      ]
     },
     "execution_count": 54,
     "metadata": {},
     "output_type": "execute_result"
    }
   ],
   "source": [
    "99/605"
   ]
  },
  {
   "cell_type": "code",
   "execution_count": 55,
   "metadata": {
    "collapsed": false,
    "deletable": true,
    "editable": true,
    "jupyter": {
     "outputs_hidden": false
    }
   },
   "outputs": [
    {
     "data": {
      "text/plain": [
       "count    99.000000\n",
       "mean     25.070707\n",
       "std      17.438670\n",
       "min       0.000000\n",
       "25%       0.000000\n",
       "50%      36.000000\n",
       "75%      38.000000\n",
       "max      38.000000\n",
       "Name: B0, dtype: float64"
      ]
     },
     "execution_count": 55,
     "metadata": {},
     "output_type": "execute_result"
    }
   ],
   "source": [
    "df1['B0'].describe()"
   ]
  },
  {
   "cell_type": "code",
   "execution_count": 56,
   "metadata": {
    "collapsed": true,
    "deletable": true,
    "editable": true,
    "jupyter": {
     "outputs_hidden": true
    }
   },
   "outputs": [],
   "source": [
    "df2=df[['seqID','A0','B0', 'C0','D0','E0']].dropna()"
   ]
  },
  {
   "cell_type": "code",
   "execution_count": 57,
   "metadata": {
    "collapsed": true,
    "deletable": true,
    "editable": true,
    "jupyter": {
     "outputs_hidden": true
    }
   },
   "outputs": [],
   "source": [
    "df3 = df2[(df2['A0']>10) & (df2['B0']>10)  & (df2['C0']>10)  & (df2['D0']>10) & (df2['E0']>10)]"
   ]
  },
  {
   "cell_type": "code",
   "execution_count": 58,
   "metadata": {
    "collapsed": true,
    "deletable": true,
    "editable": true,
    "jupyter": {
     "outputs_hidden": true
    }
   },
   "outputs": [],
   "source": [
    "# df2.describe(), df3.describe()"
   ]
  },
  {
   "cell_type": "code",
   "execution_count": 59,
   "metadata": {
    "collapsed": false,
    "deletable": true,
    "editable": true,
    "jupyter": {
     "outputs_hidden": false
    }
   },
   "outputs": [
    {
     "data": {
      "text/html": [
       "<div>\n",
       "<style scoped>\n",
       "    .dataframe tbody tr th:only-of-type {\n",
       "        vertical-align: middle;\n",
       "    }\n",
       "\n",
       "    .dataframe tbody tr th {\n",
       "        vertical-align: top;\n",
       "    }\n",
       "\n",
       "    .dataframe thead th {\n",
       "        text-align: right;\n",
       "    }\n",
       "</style>\n",
       "<table border=\"1\" class=\"dataframe\">\n",
       "  <thead>\n",
       "    <tr style=\"text-align: right;\">\n",
       "      <th></th>\n",
       "      <th>seqID</th>\n",
       "      <th>A0</th>\n",
       "      <th>B0</th>\n",
       "      <th>C0</th>\n",
       "      <th>D0</th>\n",
       "      <th>E0</th>\n",
       "    </tr>\n",
       "  </thead>\n",
       "  <tbody>\n",
       "    <tr>\n",
       "      <th>5313</th>\n",
       "      <td>CC11CM5SCR137ef78188b94db7b59504dc64363aa3</td>\n",
       "      <td>34.0</td>\n",
       "      <td>34.0</td>\n",
       "      <td>32.0</td>\n",
       "      <td>32.0</td>\n",
       "      <td>44.0</td>\n",
       "    </tr>\n",
       "    <tr>\n",
       "      <th>5314</th>\n",
       "      <td>CC11CM0SCR35529da454f0497fa16e04841e8e1639</td>\n",
       "      <td>34.0</td>\n",
       "      <td>34.0</td>\n",
       "      <td>32.0</td>\n",
       "      <td>32.0</td>\n",
       "      <td>44.0</td>\n",
       "    </tr>\n",
       "  </tbody>\n",
       "</table>\n",
       "</div>"
      ],
      "text/plain": [
       "                                           seqID    A0    B0    C0    D0    E0\n",
       "5313  CC11CM5SCR137ef78188b94db7b59504dc64363aa3  34.0  34.0  32.0  32.0  44.0\n",
       "5314  CC11CM0SCR35529da454f0497fa16e04841e8e1639  34.0  34.0  32.0  32.0  44.0"
      ]
     },
     "execution_count": 59,
     "metadata": {},
     "output_type": "execute_result"
    }
   ],
   "source": [
    "df3"
   ]
  },
  {
   "cell_type": "code",
   "execution_count": 60,
   "metadata": {
    "collapsed": false,
    "deletable": true,
    "editable": true,
    "jupyter": {
     "outputs_hidden": false
    }
   },
   "outputs": [
    {
     "data": {
      "text/plain": [
       "0.003305785123966942"
      ]
     },
     "execution_count": 60,
     "metadata": {},
     "output_type": "execute_result"
    }
   ],
   "source": [
    "2/605"
   ]
  },
  {
   "cell_type": "code",
   "execution_count": 61,
   "metadata": {
    "collapsed": true,
    "deletable": true,
    "editable": true,
    "jupyter": {
     "outputs_hidden": true
    }
   },
   "outputs": [],
   "source": [
    "dfc90 = df[(df['A90']>10) & (df['B90']>10)  & (df['C90']>10)  & (df['D90']>10) & (df['E90']>10)]"
   ]
  },
  {
   "cell_type": "code",
   "execution_count": 62,
   "metadata": {
    "collapsed": false,
    "deletable": true,
    "editable": true,
    "jupyter": {
     "outputs_hidden": false
    }
   },
   "outputs": [
    {
     "data": {
      "text/plain": [
       "count    0.0\n",
       "mean     NaN\n",
       "std      NaN\n",
       "min      NaN\n",
       "25%      NaN\n",
       "50%      NaN\n",
       "75%      NaN\n",
       "max      NaN\n",
       "Name: B0, dtype: float64"
      ]
     },
     "execution_count": 62,
     "metadata": {},
     "output_type": "execute_result"
    }
   ],
   "source": [
    "dfc90['B0'].describe()"
   ]
  },
  {
   "cell_type": "code",
   "execution_count": 63,
   "metadata": {
    "collapsed": false,
    "deletable": true,
    "editable": true,
    "jupyter": {
     "outputs_hidden": false
    }
   },
   "outputs": [
    {
     "data": {
      "text/plain": [
       "count    55.000000\n",
       "mean     -1.885119\n",
       "std       1.762885\n",
       "min      -5.300162\n",
       "25%      -1.773077\n",
       "50%      -1.040954\n",
       "75%      -0.682030\n",
       "max      -0.373058\n",
       "Name: C_adcl_log, dtype: float64"
      ]
     },
     "execution_count": 63,
     "metadata": {},
     "output_type": "execute_result"
    }
   ],
   "source": [
    "\n",
    "\n",
    "\n",
    "df[(df.community=='CC11CM0')]['C_adcl_log'].dropna().describe()"
   ]
  },
  {
   "cell_type": "code",
   "execution_count": 64,
   "metadata": {
    "collapsed": false,
    "deletable": true,
    "editable": true,
    "jupyter": {
     "outputs_hidden": false
    }
   },
   "outputs": [
    {
     "data": {
      "image/png": "[encoded data removed]",
      "text/plain": [
       "<Figure size 432x288 with 6 Axes>"
      ]
     },
     "metadata": {},
     "output_type": "display_data"
    }
   ],
   "source": [
    "plot_pplacer('_prichness')"
   ]
  },
  {
   "cell_type": "code",
   "execution_count": 65,
   "metadata": {
    "collapsed": false,
    "deletable": true,
    "editable": true,
    "jupyter": {
     "outputs_hidden": false
    }
   },
   "outputs": [
    {
     "data": {
      "text/plain": [
       "count    5974.000000\n",
       "mean        4.727653\n",
       "std         5.465596\n",
       "min         1.000000\n",
       "25%         1.000000\n",
       "50%         3.000000\n",
       "75%         5.000000\n",
       "max        20.000000\n",
       "Name: A_prichness, dtype: float64"
      ]
     },
     "execution_count": 65,
     "metadata": {},
     "output_type": "execute_result"
    }
   ],
   "source": [
    "df['A_prichness'].describe()"
   ]
  },
  {
   "cell_type": "code",
   "execution_count": 66,
   "metadata": {
    "collapsed": false,
    "deletable": true,
    "editable": true,
    "jupyter": {
     "outputs_hidden": false
    }
   },
   "outputs": [
    {
     "data": {
      "text/plain": [
       "99"
      ]
     },
     "execution_count": 66,
     "metadata": {},
     "output_type": "execute_result"
    }
   ],
   "source": [
    "df[df.A0>10].A0.count()"
   ]
  },
  {
   "cell_type": "code",
   "execution_count": 67,
   "metadata": {
    "collapsed": false,
    "deletable": true,
    "editable": true,
    "jupyter": {
     "outputs_hidden": false
    }
   },
   "outputs": [
    {
     "data": {
      "text/plain": [
       "0.16363636363636364"
      ]
     },
     "execution_count": 67,
     "metadata": {},
     "output_type": "execute_result"
    }
   ],
   "source": [
    "df[df.A0>10].A0.count()/df.A0.count()"
   ]
  },
  {
   "cell_type": "code",
   "execution_count": 68,
   "metadata": {
    "collapsed": true,
    "deletable": true,
    "editable": true,
    "jupyter": {
     "outputs_hidden": true
    }
   },
   "outputs": [],
   "source": [
    "\n",
    "# df.head()"
   ]
  },
  {
   "cell_type": "code",
   "execution_count": 69,
   "metadata": {
    "collapsed": false,
    "deletable": true,
    "editable": true,
    "jupyter": {
     "outputs_hidden": false
    }
   },
   "outputs": [
    {
     "data": {
      "text/plain": [
       "5974"
      ]
     },
     "execution_count": 69,
     "metadata": {},
     "output_type": "execute_result"
    }
   ],
   "source": [
    "df.A_adcl.count()"
   ]
  },
  {
   "cell_type": "code",
   "execution_count": 70,
   "metadata": {
    "collapsed": true,
    "deletable": true,
    "editable": true,
    "jupyter": {
     "outputs_hidden": true
    }
   },
   "outputs": [],
   "source": [
    "d={\"a\":1, \"b\":2}"
   ]
  },
  {
   "cell_type": "code",
   "execution_count": 71,
   "metadata": {
    "collapsed": false,
    "deletable": true,
    "editable": true,
    "jupyter": {
     "outputs_hidden": false
    }
   },
   "outputs": [
    {
     "data": {
      "text/plain": [
       "{'a': 1, 'b': 2}"
      ]
     },
     "execution_count": 71,
     "metadata": {},
     "output_type": "execute_result"
    }
   ],
   "source": [
    "d"
   ]
  },
  {
   "cell_type": "code",
   "execution_count": 72,
   "metadata": {
    "collapsed": true,
    "deletable": true,
    "editable": true,
    "jupyter": {
     "outputs_hidden": true
    }
   },
   "outputs": [],
   "source": [
    "dd = pd.Series(d, name='score')"
   ]
  },
  {
   "cell_type": "code",
   "execution_count": 73,
   "metadata": {
    "collapsed": true,
    "deletable": true,
    "editable": true,
    "jupyter": {
     "outputs_hidden": true
    }
   },
   "outputs": [],
   "source": [
    "\n",
    "dd.index.name=\"community\""
   ]
  },
  {
   "cell_type": "code",
   "execution_count": 74,
   "metadata": {
    "collapsed": false,
    "deletable": true,
    "editable": true,
    "jupyter": {
     "outputs_hidden": false
    }
   },
   "outputs": [
    {
     "data": {
      "text/html": [
       "<div>\n",
       "<style scoped>\n",
       "    .dataframe tbody tr th:only-of-type {\n",
       "        vertical-align: middle;\n",
       "    }\n",
       "\n",
       "    .dataframe tbody tr th {\n",
       "        vertical-align: top;\n",
       "    }\n",
       "\n",
       "    .dataframe thead th {\n",
       "        text-align: right;\n",
       "    }\n",
       "</style>\n",
       "<table border=\"1\" class=\"dataframe\">\n",
       "  <thead>\n",
       "    <tr style=\"text-align: right;\">\n",
       "      <th></th>\n",
       "      <th>community</th>\n",
       "      <th>score</th>\n",
       "    </tr>\n",
       "  </thead>\n",
       "  <tbody>\n",
       "    <tr>\n",
       "      <th>0</th>\n",
       "      <td>a</td>\n",
       "      <td>1</td>\n",
       "    </tr>\n",
       "    <tr>\n",
       "      <th>1</th>\n",
       "      <td>b</td>\n",
       "      <td>2</td>\n",
       "    </tr>\n",
       "  </tbody>\n",
       "</table>\n",
       "</div>"
      ],
      "text/plain": [
       "  community  score\n",
       "0         a      1\n",
       "1         b      2"
      ]
     },
     "execution_count": 74,
     "metadata": {},
     "output_type": "execute_result"
    }
   ],
   "source": [
    "dd.reset_index()"
   ]
  },
  {
   "cell_type": "code",
   "execution_count": 75,
   "metadata": {
    "collapsed": false,
    "deletable": true,
    "editable": true,
    "jupyter": {
     "outputs_hidden": false
    }
   },
   "outputs": [
    {
     "data": {
      "text/plain": [
       "'CC11CM0'"
      ]
     },
     "execution_count": 75,
     "metadata": {},
     "output_type": "execute_result"
    }
   ],
   "source": [
    "\"CC11CM\"+str(0)"
   ]
  },
  {
   "cell_type": "code",
   "execution_count": 76,
   "metadata": {
    "collapsed": true,
    "deletable": true,
    "editable": true,
    "jupyter": {
     "outputs_hidden": true
    }
   },
   "outputs": [],
   "source": [
    "c0=df['A0'][df['community']=='CC11CM0']"
   ]
  },
  {
   "cell_type": "code",
   "execution_count": 77,
   "metadata": {
    "collapsed": true,
    "deletable": true,
    "editable": true,
    "jupyter": {
     "outputs_hidden": true
    }
   },
   "outputs": [],
   "source": [
    "per=c0[c0>10].count()/c0.count()"
   ]
  },
  {
   "cell_type": "code",
   "execution_count": 78,
   "metadata": {
    "collapsed": true,
    "deletable": true,
    "editable": true,
    "jupyter": {
     "outputs_hidden": true
    }
   },
   "outputs": [],
   "source": [
    "def generateScore(stats, referenceID,scorecutoff,statscutoff):\n",
    "    d1={}\n",
    "    d2={}\n",
    "    for i in range(100):\n",
    "        values = df[referenceID+str(i)][df.community=='CC11CM'+str(i)]\n",
    "        statsvalues = df[stats][df['community']=='CC11CM'+str(i)]\n",
    "        d1['CC11CM'+str(i)] = values[values>scorecutoff].count()/values.count()\n",
    "        d2['CC11CM'+str(i)] =statsvalues[statsvalues>statscutoff].count()/statsvalues.count()\n",
    "    d1=pd.Series(d1, name=referenceID)\n",
    "    d1.index.name='community'\n",
    "    d1=d1.reset_index()\n",
    "    d2=pd.Series(d2, name=stats)\n",
    "    d2.index.name='community'\n",
    "    d2=d2.reset_index()\n",
    "    dt = pd.concat([d1,d2], axis=1)\n",
    "#     dt=dt.set_index('community')\n",
    "    return (dt)"
   ]
  },
  {
   "cell_type": "code",
   "execution_count": 79,
   "metadata": {
    "collapsed": true,
    "deletable": true,
    "editable": true,
    "jupyter": {
     "outputs_hidden": true
    }
   },
   "outputs": [],
   "source": [
    "dt=generateScore('A_adcl', 'A', 10, 0.001)"
   ]
  },
  {
   "cell_type": "code",
   "execution_count": 80,
   "metadata": {
    "collapsed": false,
    "deletable": true,
    "editable": true,
    "jupyter": {
     "outputs_hidden": false
    }
   },
   "outputs": [
    {
     "data": {
      "text/plain": [
       "<matplotlib.collections.PathCollection at 0x17a61c135f8>"
      ]
     },
     "execution_count": 80,
     "metadata": {},
     "output_type": "execute_result"
    },
    {
     "data": {
      "image/png": "[encoded data removed]",
      "text/plain": [
       "<Figure size 432x288 with 1 Axes>"
      ]
     },
     "metadata": {},
     "output_type": "display_data"
    }
   ],
   "source": [
    "plt.scatter(dt.A, dt.A_adcl)"
   ]
  },
  {
   "cell_type": "code",
   "execution_count": 81,
   "metadata": {
    "collapsed": true,
    "deletable": true,
    "editable": true,
    "jupyter": {
     "outputs_hidden": true
    }
   },
   "outputs": [],
   "source": [
    "\n",
    "t=[]\n",
    "for referenceID in ['A','B','C','D','E']:\n",
    "    t.append(generateScore('A_adcl', referenceID, 10, 0.001))"
   ]
  },
  {
   "cell_type": "code",
   "execution_count": 82,
   "metadata": {
    "collapsed": false,
    "deletable": true,
    "editable": true,
    "jupyter": {
     "outputs_hidden": false
    }
   },
   "outputs": [
    {
     "data": {
      "text/html": [
       "<div>\n",
       "<style scoped>\n",
       "    .dataframe tbody tr th:only-of-type {\n",
       "        vertical-align: middle;\n",
       "    }\n",
       "\n",
       "    .dataframe tbody tr th {\n",
       "        vertical-align: top;\n",
       "    }\n",
       "\n",
       "    .dataframe thead th {\n",
       "        text-align: right;\n",
       "    }\n",
       "</style>\n",
       "<table border=\"1\" class=\"dataframe\">\n",
       "  <thead>\n",
       "    <tr style=\"text-align: right;\">\n",
       "      <th></th>\n",
       "      <th>community</th>\n",
       "      <th>A</th>\n",
       "      <th>community</th>\n",
       "      <th>A_adcl</th>\n",
       "    </tr>\n",
       "  </thead>\n",
       "  <tbody>\n",
       "    <tr>\n",
       "      <th>0</th>\n",
       "      <td>CC11CM0</td>\n",
       "      <td>0.090909</td>\n",
       "      <td>CC11CM0</td>\n",
       "      <td>0.236364</td>\n",
       "    </tr>\n",
       "    <tr>\n",
       "      <th>1</th>\n",
       "      <td>CC11CM1</td>\n",
       "      <td>0.082192</td>\n",
       "      <td>CC11CM1</td>\n",
       "      <td>0.328767</td>\n",
       "    </tr>\n",
       "    <tr>\n",
       "      <th>2</th>\n",
       "      <td>CC11CM10</td>\n",
       "      <td>0.075758</td>\n",
       "      <td>CC11CM10</td>\n",
       "      <td>0.272727</td>\n",
       "    </tr>\n",
       "    <tr>\n",
       "      <th>3</th>\n",
       "      <td>CC11CM11</td>\n",
       "      <td>0.046154</td>\n",
       "      <td>CC11CM11</td>\n",
       "      <td>0.323077</td>\n",
       "    </tr>\n",
       "    <tr>\n",
       "      <th>4</th>\n",
       "      <td>CC11CM12</td>\n",
       "      <td>0.046875</td>\n",
       "      <td>CC11CM12</td>\n",
       "      <td>0.281250</td>\n",
       "    </tr>\n",
       "  </tbody>\n",
       "</table>\n",
       "</div>"
      ],
      "text/plain": [
       "  community         A community    A_adcl\n",
       "0   CC11CM0  0.090909   CC11CM0  0.236364\n",
       "1   CC11CM1  0.082192   CC11CM1  0.328767\n",
       "2  CC11CM10  0.075758  CC11CM10  0.272727\n",
       "3  CC11CM11  0.046154  CC11CM11  0.323077\n",
       "4  CC11CM12  0.046875  CC11CM12  0.281250"
      ]
     },
     "execution_count": 82,
     "metadata": {},
     "output_type": "execute_result"
    }
   ],
   "source": [
    "\n",
    "\n",
    "t[0].head()"
   ]
  },
  {
   "cell_type": "code",
   "execution_count": 83,
   "metadata": {
    "collapsed": true,
    "deletable": true,
    "editable": true,
    "jupyter": {
     "outputs_hidden": true
    }
   },
   "outputs": [],
   "source": [
    "tt = pd.concat([t[0],t[1],t[2],t[3],t[4]], axis=1)"
   ]
  },
  {
   "cell_type": "code",
   "execution_count": 84,
   "metadata": {
    "collapsed": true,
    "deletable": true,
    "editable": true,
    "jupyter": {
     "outputs_hidden": true
    }
   },
   "outputs": [],
   "source": [
    "def generateScoreu(stats, referenceID,scorecutoff,statscutoff):\n",
    "    d1={}\n",
    "    d2={}\n",
    "    for i in range(100):\n",
    "        values = df[referenceID+str(i)][df.community=='CC11CM'+str(i)]\n",
    "        statsvalues = df[referenceID+stats][df['community']=='CC11CM'+str(i)]\n",
    "        d1['CC11CM'+str(i)] = values[values>scorecutoff].count()/values.count()\n",
    "        d2['CC11CM'+str(i)] =statsvalues[statsvalues>statscutoff].count()/statsvalues.count()\n",
    "    d1=pd.Series(d1, name=referenceID)\n",
    "    d1.index.name='community'\n",
    "    d1=d1.reset_index()\n",
    "    d2=pd.Series(d2, name=referenceID+stats)\n",
    "    d2.index.name='community'\n",
    "    d2=d2.reset_index()\n",
    "    dt = pd.concat([d1,d2], axis=1)\n",
    "    dt=dt.loc[:, ~dt.columns.duplicated()]\n",
    "    dt=dt.set_index('community')\n",
    "    return (dt)"
   ]
  },
  {
   "cell_type": "code",
   "execution_count": 85,
   "metadata": {
    "collapsed": true,
    "deletable": true,
    "editable": true,
    "jupyter": {
     "outputs_hidden": true
    }
   },
   "outputs": [],
   "source": [
    "dtu=generateScoreu('_adcl', 'A', 10, 0.001)"
   ]
  },
  {
   "cell_type": "code",
   "execution_count": 86,
   "metadata": {
    "collapsed": false,
    "deletable": true,
    "editable": true,
    "jupyter": {
     "outputs_hidden": false
    }
   },
   "outputs": [
    {
     "data": {
      "text/plain": [
       "<matplotlib.collections.PathCollection at 0x17a61ddf5c0>"
      ]
     },
     "execution_count": 86,
     "metadata": {},
     "output_type": "execute_result"
    },
    {
     "data": {
      "image/png": "[encoded data removed]",
      "text/plain": [
       "<Figure size 432x288 with 1 Axes>"
      ]
     },
     "metadata": {},
     "output_type": "display_data"
    }
   ],
   "source": [
    "plt.scatter(dtu.A, dtu.A_adcl)"
   ]
  },
  {
   "cell_type": "code",
   "execution_count": null,
   "metadata": {
    "collapsed": true,
    "deletable": true,
    "editable": true,
    "jupyter": {
     "outputs_hidden": true
    }
   },
   "outputs": [],
   "source": []
  },
  {
   "cell_type": "code",
   "execution_count": 87,
   "metadata": {
    "collapsed": true,
    "deletable": true,
    "editable": true,
    "jupyter": {
     "outputs_hidden": true
    }
   },
   "outputs": [],
   "source": [
    "t=[]\n",
    "statsdir= {'_adcl':0.0001, '_edpl':0,'_prichness':10,'_mindistl':0.05}\n",
    "for stats in statsdir.keys():\n",
    "\n",
    "    for referenceID in ['A','B','C','D','E']:\n",
    "        t.append(generateScoreu(stats, referenceID, 10, statsdir[stats]))"
   ]
  },
  {
   "cell_type": "code",
   "execution_count": null,
   "metadata": {
    "collapsed": true,
    "deletable": true,
    "editable": true,
    "jupyter": {
     "outputs_hidden": true
    }
   },
   "outputs": [],
   "source": []
  },
  {
   "cell_type": "code",
   "execution_count": 88,
   "metadata": {
    "collapsed": true,
    "deletable": true,
    "editable": true,
    "jupyter": {
     "outputs_hidden": true
    }
   },
   "outputs": [],
   "source": [
    "ttt = pd.concat([t[0],t[1],t[2],t[3],t[4],t[5],t[6],t[7],t[8],t[9],t[10],t[11],t[12],t[13],t[14],t[15],t[16],t[17],t[18],t[19]], axis=1)\n",
    "ttt=ttt.loc[:, ~ttt.columns.duplicated()]"
   ]
  },
  {
   "cell_type": "code",
   "execution_count": 89,
   "metadata": {
    "collapsed": true,
    "deletable": true,
    "editable": true,
    "jupyter": {
     "outputs_hidden": true
    }
   },
   "outputs": [],
   "source": [
    "# ttt.describe()"
   ]
  },
  {
   "cell_type": "code",
   "execution_count": 90,
   "metadata": {
    "collapsed": true,
    "deletable": true,
    "editable": true,
    "jupyter": {
     "outputs_hidden": true
    }
   },
   "outputs": [],
   "source": [
    "ttt.to_csv(\"community-based.csv\")"
   ]
  },
  {
   "cell_type": "code",
   "execution_count": 91,
   "metadata": {
    "collapsed": false,
    "deletable": true,
    "editable": true,
    "jupyter": {
     "outputs_hidden": false
    }
   },
   "outputs": [
    {
     "data": {
      "text/plain": [
       "(array([5.696e+03, 1.570e+02, 6.800e+01, 0.000e+00, 2.200e+01, 0.000e+00,\n",
       "        0.000e+00, 5.000e+00, 0.000e+00, 2.600e+01]),\n",
       " array([3.48920365e-07, 2.98496853e-02, 5.96990217e-02, 8.95483581e-02,\n",
       "        1.19397695e-01, 1.49247031e-01, 1.79096367e-01, 2.08945704e-01,\n",
       "        2.38795040e-01, 2.68644377e-01, 2.98493713e-01]),\n",
       " <a list of 10 Patch objects>)"
      ]
     },
     "execution_count": 91,
     "metadata": {},
     "output_type": "execute_result"
    },
    {
     "data": {
      "image/png": "[encoded data removed]",
      "text/plain": [
       "<Figure size 432x288 with 1 Axes>"
      ]
     },
     "metadata": {},
     "output_type": "display_data"
    }
   ],
   "source": [
    "\n",
    "plt.hist(df.A_mindistl)"
   ]
  },
  {
   "cell_type": "code",
   "execution_count": 92,
   "metadata": {
    "collapsed": true,
    "deletable": true,
    "editable": true,
    "jupyter": {
     "outputs_hidden": true
    }
   },
   "outputs": [],
   "source": [
    "\n",
    "dp =pd.read_csv(\"community-based.csv\", index_col=0)"
   ]
  },
  {
   "cell_type": "code",
   "execution_count": 93,
   "metadata": {
    "collapsed": false,
    "deletable": true,
    "editable": true,
    "jupyter": {
     "outputs_hidden": false
    }
   },
   "outputs": [
    {
     "data": {
      "text/html": [
       "<div>\n",
       "<style scoped>\n",
       "    .dataframe tbody tr th:only-of-type {\n",
       "        vertical-align: middle;\n",
       "    }\n",
       "\n",
       "    .dataframe tbody tr th {\n",
       "        vertical-align: top;\n",
       "    }\n",
       "\n",
       "    .dataframe thead th {\n",
       "        text-align: right;\n",
       "    }\n",
       "</style>\n",
       "<table border=\"1\" class=\"dataframe\">\n",
       "  <thead>\n",
       "    <tr style=\"text-align: right;\">\n",
       "      <th></th>\n",
       "      <th>A</th>\n",
       "      <th>A_mindistl</th>\n",
       "      <th>B</th>\n",
       "      <th>B_mindistl</th>\n",
       "      <th>C</th>\n",
       "      <th>C_mindistl</th>\n",
       "      <th>D</th>\n",
       "      <th>D_mindistl</th>\n",
       "      <th>E</th>\n",
       "      <th>E_mindistl</th>\n",
       "      <th>...</th>\n",
       "      <th>A_adcl</th>\n",
       "      <th>B_adcl</th>\n",
       "      <th>C_adcl</th>\n",
       "      <th>D_adcl</th>\n",
       "      <th>E_adcl</th>\n",
       "      <th>A_prichness</th>\n",
       "      <th>B_prichness</th>\n",
       "      <th>C_prichness</th>\n",
       "      <th>D_prichness</th>\n",
       "      <th>E_prichness</th>\n",
       "    </tr>\n",
       "  </thead>\n",
       "  <tbody>\n",
       "    <tr>\n",
       "      <th>count</th>\n",
       "      <td>100.000000</td>\n",
       "      <td>100.000000</td>\n",
       "      <td>100.000000</td>\n",
       "      <td>100.000000</td>\n",
       "      <td>100.000000</td>\n",
       "      <td>100.000000</td>\n",
       "      <td>100.000000</td>\n",
       "      <td>100.000000</td>\n",
       "      <td>100.000000</td>\n",
       "      <td>100.000000</td>\n",
       "      <td>...</td>\n",
       "      <td>100.000000</td>\n",
       "      <td>100.000000</td>\n",
       "      <td>100.000000</td>\n",
       "      <td>100.000000</td>\n",
       "      <td>100.000000</td>\n",
       "      <td>100.000000</td>\n",
       "      <td>100.000000</td>\n",
       "      <td>100.000000</td>\n",
       "      <td>100.000000</td>\n",
       "      <td>100.000000</td>\n",
       "    </tr>\n",
       "    <tr>\n",
       "      <th>mean</th>\n",
       "      <td>0.055034</td>\n",
       "      <td>0.025369</td>\n",
       "      <td>0.116043</td>\n",
       "      <td>0.114361</td>\n",
       "      <td>0.318386</td>\n",
       "      <td>0.097589</td>\n",
       "      <td>0.647292</td>\n",
       "      <td>0.198869</td>\n",
       "      <td>0.229600</td>\n",
       "      <td>0.290481</td>\n",
       "      <td>...</td>\n",
       "      <td>0.277586</td>\n",
       "      <td>0.557102</td>\n",
       "      <td>0.799584</td>\n",
       "      <td>0.962263</td>\n",
       "      <td>0.989559</td>\n",
       "      <td>0.140234</td>\n",
       "      <td>0.147809</td>\n",
       "      <td>0.142149</td>\n",
       "      <td>0.160060</td>\n",
       "      <td>0.304304</td>\n",
       "    </tr>\n",
       "    <tr>\n",
       "      <th>std</th>\n",
       "      <td>0.024318</td>\n",
       "      <td>0.018591</td>\n",
       "      <td>0.032415</td>\n",
       "      <td>0.030794</td>\n",
       "      <td>0.048526</td>\n",
       "      <td>0.030017</td>\n",
       "      <td>0.051736</td>\n",
       "      <td>0.042808</td>\n",
       "      <td>0.045910</td>\n",
       "      <td>0.047167</td>\n",
       "      <td>...</td>\n",
       "      <td>0.049060</td>\n",
       "      <td>0.054352</td>\n",
       "      <td>0.044362</td>\n",
       "      <td>0.017520</td>\n",
       "      <td>0.008343</td>\n",
       "      <td>0.035764</td>\n",
       "      <td>0.041895</td>\n",
       "      <td>0.037576</td>\n",
       "      <td>0.034324</td>\n",
       "      <td>0.042562</td>\n",
       "    </tr>\n",
       "    <tr>\n",
       "      <th>min</th>\n",
       "      <td>0.000000</td>\n",
       "      <td>0.000000</td>\n",
       "      <td>0.051724</td>\n",
       "      <td>0.037037</td>\n",
       "      <td>0.216667</td>\n",
       "      <td>0.033333</td>\n",
       "      <td>0.491803</td>\n",
       "      <td>0.109091</td>\n",
       "      <td>0.097222</td>\n",
       "      <td>0.156863</td>\n",
       "      <td>...</td>\n",
       "      <td>0.142857</td>\n",
       "      <td>0.406780</td>\n",
       "      <td>0.666667</td>\n",
       "      <td>0.916667</td>\n",
       "      <td>0.975000</td>\n",
       "      <td>0.052632</td>\n",
       "      <td>0.042553</td>\n",
       "      <td>0.056604</td>\n",
       "      <td>0.080645</td>\n",
       "      <td>0.190476</td>\n",
       "    </tr>\n",
       "    <tr>\n",
       "      <th>25%</th>\n",
       "      <td>0.037736</td>\n",
       "      <td>0.015873</td>\n",
       "      <td>0.095238</td>\n",
       "      <td>0.095013</td>\n",
       "      <td>0.285119</td>\n",
       "      <td>0.079132</td>\n",
       "      <td>0.612455</td>\n",
       "      <td>0.172414</td>\n",
       "      <td>0.193768</td>\n",
       "      <td>0.265789</td>\n",
       "      <td>...</td>\n",
       "      <td>0.246154</td>\n",
       "      <td>0.516532</td>\n",
       "      <td>0.773585</td>\n",
       "      <td>0.949788</td>\n",
       "      <td>0.983051</td>\n",
       "      <td>0.118395</td>\n",
       "      <td>0.123077</td>\n",
       "      <td>0.120690</td>\n",
       "      <td>0.144585</td>\n",
       "      <td>0.274194</td>\n",
       "    </tr>\n",
       "    <tr>\n",
       "      <th>50%</th>\n",
       "      <td>0.052178</td>\n",
       "      <td>0.020221</td>\n",
       "      <td>0.112007</td>\n",
       "      <td>0.111111</td>\n",
       "      <td>0.315789</td>\n",
       "      <td>0.096774</td>\n",
       "      <td>0.649561</td>\n",
       "      <td>0.196400</td>\n",
       "      <td>0.229508</td>\n",
       "      <td>0.298507</td>\n",
       "      <td>...</td>\n",
       "      <td>0.275986</td>\n",
       "      <td>0.563333</td>\n",
       "      <td>0.800000</td>\n",
       "      <td>0.966667</td>\n",
       "      <td>0.984615</td>\n",
       "      <td>0.137147</td>\n",
       "      <td>0.146257</td>\n",
       "      <td>0.140351</td>\n",
       "      <td>0.155048</td>\n",
       "      <td>0.306452</td>\n",
       "    </tr>\n",
       "    <tr>\n",
       "      <th>75%</th>\n",
       "      <td>0.072530</td>\n",
       "      <td>0.034044</td>\n",
       "      <td>0.136310</td>\n",
       "      <td>0.134615</td>\n",
       "      <td>0.346392</td>\n",
       "      <td>0.114754</td>\n",
       "      <td>0.682738</td>\n",
       "      <td>0.229823</td>\n",
       "      <td>0.261943</td>\n",
       "      <td>0.323077</td>\n",
       "      <td>...</td>\n",
       "      <td>0.301587</td>\n",
       "      <td>0.600000</td>\n",
       "      <td>0.830769</td>\n",
       "      <td>0.978723</td>\n",
       "      <td>1.000000</td>\n",
       "      <td>0.164801</td>\n",
       "      <td>0.179410</td>\n",
       "      <td>0.157540</td>\n",
       "      <td>0.180082</td>\n",
       "      <td>0.338524</td>\n",
       "    </tr>\n",
       "    <tr>\n",
       "      <th>max</th>\n",
       "      <td>0.129032</td>\n",
       "      <td>0.096774</td>\n",
       "      <td>0.209677</td>\n",
       "      <td>0.187500</td>\n",
       "      <td>0.448980</td>\n",
       "      <td>0.203390</td>\n",
       "      <td>0.786885</td>\n",
       "      <td>0.333333</td>\n",
       "      <td>0.339623</td>\n",
       "      <td>0.387755</td>\n",
       "      <td>...</td>\n",
       "      <td>0.416667</td>\n",
       "      <td>0.682540</td>\n",
       "      <td>0.888889</td>\n",
       "      <td>1.000000</td>\n",
       "      <td>1.000000</td>\n",
       "      <td>0.235294</td>\n",
       "      <td>0.240741</td>\n",
       "      <td>0.254545</td>\n",
       "      <td>0.244898</td>\n",
       "      <td>0.393443</td>\n",
       "    </tr>\n",
       "  </tbody>\n",
       "</table>\n",
       "<p>8 rows × 25 columns</p>\n",
       "</div>"
      ],
      "text/plain": [
       "                A  A_mindistl           B  B_mindistl           C  C_mindistl  \\\n",
       "count  100.000000  100.000000  100.000000  100.000000  100.000000  100.000000   \n",
       "mean     0.055034    0.025369    0.116043    0.114361    0.318386    0.097589   \n",
       "std      0.024318    0.018591    0.032415    0.030794    0.048526    0.030017   \n",
       "min      0.000000    0.000000    0.051724    0.037037    0.216667    0.033333   \n",
       "25%      0.037736    0.015873    0.095238    0.095013    0.285119    0.079132   \n",
       "50%      0.052178    0.020221    0.112007    0.111111    0.315789    0.096774   \n",
       "75%      0.072530    0.034044    0.136310    0.134615    0.346392    0.114754   \n",
       "max      0.129032    0.096774    0.209677    0.187500    0.448980    0.203390   \n",
       "\n",
       "                D  D_mindistl           E  E_mindistl     ...       \\\n",
       "count  100.000000  100.000000  100.000000  100.000000     ...        \n",
       "mean     0.647292    0.198869    0.229600    0.290481     ...        \n",
       "std      0.051736    0.042808    0.045910    0.047167     ...        \n",
       "min      0.491803    0.109091    0.097222    0.156863     ...        \n",
       "25%      0.612455    0.172414    0.193768    0.265789     ...        \n",
       "50%      0.649561    0.196400    0.229508    0.298507     ...        \n",
       "75%      0.682738    0.229823    0.261943    0.323077     ...        \n",
       "max      0.786885    0.333333    0.339623    0.387755     ...        \n",
       "\n",
       "           A_adcl      B_adcl      C_adcl      D_adcl      E_adcl  \\\n",
       "count  100.000000  100.000000  100.000000  100.000000  100.000000   \n",
       "mean     0.277586    0.557102    0.799584    0.962263    0.989559   \n",
       "std      0.049060    0.054352    0.044362    0.017520    0.008343   \n",
       "min      0.142857    0.406780    0.666667    0.916667    0.975000   \n",
       "25%      0.246154    0.516532    0.773585    0.949788    0.983051   \n",
       "50%      0.275986    0.563333    0.800000    0.966667    0.984615   \n",
       "75%      0.301587    0.600000    0.830769    0.978723    1.000000   \n",
       "max      0.416667    0.682540    0.888889    1.000000    1.000000   \n",
       "\n",
       "       A_prichness  B_prichness  C_prichness  D_prichness  E_prichness  \n",
       "count   100.000000   100.000000   100.000000   100.000000   100.000000  \n",
       "mean      0.140234     0.147809     0.142149     0.160060     0.304304  \n",
       "std       0.035764     0.041895     0.037576     0.034324     0.042562  \n",
       "min       0.052632     0.042553     0.056604     0.080645     0.190476  \n",
       "25%       0.118395     0.123077     0.120690     0.144585     0.274194  \n",
       "50%       0.137147     0.146257     0.140351     0.155048     0.306452  \n",
       "75%       0.164801     0.179410     0.157540     0.180082     0.338524  \n",
       "max       0.235294     0.240741     0.254545     0.244898     0.393443  \n",
       "\n",
       "[8 rows x 25 columns]"
      ]
     },
     "execution_count": 93,
     "metadata": {},
     "output_type": "execute_result"
    }
   ],
   "source": [
    "\n",
    "dp.describe()"
   ]
  },
  {
   "cell_type": "code",
   "execution_count": 94,
   "metadata": {
    "collapsed": false,
    "deletable": true,
    "editable": true,
    "jupyter": {
     "outputs_hidden": false
    }
   },
   "outputs": [
    {
     "data": {
      "image/png": "[encoded data removed]",
      "text/plain": [
       "<Figure size 432x288 with 1 Axes>"
      ]
     },
     "metadata": {},
     "output_type": "display_data"
    }
   ],
   "source": [
    "\n",
    "\n",
    "for score in ['A','B','C','D','E'][0:1]:\n",
    "    for stats in ['_adcl', '_edpl','_prichness','_mindistl'][0:1]:\n",
    "        plt.scatter(dp[score], dp[score+stats], label=score + ' vs '+ score+stats)\n",
    "        plt.legend(loc='upper left')\n",
    "        plt.show"
   ]
  },
  {
   "cell_type": "code",
   "execution_count": null,
   "metadata": {
    "collapsed": true,
    "deletable": true,
    "editable": true,
    "jupyter": {
     "outputs_hidden": true
    }
   },
   "outputs": [],
   "source": [
    "\n",
    "\n"
   ]
  },
  {
   "cell_type": "code",
   "execution_count": 95,
   "metadata": {
    "collapsed": false,
    "deletable": true,
    "editable": true,
    "jupyter": {
     "outputs_hidden": false
    }
   },
   "outputs": [
    {
     "data": {
      "image/png": "[encoded data removed]",
      "text/plain": [
       "<Figure size 432x288 with 1 Axes>"
      ]
     },
     "metadata": {},
     "output_type": "display_data"
    }
   ],
   "source": [
    "for score in ['A','B','C','D','E'][0:1]:\n",
    "    for stats in ['_adcl', '_edpl','_prichness','_mindistl'][0:5]:\n",
    "        plt.scatter(dp[score], dp[score+stats], label=score + ' vs '+ score+stats)\n",
    "        plt.legend(loc='upper left')\n",
    "        plt.show"
   ]
  },
  {
   "cell_type": "code",
   "execution_count": null,
   "metadata": {
    "collapsed": true,
    "deletable": true,
    "editable": true,
    "jupyter": {
     "outputs_hidden": true
    }
   },
   "outputs": [],
   "source": []
  },
  {
   "cell_type": "code",
   "execution_count": 96,
   "metadata": {
    "collapsed": false,
    "deletable": true,
    "editable": true,
    "jupyter": {
     "outputs_hidden": false
    }
   },
   "outputs": [
    {
     "data": {
      "image/png": "[encoded data removed]",
      "text/plain": [
       "<Figure size 432x288 with 1 Axes>"
      ]
     },
     "metadata": {},
     "output_type": "display_data"
    }
   ],
   "source": [
    "for score in ['A','B','C','D','E']:\n",
    "    for stats in ['_adcl', '_edpl','_prichness','_mindistl']:\n",
    "        plt.scatter(dp[score], dp[score+stats], label=score + ' vs '+ score+stats)\n",
    "        plt.legend(loc='upper left')\n",
    "        plt.show"
   ]
  },
  {
   "cell_type": "code",
   "execution_count": 97,
   "metadata": {
    "collapsed": false,
    "deletable": true,
    "editable": true,
    "jupyter": {
     "outputs_hidden": false
    }
   },
   "outputs": [
    {
     "data": {
      "text/html": [
       "<div>\n",
       "<style scoped>\n",
       "    .dataframe tbody tr th:only-of-type {\n",
       "        vertical-align: middle;\n",
       "    }\n",
       "\n",
       "    .dataframe tbody tr th {\n",
       "        vertical-align: top;\n",
       "    }\n",
       "\n",
       "    .dataframe thead th {\n",
       "        text-align: right;\n",
       "    }\n",
       "</style>\n",
       "<table border=\"1\" class=\"dataframe\">\n",
       "  <thead>\n",
       "    <tr style=\"text-align: right;\">\n",
       "      <th></th>\n",
       "      <th>A</th>\n",
       "      <th>A_mindistl</th>\n",
       "      <th>B</th>\n",
       "      <th>B_mindistl</th>\n",
       "      <th>C</th>\n",
       "      <th>C_mindistl</th>\n",
       "      <th>D</th>\n",
       "      <th>D_mindistl</th>\n",
       "      <th>E</th>\n",
       "      <th>E_mindistl</th>\n",
       "      <th>...</th>\n",
       "      <th>A_adcl</th>\n",
       "      <th>B_adcl</th>\n",
       "      <th>C_adcl</th>\n",
       "      <th>D_adcl</th>\n",
       "      <th>E_adcl</th>\n",
       "      <th>A_prichness</th>\n",
       "      <th>B_prichness</th>\n",
       "      <th>C_prichness</th>\n",
       "      <th>D_prichness</th>\n",
       "      <th>E_prichness</th>\n",
       "    </tr>\n",
       "  </thead>\n",
       "  <tbody>\n",
       "    <tr>\n",
       "      <th>count</th>\n",
       "      <td>100.000000</td>\n",
       "      <td>100.000000</td>\n",
       "      <td>100.000000</td>\n",
       "      <td>100.000000</td>\n",
       "      <td>100.000000</td>\n",
       "      <td>100.000000</td>\n",
       "      <td>100.000000</td>\n",
       "      <td>100.000000</td>\n",
       "      <td>100.000000</td>\n",
       "      <td>100.000000</td>\n",
       "      <td>...</td>\n",
       "      <td>100.000000</td>\n",
       "      <td>100.000000</td>\n",
       "      <td>100.000000</td>\n",
       "      <td>100.000000</td>\n",
       "      <td>100.000000</td>\n",
       "      <td>100.000000</td>\n",
       "      <td>100.000000</td>\n",
       "      <td>100.000000</td>\n",
       "      <td>100.000000</td>\n",
       "      <td>100.000000</td>\n",
       "    </tr>\n",
       "    <tr>\n",
       "      <th>mean</th>\n",
       "      <td>0.055034</td>\n",
       "      <td>0.025369</td>\n",
       "      <td>0.116043</td>\n",
       "      <td>0.114361</td>\n",
       "      <td>0.318386</td>\n",
       "      <td>0.097589</td>\n",
       "      <td>0.647292</td>\n",
       "      <td>0.198869</td>\n",
       "      <td>0.229600</td>\n",
       "      <td>0.290481</td>\n",
       "      <td>...</td>\n",
       "      <td>0.277586</td>\n",
       "      <td>0.557102</td>\n",
       "      <td>0.799584</td>\n",
       "      <td>0.962263</td>\n",
       "      <td>0.989559</td>\n",
       "      <td>0.140234</td>\n",
       "      <td>0.147809</td>\n",
       "      <td>0.142149</td>\n",
       "      <td>0.160060</td>\n",
       "      <td>0.304304</td>\n",
       "    </tr>\n",
       "    <tr>\n",
       "      <th>std</th>\n",
       "      <td>0.024318</td>\n",
       "      <td>0.018591</td>\n",
       "      <td>0.032415</td>\n",
       "      <td>0.030794</td>\n",
       "      <td>0.048526</td>\n",
       "      <td>0.030017</td>\n",
       "      <td>0.051736</td>\n",
       "      <td>0.042808</td>\n",
       "      <td>0.045910</td>\n",
       "      <td>0.047167</td>\n",
       "      <td>...</td>\n",
       "      <td>0.049060</td>\n",
       "      <td>0.054352</td>\n",
       "      <td>0.044362</td>\n",
       "      <td>0.017520</td>\n",
       "      <td>0.008343</td>\n",
       "      <td>0.035764</td>\n",
       "      <td>0.041895</td>\n",
       "      <td>0.037576</td>\n",
       "      <td>0.034324</td>\n",
       "      <td>0.042562</td>\n",
       "    </tr>\n",
       "    <tr>\n",
       "      <th>min</th>\n",
       "      <td>0.000000</td>\n",
       "      <td>0.000000</td>\n",
       "      <td>0.051724</td>\n",
       "      <td>0.037037</td>\n",
       "      <td>0.216667</td>\n",
       "      <td>0.033333</td>\n",
       "      <td>0.491803</td>\n",
       "      <td>0.109091</td>\n",
       "      <td>0.097222</td>\n",
       "      <td>0.156863</td>\n",
       "      <td>...</td>\n",
       "      <td>0.142857</td>\n",
       "      <td>0.406780</td>\n",
       "      <td>0.666667</td>\n",
       "      <td>0.916667</td>\n",
       "      <td>0.975000</td>\n",
       "      <td>0.052632</td>\n",
       "      <td>0.042553</td>\n",
       "      <td>0.056604</td>\n",
       "      <td>0.080645</td>\n",
       "      <td>0.190476</td>\n",
       "    </tr>\n",
       "    <tr>\n",
       "      <th>25%</th>\n",
       "      <td>0.037736</td>\n",
       "      <td>0.015873</td>\n",
       "      <td>0.095238</td>\n",
       "      <td>0.095013</td>\n",
       "      <td>0.285119</td>\n",
       "      <td>0.079132</td>\n",
       "      <td>0.612455</td>\n",
       "      <td>0.172414</td>\n",
       "      <td>0.193768</td>\n",
       "      <td>0.265789</td>\n",
       "      <td>...</td>\n",
       "      <td>0.246154</td>\n",
       "      <td>0.516532</td>\n",
       "      <td>0.773585</td>\n",
       "      <td>0.949788</td>\n",
       "      <td>0.983051</td>\n",
       "      <td>0.118395</td>\n",
       "      <td>0.123077</td>\n",
       "      <td>0.120690</td>\n",
       "      <td>0.144585</td>\n",
       "      <td>0.274194</td>\n",
       "    </tr>\n",
       "    <tr>\n",
       "      <th>50%</th>\n",
       "      <td>0.052178</td>\n",
       "      <td>0.020221</td>\n",
       "      <td>0.112007</td>\n",
       "      <td>0.111111</td>\n",
       "      <td>0.315789</td>\n",
       "      <td>0.096774</td>\n",
       "      <td>0.649561</td>\n",
       "      <td>0.196400</td>\n",
       "      <td>0.229508</td>\n",
       "      <td>0.298507</td>\n",
       "      <td>...</td>\n",
       "      <td>0.275986</td>\n",
       "      <td>0.563333</td>\n",
       "      <td>0.800000</td>\n",
       "      <td>0.966667</td>\n",
       "      <td>0.984615</td>\n",
       "      <td>0.137147</td>\n",
       "      <td>0.146257</td>\n",
       "      <td>0.140351</td>\n",
       "      <td>0.155048</td>\n",
       "      <td>0.306452</td>\n",
       "    </tr>\n",
       "    <tr>\n",
       "      <th>75%</th>\n",
       "      <td>0.072530</td>\n",
       "      <td>0.034044</td>\n",
       "      <td>0.136310</td>\n",
       "      <td>0.134615</td>\n",
       "      <td>0.346392</td>\n",
       "      <td>0.114754</td>\n",
       "      <td>0.682738</td>\n",
       "      <td>0.229823</td>\n",
       "      <td>0.261943</td>\n",
       "      <td>0.323077</td>\n",
       "      <td>...</td>\n",
       "      <td>0.301587</td>\n",
       "      <td>0.600000</td>\n",
       "      <td>0.830769</td>\n",
       "      <td>0.978723</td>\n",
       "      <td>1.000000</td>\n",
       "      <td>0.164801</td>\n",
       "      <td>0.179410</td>\n",
       "      <td>0.157540</td>\n",
       "      <td>0.180082</td>\n",
       "      <td>0.338524</td>\n",
       "    </tr>\n",
       "    <tr>\n",
       "      <th>max</th>\n",
       "      <td>0.129032</td>\n",
       "      <td>0.096774</td>\n",
       "      <td>0.209677</td>\n",
       "      <td>0.187500</td>\n",
       "      <td>0.448980</td>\n",
       "      <td>0.203390</td>\n",
       "      <td>0.786885</td>\n",
       "      <td>0.333333</td>\n",
       "      <td>0.339623</td>\n",
       "      <td>0.387755</td>\n",
       "      <td>...</td>\n",
       "      <td>0.416667</td>\n",
       "      <td>0.682540</td>\n",
       "      <td>0.888889</td>\n",
       "      <td>1.000000</td>\n",
       "      <td>1.000000</td>\n",
       "      <td>0.235294</td>\n",
       "      <td>0.240741</td>\n",
       "      <td>0.254545</td>\n",
       "      <td>0.244898</td>\n",
       "      <td>0.393443</td>\n",
       "    </tr>\n",
       "  </tbody>\n",
       "</table>\n",
       "<p>8 rows × 25 columns</p>\n",
       "</div>"
      ],
      "text/plain": [
       "                A  A_mindistl           B  B_mindistl           C  C_mindistl  \\\n",
       "count  100.000000  100.000000  100.000000  100.000000  100.000000  100.000000   \n",
       "mean     0.055034    0.025369    0.116043    0.114361    0.318386    0.097589   \n",
       "std      0.024318    0.018591    0.032415    0.030794    0.048526    0.030017   \n",
       "min      0.000000    0.000000    0.051724    0.037037    0.216667    0.033333   \n",
       "25%      0.037736    0.015873    0.095238    0.095013    0.285119    0.079132   \n",
       "50%      0.052178    0.020221    0.112007    0.111111    0.315789    0.096774   \n",
       "75%      0.072530    0.034044    0.136310    0.134615    0.346392    0.114754   \n",
       "max      0.129032    0.096774    0.209677    0.187500    0.448980    0.203390   \n",
       "\n",
       "                D  D_mindistl           E  E_mindistl     ...       \\\n",
       "count  100.000000  100.000000  100.000000  100.000000     ...        \n",
       "mean     0.647292    0.198869    0.229600    0.290481     ...        \n",
       "std      0.051736    0.042808    0.045910    0.047167     ...        \n",
       "min      0.491803    0.109091    0.097222    0.156863     ...        \n",
       "25%      0.612455    0.172414    0.193768    0.265789     ...        \n",
       "50%      0.649561    0.196400    0.229508    0.298507     ...        \n",
       "75%      0.682738    0.229823    0.261943    0.323077     ...        \n",
       "max      0.786885    0.333333    0.339623    0.387755     ...        \n",
       "\n",
       "           A_adcl      B_adcl      C_adcl      D_adcl      E_adcl  \\\n",
       "count  100.000000  100.000000  100.000000  100.000000  100.000000   \n",
       "mean     0.277586    0.557102    0.799584    0.962263    0.989559   \n",
       "std      0.049060    0.054352    0.044362    0.017520    0.008343   \n",
       "min      0.142857    0.406780    0.666667    0.916667    0.975000   \n",
       "25%      0.246154    0.516532    0.773585    0.949788    0.983051   \n",
       "50%      0.275986    0.563333    0.800000    0.966667    0.984615   \n",
       "75%      0.301587    0.600000    0.830769    0.978723    1.000000   \n",
       "max      0.416667    0.682540    0.888889    1.000000    1.000000   \n",
       "\n",
       "       A_prichness  B_prichness  C_prichness  D_prichness  E_prichness  \n",
       "count   100.000000   100.000000   100.000000   100.000000   100.000000  \n",
       "mean      0.140234     0.147809     0.142149     0.160060     0.304304  \n",
       "std       0.035764     0.041895     0.037576     0.034324     0.042562  \n",
       "min       0.052632     0.042553     0.056604     0.080645     0.190476  \n",
       "25%       0.118395     0.123077     0.120690     0.144585     0.274194  \n",
       "50%       0.137147     0.146257     0.140351     0.155048     0.306452  \n",
       "75%       0.164801     0.179410     0.157540     0.180082     0.338524  \n",
       "max       0.235294     0.240741     0.254545     0.244898     0.393443  \n",
       "\n",
       "[8 rows x 25 columns]"
      ]
     },
     "execution_count": 97,
     "metadata": {},
     "output_type": "execute_result"
    }
   ],
   "source": [
    "dp.describe()"
   ]
  },
  {
   "cell_type": "markdown",
   "metadata": {
    "deletable": true,
    "editable": true
   },
   "source": [
    "# Bray-Curtis distance\n"
   ]
  },
  {
   "cell_type": "code",
   "execution_count": 98,
   "metadata": {
    "collapsed": false,
    "deletable": true,
    "editable": true,
    "jupyter": {
     "outputs_hidden": false
    }
   },
   "outputs": [
    {
     "ename": "ImportError",
     "evalue": "DLL load failed: The specified module could not be found.",
     "output_type": "error",
     "traceback": [
      "\u001b[1;31m---------------------------------------------------------------------------\u001b[0m",
      "\u001b[1;31mImportError\u001b[0m                               Traceback (most recent call last)",
      "\u001b[1;32m<ipython-input-98-5a155fa10c7b>\u001b[0m in \u001b[0;36m<module>\u001b[1;34m()\u001b[0m\n\u001b[1;32m----> 1\u001b[1;33m \u001b[1;32mfrom\u001b[0m \u001b[0mscipy\u001b[0m\u001b[1;33m.\u001b[0m\u001b[0mspatial\u001b[0m \u001b[1;32mimport\u001b[0m \u001b[0mdistance\u001b[0m\u001b[1;33m\u001b[0m\u001b[0m\n\u001b[0m\u001b[0;32m      2\u001b[0m \u001b[0mdistance\u001b[0m\u001b[1;33m.\u001b[0m\u001b[0mbraycurtis\u001b[0m\u001b[1;33m(\u001b[0m\u001b[1;33m[\u001b[0m\u001b[1;36m1\u001b[0m\u001b[1;33m,\u001b[0m \u001b[1;36m0\u001b[0m\u001b[1;33m,\u001b[0m \u001b[1;36m0\u001b[0m\u001b[1;33m]\u001b[0m\u001b[1;33m,\u001b[0m \u001b[1;33m[\u001b[0m\u001b[1;36m0\u001b[0m\u001b[1;33m,\u001b[0m \u001b[1;36m1\u001b[0m\u001b[1;33m,\u001b[0m \u001b[1;36m0\u001b[0m\u001b[1;33m]\u001b[0m\u001b[1;33m)\u001b[0m\u001b[1;33m\u001b[0m\u001b[0m\n\u001b[0;32m      3\u001b[0m \u001b[1;36m1.0\u001b[0m\u001b[1;33m\u001b[0m\u001b[0m\n\u001b[0;32m      4\u001b[0m \u001b[0mdistance\u001b[0m\u001b[1;33m.\u001b[0m\u001b[0mbraycurtis\u001b[0m\u001b[1;33m(\u001b[0m\u001b[1;33m[\u001b[0m\u001b[1;36m1\u001b[0m\u001b[1;33m,\u001b[0m \u001b[1;36m1\u001b[0m\u001b[1;33m,\u001b[0m \u001b[1;36m0\u001b[0m\u001b[1;33m]\u001b[0m\u001b[1;33m,\u001b[0m \u001b[1;33m[\u001b[0m\u001b[1;36m0\u001b[0m\u001b[1;33m,\u001b[0m \u001b[1;36m1\u001b[0m\u001b[1;33m,\u001b[0m \u001b[1;36m0\u001b[0m\u001b[1;33m]\u001b[0m\u001b[1;33m)\u001b[0m\u001b[1;33m\u001b[0m\u001b[0m\n\u001b[0;32m      5\u001b[0m \u001b[1;36m0.33333333333333331\u001b[0m\u001b[1;33m\u001b[0m\u001b[0m\n",
      "\u001b[1;32mC:\\Users\\hsun1\\AppData\\Local\\Enthought\\Canopy\\edm\\envs\\User\\lib\\site-packages\\scipy\\spatial\\__init__.py\u001b[0m in \u001b[0;36m<module>\u001b[1;34m()\u001b[0m\n\u001b[0;32m     95\u001b[0m \u001b[1;32mfrom\u001b[0m \u001b[1;33m.\u001b[0m\u001b[0mckdtree\u001b[0m \u001b[1;32mimport\u001b[0m \u001b[1;33m*\u001b[0m\u001b[1;33m\u001b[0m\u001b[0m\n\u001b[0;32m     96\u001b[0m \u001b[1;32mfrom\u001b[0m \u001b[1;33m.\u001b[0m\u001b[0mqhull\u001b[0m \u001b[1;32mimport\u001b[0m \u001b[1;33m*\u001b[0m\u001b[1;33m\u001b[0m\u001b[0m\n\u001b[1;32m---> 97\u001b[1;33m \u001b[1;32mfrom\u001b[0m \u001b[1;33m.\u001b[0m\u001b[0m_spherical_voronoi\u001b[0m \u001b[1;32mimport\u001b[0m \u001b[0mSphericalVoronoi\u001b[0m\u001b[1;33m\u001b[0m\u001b[0m\n\u001b[0m\u001b[0;32m     98\u001b[0m \u001b[1;32mfrom\u001b[0m \u001b[1;33m.\u001b[0m\u001b[0m_plotutils\u001b[0m \u001b[1;32mimport\u001b[0m \u001b[1;33m*\u001b[0m\u001b[1;33m\u001b[0m\u001b[0m\n\u001b[0;32m     99\u001b[0m \u001b[1;32mfrom\u001b[0m \u001b[1;33m.\u001b[0m\u001b[0m_procrustes\u001b[0m \u001b[1;32mimport\u001b[0m \u001b[0mprocrustes\u001b[0m\u001b[1;33m\u001b[0m\u001b[0m\n",
      "\u001b[1;32mC:\\Users\\hsun1\\AppData\\Local\\Enthought\\Canopy\\edm\\envs\\User\\lib\\site-packages\\scipy\\spatial\\_spherical_voronoi.py\u001b[0m in \u001b[0;36m<module>\u001b[1;34m()\u001b[0m\n\u001b[0;32m     17\u001b[0m \u001b[1;32mimport\u001b[0m \u001b[0mitertools\u001b[0m\u001b[1;33m\u001b[0m\u001b[0m\n\u001b[0;32m     18\u001b[0m \u001b[1;32mfrom\u001b[0m \u001b[1;33m.\u001b[0m \u001b[1;32mimport\u001b[0m \u001b[0m_voronoi\u001b[0m\u001b[1;33m\u001b[0m\u001b[0m\n\u001b[1;32m---> 19\u001b[1;33m \u001b[1;32mfrom\u001b[0m \u001b[0mscipy\u001b[0m\u001b[1;33m.\u001b[0m\u001b[0mspatial\u001b[0m\u001b[1;33m.\u001b[0m\u001b[0mdistance\u001b[0m \u001b[1;32mimport\u001b[0m \u001b[0mpdist\u001b[0m\u001b[1;33m\u001b[0m\u001b[0m\n\u001b[0m\u001b[0;32m     20\u001b[0m \u001b[1;33m\u001b[0m\u001b[0m\n\u001b[0;32m     21\u001b[0m \u001b[0m__all__\u001b[0m \u001b[1;33m=\u001b[0m \u001b[1;33m[\u001b[0m\u001b[1;34m'SphericalVoronoi'\u001b[0m\u001b[1;33m]\u001b[0m\u001b[1;33m\u001b[0m\u001b[0m\n",
      "\u001b[1;32mC:\\Users\\hsun1\\AppData\\Local\\Enthought\\Canopy\\edm\\envs\\User\\lib\\site-packages\\scipy\\spatial\\distance.py\u001b[0m in \u001b[0;36m<module>\u001b[1;34m()\u001b[0m\n\u001b[0;32m    121\u001b[0m \u001b[1;32mfrom\u001b[0m \u001b[1;33m.\u001b[0m \u001b[1;32mimport\u001b[0m \u001b[0m_distance_wrap\u001b[0m\u001b[1;33m\u001b[0m\u001b[0m\n\u001b[0;32m    122\u001b[0m \u001b[1;32mfrom\u001b[0m \u001b[1;33m.\u001b[0m \u001b[1;32mimport\u001b[0m \u001b[0m_hausdorff\u001b[0m\u001b[1;33m\u001b[0m\u001b[0m\n\u001b[1;32m--> 123\u001b[1;33m \u001b[1;32mfrom\u001b[0m \u001b[1;33m.\u001b[0m\u001b[1;33m.\u001b[0m\u001b[0mlinalg\u001b[0m \u001b[1;32mimport\u001b[0m \u001b[0mnorm\u001b[0m\u001b[1;33m\u001b[0m\u001b[0m\n\u001b[0m\u001b[0;32m    124\u001b[0m \u001b[1;33m\u001b[0m\u001b[0m\n\u001b[0;32m    125\u001b[0m \u001b[1;33m\u001b[0m\u001b[0m\n",
      "\u001b[1;32mC:\\Users\\hsun1\\AppData\\Local\\Enthought\\Canopy\\edm\\envs\\User\\lib\\site-packages\\scipy\\linalg\\__init__.py\u001b[0m in \u001b[0;36m<module>\u001b[1;34m()\u001b[0m\n\u001b[0;32m    205\u001b[0m \u001b[1;32mfrom\u001b[0m \u001b[1;33m.\u001b[0m\u001b[0m_solvers\u001b[0m \u001b[1;32mimport\u001b[0m \u001b[1;33m*\u001b[0m\u001b[1;33m\u001b[0m\u001b[0m\n\u001b[0;32m    206\u001b[0m \u001b[1;32mfrom\u001b[0m \u001b[1;33m.\u001b[0m\u001b[0m_procrustes\u001b[0m \u001b[1;32mimport\u001b[0m \u001b[1;33m*\u001b[0m\u001b[1;33m\u001b[0m\u001b[0m\n\u001b[1;32m--> 207\u001b[1;33m \u001b[1;32mfrom\u001b[0m \u001b[1;33m.\u001b[0m\u001b[0m_decomp_update\u001b[0m \u001b[1;32mimport\u001b[0m \u001b[1;33m*\u001b[0m\u001b[1;33m\u001b[0m\u001b[0m\n\u001b[0m\u001b[0;32m    208\u001b[0m \u001b[1;32mfrom\u001b[0m \u001b[1;33m.\u001b[0m\u001b[0m_sketches\u001b[0m \u001b[1;32mimport\u001b[0m \u001b[1;33m*\u001b[0m\u001b[1;33m\u001b[0m\u001b[0m\n\u001b[0;32m    209\u001b[0m \u001b[1;33m\u001b[0m\u001b[0m\n",
      "\u001b[1;32m_decomp_update.pyx\u001b[0m in \u001b[0;36minit scipy.linalg._decomp_update\u001b[1;34m()\u001b[0m\n",
      "\u001b[1;31mImportError\u001b[0m: DLL load failed: The specified module could not be found."
     ]
    }
   ],
   "source": [
    ">>> from scipy.spatial import distance\n",
    ">>> distance.braycurtis([1, 0, 0], [0, 1, 0])\n",
    "1.0\n",
    ">>> distance.braycurtis([1, 1, 0], [0, 1, 0])\n",
    "0.33333333333333331"
   ]
  },
  {
   "cell_type": "code",
   "execution_count": null,
   "metadata": {
    "collapsed": false,
    "deletable": true,
    "editable": true,
    "jupyter": {
     "outputs_hidden": false
    }
   },
   "outputs": [],
   "source": [
    "distance.braycurtis([1, 0, 0], [0, 1, 0])"
   ]
  },
  {
   "cell_type": "code",
   "execution_count": null,
   "metadata": {
    "collapsed": false,
    "deletable": true,
    "editable": true,
    "jupyter": {
     "outputs_hidden": false
    }
   },
   "outputs": [],
   "source": [
    ">>> distance.braycurtis([1, 1, 0], [0, 1, 0])"
   ]
  },
  {
   "cell_type": "markdown",
   "metadata": {
    "deletable": true,
    "editable": true
   },
   "source": [
    "# Association between Bray-Curtis Distance and Sensitivity "
   ]
  },
  {
   "cell_type": "code",
   "execution_count": 99,
   "metadata": {
    "collapsed": true,
    "deletable": true,
    "editable": true,
    "jupyter": {
     "outputs_hidden": true
    }
   },
   "outputs": [],
   "source": [
    "bcd = pd.read_csv(\"Bray-Curtis-Distance-HS.csv\", index_col=0)\n",
    "sensitivity = pd.read_csv(\"alphaDiversity_phyloEntropy.csv\", index_col=0)"
   ]
  },
  {
   "cell_type": "code",
   "execution_count": 100,
   "metadata": {
    "collapsed": false,
    "deletable": true,
    "editable": true,
    "jupyter": {
     "outputs_hidden": false
    }
   },
   "outputs": [
    {
     "data": {
      "text/plain": [
       "(         rdp10398   rdp5224   rdp1017     rdp92     rdp12\n",
       " CC11CM0  0.000000  0.000000  0.000000  0.032523  0.000000\n",
       " CC11CM1  0.012653  0.012653  0.012653  0.025961  0.017573\n",
       " CC11CM2  0.002196  0.002196  0.002196  0.002196  0.002196\n",
       " CC11CM3  0.009952  0.009952  0.009952  0.009952  0.009952\n",
       " CC11CM4  0.006173  0.006173  0.011572  0.006173  0.006173,\n",
       "           RDP_10398  RDP_5224  RDP_1017    RDP_92    RDP_12\n",
       " CC11CM0     3.52104   3.02461   2.01612  0.866728  0.247681\n",
       " CC11CM1     3.53484   2.95072   2.18432  0.838860  0.217677\n",
       " CC11CM10    3.51104   3.05156   2.18018  0.878181  0.245779\n",
       " CC11CM11    3.44639   2.93488   2.17424  0.900507  0.237034\n",
       " CC11CM12    3.57253   3.02328   2.22683  0.908349  0.248668)"
      ]
     },
     "execution_count": 100,
     "metadata": {},
     "output_type": "execute_result"
    }
   ],
   "source": [
    " bcd.head(),sensitivity.head()"
   ]
  },
  {
   "cell_type": "code",
   "execution_count": 101,
   "metadata": {
    "collapsed": false,
    "deletable": true,
    "editable": true,
    "jupyter": {
     "outputs_hidden": false
    }
   },
   "outputs": [
    {
     "name": "stderr",
     "output_type": "stream",
     "text": [
      "C:\\Users\\hsun1\\AppData\\Local\\Enthought\\Canopy\\edm\\envs\\User\\lib\\site-packages\\ipykernel_launcher.py:2: FutureWarning: Sorting because non-concatenation axis is not aligned. A future version\n",
      "of pandas will change to not sort by default.\n",
      "\n",
      "To accept the future behavior, pass 'sort=False'.\n",
      "\n",
      "To retain the current behavior and silence the warning, pass 'sort=True'.\n",
      "\n",
      "  \n"
     ]
    }
   ],
   "source": [
    "# bcd-sen = pd.merge(bcd, sensitivity, left_index=True, right_index=True)\n",
    "bcdsen = pd.concat([bcd, sensitivity], axis=1)"
   ]
  },
  {
   "cell_type": "code",
   "execution_count": 102,
   "metadata": {
    "collapsed": false,
    "deletable": true,
    "editable": true,
    "jupyter": {
     "outputs_hidden": false
    }
   },
   "outputs": [
    {
     "data": {
      "text/html": [
       "<div>\n",
       "<style scoped>\n",
       "    .dataframe tbody tr th:only-of-type {\n",
       "        vertical-align: middle;\n",
       "    }\n",
       "\n",
       "    .dataframe tbody tr th {\n",
       "        vertical-align: top;\n",
       "    }\n",
       "\n",
       "    .dataframe thead th {\n",
       "        text-align: right;\n",
       "    }\n",
       "</style>\n",
       "<table border=\"1\" class=\"dataframe\">\n",
       "  <thead>\n",
       "    <tr style=\"text-align: right;\">\n",
       "      <th></th>\n",
       "      <th>rdp10398</th>\n",
       "      <th>rdp5224</th>\n",
       "      <th>rdp1017</th>\n",
       "      <th>rdp92</th>\n",
       "      <th>rdp12</th>\n",
       "      <th>RDP_10398</th>\n",
       "      <th>RDP_5224</th>\n",
       "      <th>RDP_1017</th>\n",
       "      <th>RDP_92</th>\n",
       "      <th>RDP_12</th>\n",
       "    </tr>\n",
       "  </thead>\n",
       "  <tbody>\n",
       "    <tr>\n",
       "      <th>CC11CM0</th>\n",
       "      <td>0.000000</td>\n",
       "      <td>0.000000</td>\n",
       "      <td>0.000000</td>\n",
       "      <td>0.032523</td>\n",
       "      <td>0.000000</td>\n",
       "      <td>3.52104</td>\n",
       "      <td>3.02461</td>\n",
       "      <td>2.01612</td>\n",
       "      <td>0.866728</td>\n",
       "      <td>0.247681</td>\n",
       "    </tr>\n",
       "    <tr>\n",
       "      <th>CC11CM1</th>\n",
       "      <td>0.012653</td>\n",
       "      <td>0.012653</td>\n",
       "      <td>0.012653</td>\n",
       "      <td>0.025961</td>\n",
       "      <td>0.017573</td>\n",
       "      <td>3.53484</td>\n",
       "      <td>2.95072</td>\n",
       "      <td>2.18432</td>\n",
       "      <td>0.838860</td>\n",
       "      <td>0.217677</td>\n",
       "    </tr>\n",
       "    <tr>\n",
       "      <th>CC11CM10</th>\n",
       "      <td>0.000000</td>\n",
       "      <td>0.000000</td>\n",
       "      <td>0.000000</td>\n",
       "      <td>0.000000</td>\n",
       "      <td>0.007414</td>\n",
       "      <td>3.51104</td>\n",
       "      <td>3.05156</td>\n",
       "      <td>2.18018</td>\n",
       "      <td>0.878181</td>\n",
       "      <td>0.245779</td>\n",
       "    </tr>\n",
       "    <tr>\n",
       "      <th>CC11CM11</th>\n",
       "      <td>0.015354</td>\n",
       "      <td>0.015354</td>\n",
       "      <td>0.015354</td>\n",
       "      <td>0.015354</td>\n",
       "      <td>0.027460</td>\n",
       "      <td>3.44639</td>\n",
       "      <td>2.93488</td>\n",
       "      <td>2.17424</td>\n",
       "      <td>0.900507</td>\n",
       "      <td>0.237034</td>\n",
       "    </tr>\n",
       "    <tr>\n",
       "      <th>CC11CM12</th>\n",
       "      <td>0.007804</td>\n",
       "      <td>0.007804</td>\n",
       "      <td>0.007804</td>\n",
       "      <td>0.010016</td>\n",
       "      <td>0.008370</td>\n",
       "      <td>3.57253</td>\n",
       "      <td>3.02328</td>\n",
       "      <td>2.22683</td>\n",
       "      <td>0.908349</td>\n",
       "      <td>0.248668</td>\n",
       "    </tr>\n",
       "  </tbody>\n",
       "</table>\n",
       "</div>"
      ],
      "text/plain": [
       "          rdp10398   rdp5224   rdp1017     rdp92     rdp12  RDP_10398  \\\n",
       "CC11CM0   0.000000  0.000000  0.000000  0.032523  0.000000    3.52104   \n",
       "CC11CM1   0.012653  0.012653  0.012653  0.025961  0.017573    3.53484   \n",
       "CC11CM10  0.000000  0.000000  0.000000  0.000000  0.007414    3.51104   \n",
       "CC11CM11  0.015354  0.015354  0.015354  0.015354  0.027460    3.44639   \n",
       "CC11CM12  0.007804  0.007804  0.007804  0.010016  0.008370    3.57253   \n",
       "\n",
       "          RDP_5224  RDP_1017    RDP_92    RDP_12  \n",
       "CC11CM0    3.02461   2.01612  0.866728  0.247681  \n",
       "CC11CM1    2.95072   2.18432  0.838860  0.217677  \n",
       "CC11CM10   3.05156   2.18018  0.878181  0.245779  \n",
       "CC11CM11   2.93488   2.17424  0.900507  0.237034  \n",
       "CC11CM12   3.02328   2.22683  0.908349  0.248668  "
      ]
     },
     "execution_count": 102,
     "metadata": {},
     "output_type": "execute_result"
    }
   ],
   "source": [
    "bcdsen.head()"
   ]
  },
  {
   "cell_type": "code",
   "execution_count": 103,
   "metadata": {
    "collapsed": true,
    "deletable": true,
    "editable": true,
    "jupyter": {
     "outputs_hidden": true
    }
   },
   "outputs": [],
   "source": [
    "# df_new = df.rename(columns={'A': 'a'}, index={'ONE': 'one'})\n",
    "bcdsen = bcdsen.rename(columns={'rdp10398':'bcd_rdp10398', 'rdp10398':'bcd_rdp10398','rdp5224':'bcd_rdp5224','rdp1017':'bcd_rdp1017','rdp92':'bcd_rdp92','rdp12':'bcd_rdp12','RDP_10398':'sensitivity_rdp10398','RDP_5224':'sensitivity_rdp5224','RDP_1017':'sensitivity_rdp1017','RDP_92':'sensitivity_rdp92','RDP_12':'sensitivity_rdp12'})"
   ]
  },
  {
   "cell_type": "code",
   "execution_count": 104,
   "metadata": {
    "collapsed": false,
    "deletable": true,
    "editable": true,
    "jupyter": {
     "outputs_hidden": false
    }
   },
   "outputs": [
    {
     "data": {
      "text/html": [
       "<div>\n",
       "<style scoped>\n",
       "    .dataframe tbody tr th:only-of-type {\n",
       "        vertical-align: middle;\n",
       "    }\n",
       "\n",
       "    .dataframe tbody tr th {\n",
       "        vertical-align: top;\n",
       "    }\n",
       "\n",
       "    .dataframe thead th {\n",
       "        text-align: right;\n",
       "    }\n",
       "</style>\n",
       "<table border=\"1\" class=\"dataframe\">\n",
       "  <thead>\n",
       "    <tr style=\"text-align: right;\">\n",
       "      <th></th>\n",
       "      <th>bcd_rdp10398</th>\n",
       "      <th>bcd_rdp5224</th>\n",
       "      <th>bcd_rdp1017</th>\n",
       "      <th>bcd_rdp92</th>\n",
       "      <th>bcd_rdp12</th>\n",
       "      <th>sensitivity_rdp10398</th>\n",
       "      <th>sensitivity_rdp5224</th>\n",
       "      <th>sensitivity_rdp1017</th>\n",
       "      <th>sensitivity_rdp92</th>\n",
       "      <th>sensitivity_rdp12</th>\n",
       "    </tr>\n",
       "  </thead>\n",
       "  <tbody>\n",
       "    <tr>\n",
       "      <th>CC11CM0</th>\n",
       "      <td>0.000000</td>\n",
       "      <td>0.000000</td>\n",
       "      <td>0.000000</td>\n",
       "      <td>0.032523</td>\n",
       "      <td>0.000000</td>\n",
       "      <td>3.52104</td>\n",
       "      <td>3.02461</td>\n",
       "      <td>2.01612</td>\n",
       "      <td>0.866728</td>\n",
       "      <td>0.247681</td>\n",
       "    </tr>\n",
       "    <tr>\n",
       "      <th>CC11CM1</th>\n",
       "      <td>0.012653</td>\n",
       "      <td>0.012653</td>\n",
       "      <td>0.012653</td>\n",
       "      <td>0.025961</td>\n",
       "      <td>0.017573</td>\n",
       "      <td>3.53484</td>\n",
       "      <td>2.95072</td>\n",
       "      <td>2.18432</td>\n",
       "      <td>0.838860</td>\n",
       "      <td>0.217677</td>\n",
       "    </tr>\n",
       "    <tr>\n",
       "      <th>CC11CM10</th>\n",
       "      <td>0.000000</td>\n",
       "      <td>0.000000</td>\n",
       "      <td>0.000000</td>\n",
       "      <td>0.000000</td>\n",
       "      <td>0.007414</td>\n",
       "      <td>3.51104</td>\n",
       "      <td>3.05156</td>\n",
       "      <td>2.18018</td>\n",
       "      <td>0.878181</td>\n",
       "      <td>0.245779</td>\n",
       "    </tr>\n",
       "    <tr>\n",
       "      <th>CC11CM11</th>\n",
       "      <td>0.015354</td>\n",
       "      <td>0.015354</td>\n",
       "      <td>0.015354</td>\n",
       "      <td>0.015354</td>\n",
       "      <td>0.027460</td>\n",
       "      <td>3.44639</td>\n",
       "      <td>2.93488</td>\n",
       "      <td>2.17424</td>\n",
       "      <td>0.900507</td>\n",
       "      <td>0.237034</td>\n",
       "    </tr>\n",
       "    <tr>\n",
       "      <th>CC11CM12</th>\n",
       "      <td>0.007804</td>\n",
       "      <td>0.007804</td>\n",
       "      <td>0.007804</td>\n",
       "      <td>0.010016</td>\n",
       "      <td>0.008370</td>\n",
       "      <td>3.57253</td>\n",
       "      <td>3.02328</td>\n",
       "      <td>2.22683</td>\n",
       "      <td>0.908349</td>\n",
       "      <td>0.248668</td>\n",
       "    </tr>\n",
       "  </tbody>\n",
       "</table>\n",
       "</div>"
      ],
      "text/plain": [
       "          bcd_rdp10398  bcd_rdp5224  bcd_rdp1017  bcd_rdp92  bcd_rdp12  \\\n",
       "CC11CM0       0.000000     0.000000     0.000000   0.032523   0.000000   \n",
       "CC11CM1       0.012653     0.012653     0.012653   0.025961   0.017573   \n",
       "CC11CM10      0.000000     0.000000     0.000000   0.000000   0.007414   \n",
       "CC11CM11      0.015354     0.015354     0.015354   0.015354   0.027460   \n",
       "CC11CM12      0.007804     0.007804     0.007804   0.010016   0.008370   \n",
       "\n",
       "          sensitivity_rdp10398  sensitivity_rdp5224  sensitivity_rdp1017  \\\n",
       "CC11CM0                3.52104              3.02461              2.01612   \n",
       "CC11CM1                3.53484              2.95072              2.18432   \n",
       "CC11CM10               3.51104              3.05156              2.18018   \n",
       "CC11CM11               3.44639              2.93488              2.17424   \n",
       "CC11CM12               3.57253              3.02328              2.22683   \n",
       "\n",
       "          sensitivity_rdp92  sensitivity_rdp12  \n",
       "CC11CM0            0.866728           0.247681  \n",
       "CC11CM1            0.838860           0.217677  \n",
       "CC11CM10           0.878181           0.245779  \n",
       "CC11CM11           0.900507           0.237034  \n",
       "CC11CM12           0.908349           0.248668  "
      ]
     },
     "execution_count": 104,
     "metadata": {},
     "output_type": "execute_result"
    }
   ],
   "source": [
    "bcdsen.head()"
   ]
  },
  {
   "cell_type": "code",
   "execution_count": 105,
   "metadata": {
    "collapsed": true,
    "deletable": true,
    "editable": true,
    "jupyter": {
     "outputs_hidden": true
    }
   },
   "outputs": [],
   "source": [
    "# objects = ('Python', 'C++', 'Java', 'Perl', 'Scala', 'Lisp')\n",
    "# y_pos = np.arange(len(objects))\n",
    "# performance = [10,8,6,4,2,1]\n",
    "# plt.bar(y_pos, performance, align='center', alpha=0.5)\n",
    "# plt.xticks(y_pos, objects)\n",
    "# plt.ylabel('Usage')\n",
    "# plt.title('Programming language usage')\n",
    "# plt.show()"
   ]
  },
  {
   "cell_type": "code",
   "execution_count": 106,
   "metadata": {
    "collapsed": true,
    "deletable": true,
    "editable": true,
    "jupyter": {
     "outputs_hidden": true
    }
   },
   "outputs": [],
   "source": [
    "# objects=('bcd_rdp10398','bcd_rdp5224','bcd_rdp1017','bcd_rdp92','bcd_rdp12','sensitivity_rdp10398','sensitivity_rdp5224','sensitivity_rdp1017','sensitivity_rdp92','sensitivity_rdp12)\n",
    "# plt.bar(bcdsen.bcd_rdp10398, )"
   ]
  },
  {
   "cell_type": "code",
   "execution_count": null,
   "metadata": {
    "collapsed": true,
    "deletable": true,
    "editable": true,
    "jupyter": {
     "outputs_hidden": true
    }
   },
   "outputs": [],
   "source": []
  },
  {
   "cell_type": "code",
   "execution_count": 107,
   "metadata": {
    "collapsed": false,
    "deletable": true,
    "editable": true,
    "jupyter": {
     "outputs_hidden": false
    }
   },
   "outputs": [
    {
     "data": {
      "text/plain": [
       "<function matplotlib.pyplot.show>"
      ]
     },
     "execution_count": 107,
     "metadata": {},
     "output_type": "execute_result"
    },
    {
     "data": {
      "image/png": "[encoded data removed]",
      "text/plain": [
       "<Figure size 432x288 with 1 Axes>"
      ]
     },
     "metadata": {},
     "output_type": "display_data"
    }
   ],
   "source": [
    "        plt.scatter(bcdsen['bcd_rdp10398'], bcdsen['sensitivity_rdp10398'], label='BCD vs Sensitivity' )\n",
    "        plt.legend(loc='upper left')\n",
    "        plt.show"
   ]
  },
  {
   "cell_type": "code",
   "execution_count": 108,
   "metadata": {
    "collapsed": false,
    "deletable": true,
    "editable": true,
    "jupyter": {
     "outputs_hidden": false
    }
   },
   "outputs": [
    {
     "data": {
      "text/plain": [
       "<function matplotlib.pyplot.show>"
      ]
     },
     "execution_count": 108,
     "metadata": {},
     "output_type": "execute_result"
    },
    {
     "data": {
      "image/png": "[encoded data removed]",
      "text/plain": [
       "<Figure size 432x288 with 1 Axes>"
      ]
     },
     "metadata": {},
     "output_type": "display_data"
    }
   ],
   "source": [
    "\n",
    "plt.scatter(bcdsen['bcd_rdp5224'], bcdsen['sensitivity_rdp5224'], label='BCD vs Sensitivity' )\n",
    "plt.legend(loc='upper left')\n",
    "plt.show"
   ]
  },
  {
   "cell_type": "code",
   "execution_count": 109,
   "metadata": {
    "collapsed": false,
    "deletable": true,
    "editable": true,
    "jupyter": {
     "outputs_hidden": false
    }
   },
   "outputs": [
    {
     "data": {
      "text/plain": [
       "<function matplotlib.pyplot.show>"
      ]
     },
     "execution_count": 109,
     "metadata": {},
     "output_type": "execute_result"
    },
    {
     "data": {
      "image/png": "[encoded data removed]",
      "text/plain": [
       "<Figure size 432x288 with 1 Axes>"
      ]
     },
     "metadata": {},
     "output_type": "display_data"
    }
   ],
   "source": [
    "plt.scatter(bcdsen['bcd_rdp12'], bcdsen['sensitivity_rdp12'], label='BCD vs Sensitivity' )\n",
    "plt.legend(loc='upper left')\n",
    "plt.show"
   ]
  },
  {
   "cell_type": "code",
   "execution_count": 110,
   "metadata": {
    "collapsed": false,
    "deletable": true,
    "editable": true,
    "jupyter": {
     "outputs_hidden": false
    }
   },
   "outputs": [
    {
     "data": {
      "image/png": "[encoded data removed]",
      "text/plain": [
       "<Figure size 432x288 with 1 Axes>"
      ]
     },
     "metadata": {},
     "output_type": "display_data"
    }
   ],
   "source": [
    "for refindex in ['10398', '5224','1017','92','12']:\n",
    "    plt.scatter(bcdsen['bcd_rdp'+refindex], bcdsen['sensitivity_rdp' + refindex ], label='RDP'  + refindex)\n",
    "    plt.legend(loc='lower right')\n",
    "    plt.show;\n",
    "    plt.savefig('bcd-sen.png')"
   ]
  },
  {
   "cell_type": "markdown",
   "metadata": {
    "deletable": true,
    "editable": true
   },
   "source": [
    "<!-- ##  x axis is the Bray-Curtis distance, and y axis is the sensitivity in percent. Each dot is one community. Different colors indicate data using different references. -->"
   ]
  },
  {
   "cell_type": "markdown",
   "metadata": {
    "deletable": true,
    "editable": true
   },
   "source": [
    "# Exploring data"
   ]
  },
  {
   "cell_type": "markdown",
   "metadata": {
    "deletable": true,
    "editable": true
   },
   "source": [
    "# Adcl "
   ]
  },
  {
   "cell_type": "markdown",
   "metadata": {
    "deletable": true,
    "editable": true
   },
   "source": [
    "# Adcl plot all sequences in 5 reference sets"
   ]
  },
  {
   "cell_type": "code",
   "execution_count": 111,
   "metadata": {
    "collapsed": false,
    "deletable": true,
    "editable": true,
    "jupyter": {
     "outputs_hidden": false
    }
   },
   "outputs": [
    {
     "data": {
      "image/png": "[encoded data removed]",
      "text/plain": [
       "<Figure size 432x288 with 6 Axes>"
      ]
     },
     "metadata": {},
     "output_type": "display_data"
    }
   ],
   "source": [
    "plot_pplacer('_adcl')"
   ]
  },
  {
   "cell_type": "code",
   "execution_count": 112,
   "metadata": {
    "collapsed": true,
    "deletable": true,
    "editable": true,
    "jupyter": {
     "outputs_hidden": true
    }
   },
   "outputs": [],
   "source": [
    "def plot_pplacer_cutoff(variable, cutoff):\n",
    "    fig, axes = plt.subplots(nrows=3, ncols=2)\n",
    "    ax0, ax1, ax2, ax3, ax4, ax5 = axes.flatten()\n",
    "\n",
    "    ax0.hist(df['A'+variable][df['A'+variable]>cutoff])\n",
    "    ax0.set_title('A'+variable + ' larger than the cutoff' )\n",
    "\n",
    "    ax1.hist(df['B'+variable][df['B'+variable]>cutoff])\n",
    "    ax1.set_title('B'+variable)\n",
    "\n",
    "    ax2.hist(df['C'+variable][df['C'+variable]>cutoff])\n",
    "    ax2.set_title('C'+variable)\n",
    "\n",
    "    ax3.hist(df['D'+variable][df['D'+variable]>cutoff])\n",
    "    ax3.set_title('D'+variable)\n",
    "    ax4.hist(df['E'+variable][df['E'+variable]>cutoff])\n",
    "    ax4.set_title('E'+variable)"
   ]
  },
  {
   "cell_type": "markdown",
   "metadata": {
    "deletable": true,
    "editable": true
   },
   "source": [
    "# Plot adcl with bad values larger than 0.001"
   ]
  },
  {
   "cell_type": "code",
   "execution_count": 113,
   "metadata": {
    "collapsed": false,
    "deletable": true,
    "editable": true,
    "jupyter": {
     "outputs_hidden": false
    }
   },
   "outputs": [
    {
     "data": {
      "image/png": "[encoded data removed]",
      "text/plain": [
       "<Figure size 432x288 with 6 Axes>"
      ]
     },
     "metadata": {},
     "output_type": "display_data"
    }
   ],
   "source": [
    "plot_pplacer_cutoff('_adcl', 0.001)"
   ]
  },
  {
   "cell_type": "markdown",
   "metadata": {
    "deletable": true,
    "editable": true
   },
   "source": [
    "# Plot adcl with bad values larger than 0.15"
   ]
  },
  {
   "cell_type": "code",
   "execution_count": 114,
   "metadata": {
    "collapsed": false,
    "deletable": true,
    "editable": true,
    "jupyter": {
     "outputs_hidden": false
    }
   },
   "outputs": [
    {
     "data": {
      "image/png": "[encoded data removed]",
      "text/plain": [
       "<Figure size 432x288 with 6 Axes>"
      ]
     },
     "metadata": {},
     "output_type": "display_data"
    }
   ],
   "source": [
    "plot_pplacer_cutoff('_adcl', 0.15)"
   ]
  },
  {
   "cell_type": "markdown",
   "metadata": {
    "deletable": true,
    "editable": true
   },
   "source": [
    "# edpl"
   ]
  },
  {
   "cell_type": "code",
   "execution_count": 115,
   "metadata": {
    "collapsed": false,
    "deletable": true,
    "editable": true,
    "jupyter": {
     "outputs_hidden": false
    }
   },
   "outputs": [
    {
     "ename": "ImportError",
     "evalue": "DLL load failed: The specified module could not be found.",
     "output_type": "error",
     "traceback": [
      "\u001b[1;31m---------------------------------------------------------------------------\u001b[0m",
      "\u001b[1;31mImportError\u001b[0m                               Traceback (most recent call last)",
      "\u001b[1;32m<ipython-input-115-ef9a73fa497c>\u001b[0m in \u001b[0;36m<module>\u001b[1;34m()\u001b[0m\n\u001b[1;32m----> 1\u001b[1;33m \u001b[1;32mfrom\u001b[0m \u001b[0mscipy\u001b[0m\u001b[1;33m.\u001b[0m\u001b[0mstats\u001b[0m \u001b[1;32mimport\u001b[0m \u001b[0mmedian_test\u001b[0m\u001b[1;33m\u001b[0m\u001b[0m\n\u001b[0m\u001b[0;32m      2\u001b[0m \u001b[1;32mfrom\u001b[0m \u001b[0mscipy\u001b[0m\u001b[1;33m.\u001b[0m\u001b[0mstats\u001b[0m \u001b[1;32mimport\u001b[0m \u001b[0mskew\u001b[0m\u001b[1;33m\u001b[0m\u001b[0m\n\u001b[0;32m      3\u001b[0m \u001b[1;31m# stat, p, med, tbl = median_test(g1, g2, g3)\u001b[0m\u001b[1;33m\u001b[0m\u001b[1;33m\u001b[0m\u001b[0m\n",
      "\u001b[1;32mC:\\Users\\hsun1\\AppData\\Local\\Enthought\\Canopy\\edm\\envs\\User\\lib\\site-packages\\scipy\\stats\\__init__.py\u001b[0m in \u001b[0;36m<module>\u001b[1;34m()\u001b[0m\n\u001b[0;32m    343\u001b[0m \u001b[1;32mfrom\u001b[0m \u001b[0m__future__\u001b[0m \u001b[1;32mimport\u001b[0m \u001b[0mdivision\u001b[0m\u001b[1;33m,\u001b[0m \u001b[0mprint_function\u001b[0m\u001b[1;33m,\u001b[0m \u001b[0mabsolute_import\u001b[0m\u001b[1;33m\u001b[0m\u001b[0m\n\u001b[0;32m    344\u001b[0m \u001b[1;33m\u001b[0m\u001b[0m\n\u001b[1;32m--> 345\u001b[1;33m \u001b[1;32mfrom\u001b[0m \u001b[1;33m.\u001b[0m\u001b[0mstats\u001b[0m \u001b[1;32mimport\u001b[0m \u001b[1;33m*\u001b[0m\u001b[1;33m\u001b[0m\u001b[0m\n\u001b[0m\u001b[0;32m    346\u001b[0m \u001b[1;32mfrom\u001b[0m \u001b[1;33m.\u001b[0m\u001b[0mdistributions\u001b[0m \u001b[1;32mimport\u001b[0m \u001b[1;33m*\u001b[0m\u001b[1;33m\u001b[0m\u001b[0m\n\u001b[0;32m    347\u001b[0m \u001b[1;32mfrom\u001b[0m \u001b[1;33m.\u001b[0m\u001b[0mmorestats\u001b[0m \u001b[1;32mimport\u001b[0m \u001b[1;33m*\u001b[0m\u001b[1;33m\u001b[0m\u001b[0m\n",
      "\u001b[1;32mC:\\Users\\hsun1\\AppData\\Local\\Enthought\\Canopy\\edm\\envs\\User\\lib\\site-packages\\scipy\\stats\\stats.py\u001b[0m in \u001b[0;36m<module>\u001b[1;34m()\u001b[0m\n\u001b[0;32m    167\u001b[0m \u001b[1;32mfrom\u001b[0m \u001b[0mscipy\u001b[0m\u001b[1;33m.\u001b[0m\u001b[0m_lib\u001b[0m\u001b[1;33m.\u001b[0m\u001b[0msix\u001b[0m \u001b[1;32mimport\u001b[0m \u001b[0mcallable\u001b[0m\u001b[1;33m,\u001b[0m \u001b[0mstring_types\u001b[0m\u001b[1;33m\u001b[0m\u001b[0m\n\u001b[0;32m    168\u001b[0m \u001b[1;32mfrom\u001b[0m \u001b[0mscipy\u001b[0m\u001b[1;33m.\u001b[0m\u001b[0m_lib\u001b[0m\u001b[1;33m.\u001b[0m\u001b[0m_version\u001b[0m \u001b[1;32mimport\u001b[0m \u001b[0mNumpyVersion\u001b[0m\u001b[1;33m\u001b[0m\u001b[0m\n\u001b[1;32m--> 169\u001b[1;33m \u001b[1;32mimport\u001b[0m \u001b[0mscipy\u001b[0m\u001b[1;33m.\u001b[0m\u001b[0mspecial\u001b[0m \u001b[1;32mas\u001b[0m \u001b[0mspecial\u001b[0m\u001b[1;33m\u001b[0m\u001b[0m\n\u001b[0m\u001b[0;32m    170\u001b[0m \u001b[1;32mimport\u001b[0m \u001b[0mscipy\u001b[0m\u001b[1;33m.\u001b[0m\u001b[0mlinalg\u001b[0m \u001b[1;32mas\u001b[0m \u001b[0mlinalg\u001b[0m\u001b[1;33m\u001b[0m\u001b[0m\n\u001b[0;32m    171\u001b[0m \u001b[1;32mfrom\u001b[0m \u001b[1;33m.\u001b[0m \u001b[1;32mimport\u001b[0m \u001b[0mdistributions\u001b[0m\u001b[1;33m\u001b[0m\u001b[0m\n",
      "\u001b[1;32mC:\\Users\\hsun1\\AppData\\Local\\Enthought\\Canopy\\edm\\envs\\User\\lib\\site-packages\\scipy\\special\\__init__.py\u001b[0m in \u001b[0;36m<module>\u001b[1;34m()\u001b[0m\n\u001b[0;32m    638\u001b[0m \u001b[1;32mfrom\u001b[0m \u001b[1;33m.\u001b[0m\u001b[0msf_error\u001b[0m \u001b[1;32mimport\u001b[0m \u001b[0mSpecialFunctionWarning\u001b[0m\u001b[1;33m,\u001b[0m \u001b[0mSpecialFunctionError\u001b[0m\u001b[1;33m\u001b[0m\u001b[0m\n\u001b[0;32m    639\u001b[0m \u001b[1;33m\u001b[0m\u001b[0m\n\u001b[1;32m--> 640\u001b[1;33m \u001b[1;32mfrom\u001b[0m \u001b[1;33m.\u001b[0m\u001b[0m_ufuncs\u001b[0m \u001b[1;32mimport\u001b[0m \u001b[1;33m*\u001b[0m\u001b[1;33m\u001b[0m\u001b[0m\n\u001b[0m\u001b[0;32m    641\u001b[0m \u001b[1;33m\u001b[0m\u001b[0m\n\u001b[0;32m    642\u001b[0m \u001b[1;32mfrom\u001b[0m \u001b[1;33m.\u001b[0m\u001b[0mbasic\u001b[0m \u001b[1;32mimport\u001b[0m \u001b[1;33m*\u001b[0m\u001b[1;33m\u001b[0m\u001b[0m\n",
      "\u001b[1;31mImportError\u001b[0m: DLL load failed: The specified module could not be found."
     ]
    }
   ],
   "source": [
    "from scipy.stats import median_test\n",
    "from scipy.stats import skew\n",
    "# stat, p, med, tbl = median_test(g1, g2, g3)"
   ]
  },
  {
   "cell_type": "code",
   "execution_count": null,
   "metadata": {
    "collapsed": true,
    "deletable": true,
    "editable": true,
    "jupyter": {
     "outputs_hidden": true
    }
   },
   "outputs": [],
   "source": [
    "stat, p, med, tbl = median_test(df['A_edpl'], df['B_edpl'], df['C_edpl'],df['D_edpl'],df['E_edpl'])"
   ]
  },
  {
   "cell_type": "code",
   "execution_count": null,
   "metadata": {
    "collapsed": false,
    "deletable": true,
    "editable": true,
    "jupyter": {
     "outputs_hidden": false
    }
   },
   "outputs": [],
   "source": [
    "stat,p,med,tbl"
   ]
  },
  {
   "cell_type": "code",
   "execution_count": null,
   "metadata": {
    "collapsed": true,
    "deletable": true,
    "editable": true,
    "jupyter": {
     "outputs_hidden": true
    }
   },
   "outputs": [],
   "source": [
    "# stat is The default is Pearson’s chi-squared statistic.\n",
    "# tbl: contingency table is the number of counts above (first) or below (second) the median\n",
    "# median is the grand median of all the data"
   ]
  },
  {
   "cell_type": "code",
   "execution_count": null,
   "metadata": {
    "collapsed": true,
    "deletable": true,
    "editable": true,
    "jupyter": {
     "outputs_hidden": true
    }
   },
   "outputs": [],
   "source": [
    "stat_prichness, p_prichness, med_prichness, tbl_prichness = median_test(df['A_prichness'], df['B_prichness'], df['C_prichness'],df['D_prichness'],df['E_prichness'])"
   ]
  },
  {
   "cell_type": "code",
   "execution_count": null,
   "metadata": {
    "collapsed": false,
    "deletable": true,
    "editable": true,
    "jupyter": {
     "outputs_hidden": false
    }
   },
   "outputs": [],
   "source": [
    "stat_prichness, p_prichness, med_prichness, tbl_prichness"
   ]
  },
  {
   "cell_type": "code",
   "execution_count": null,
   "metadata": {
    "collapsed": false,
    "deletable": true,
    "editable": true,
    "jupyter": {
     "outputs_hidden": false
    }
   },
   "outputs": [],
   "source": [
    "skew(df.A_prichness),skew(df.B_prichness),skew(df.C_prichness),skew(df.D_prichness),skew(df.E_prichness)"
   ]
  },
  {
   "cell_type": "code",
   "execution_count": null,
   "metadata": {
    "collapsed": false,
    "deletable": true,
    "editable": true,
    "jupyter": {
     "outputs_hidden": false
    }
   },
   "outputs": [],
   "source": [
    "skew(df.A_edpl),skew(df.B_edpl),skew(df.C_edpl),skew(df.D_edpl),skew(df.E_edpl)"
   ]
  },
  {
   "cell_type": "code",
   "execution_count": null,
   "metadata": {
    "collapsed": true,
    "deletable": true,
    "editable": true,
    "jupyter": {
     "outputs_hidden": true
    }
   },
   "outputs": [],
   "source": [
    "from scipy import stats\n",
    "#  stats.percentileofscore([1, 2, 3, 4], 3)"
   ]
  },
  {
   "cell_type": "code",
   "execution_count": null,
   "metadata": {
    "collapsed": false,
    "deletable": true,
    "editable": true,
    "jupyter": {
     "outputs_hidden": false
    }
   },
   "outputs": [],
   "source": [
    "stats.percentileofscore(df.A_prichness,3),stats.percentileofscore(df.B_prichness,3),stats.percentileofscore(df.C_prichness,3),stats.percentileofscore(df.D_prichness,3),stats.percentileofscore(df.E_prichness,3)"
   ]
  },
  {
   "cell_type": "code",
   "execution_count": null,
   "metadata": {
    "collapsed": true,
    "deletable": true,
    "editable": true,
    "jupyter": {
     "outputs_hidden": true
    }
   },
   "outputs": [],
   "source": []
  },
  {
   "cell_type": "code",
   "execution_count": null,
   "metadata": {
    "collapsed": true,
    "deletable": true,
    "editable": true,
    "jupyter": {
     "outputs_hidden": true
    }
   },
   "outputs": [],
   "source": []
  }
 ],
 "metadata": {
  "kernelspec": {
   "display_name": "Python 3",
   "language": "python",
   "name": "python3"
  },
  "language_info": {
   "codemirror_mode": {
    "name": "ipython",
    "version": 3
   },
   "file_extension": ".py",
   "mimetype": "text/x-python",
   "name": "python",
   "nbconvert_exporter": "python",
   "pygments_lexer": "ipython3",
   "version": "3.7.3"
  }
 },
 "nbformat": 4,
 "nbformat_minor": 4
}
