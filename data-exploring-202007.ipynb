{
 "cells": [
  {
   "cell_type": "code",
   "execution_count": 1,
   "metadata": {
    "collapsed": false,
    "jupyter": {
     "outputs_hidden": false
    }
   },
   "outputs": [],
   "source": [
    "import os\n",
    "from IPython.display import display, Image\n",
    "import pandas as pd\n",
    "import numpy as np\n",
    "import seaborn as sns\n",
    "import matplotlib.pyplot as plt\n",
    "from matplotlib import colors\n",
    "from matplotlib.ticker import PercentFormatter\n",
    "from scipy.stats import linregress\n",
    "import math\n",
    "from functools import reduce\n",
    "import matplotlib\n",
    "import argparse\n",
    "# from Bio import SeqIO, Entrez, pairwise2\n",
    "# Entrez.email = 'hongyingsun1101@gmail.com'\n",
    "# from Bio.SeqRecord import SeqRecord\n",
    "import re, time\n",
    "import os, sys, glob\n",
    "import random\n",
    "import uuid\n",
    "# from skbio.tree import TreeNode\n",
    "# from skbio import read\n",
    "# from skbio.stats.distance import DistanceMatrix\n",
    "# from skbio.stats.distance import DissimilarityMatrix\n",
    "\n",
    "from scipy import stats\n",
    "from ast import literal_eval\n",
    "import sqlite3\n",
    "# roc curve and auc score\n",
    "from sklearn.datasets import make_classification\n",
    "from sklearn.neighbors import KNeighborsClassifier\n",
    "from sklearn.ensemble import RandomForestClassifier\n",
    "from sklearn.model_selection import train_test_split\n",
    "from sklearn.metrics import roc_curve\n",
    "from sklearn.metrics import roc_auc_score\n",
    "import warnings\n",
    "warnings.filterwarnings(\"ignore\")\n",
    "\n"
   ]
  },
  {
   "cell_type": "code",
   "execution_count": 2,
   "metadata": {},
   "outputs": [],
   "source": [
    "import matplotlib.pyplot as plt"
   ]
  },
  {
   "cell_type": "code",
   "execution_count": 3,
   "metadata": {},
   "outputs": [],
   "source": [
    "df = pd.read_csv(\"all_data.csv\", index_col=0)\n",
    "score= pd.read_csv(\"score_merged.csv\", index_col=0)"
   ]
  },
  {
   "cell_type": "code",
   "execution_count": 4,
   "metadata": {},
   "outputs": [
    {
     "data": {
      "text/plain": [
       "[     A_adcl    B_adcl    C_adcl    D_adcl    E_adcl  A_edpl    B_edpl  \\\n",
       " 0  0.000007  0.137668  0.021522  0.155496  0.204297     0.0  0.031116   \n",
       " 1  0.000007  0.137668  0.021522  0.155496  0.204297     0.0  0.031116   \n",
       " 2  0.000007  0.137668  0.021522  0.155496  0.204297     0.0  0.031116   \n",
       " 3  0.000007  0.137668  0.021522  0.155496  0.204297     0.0  0.031116   \n",
       " 4  0.000007  0.137668  0.021522  0.155496  0.204297     0.0  0.031116   \n",
       " \n",
       "      C_edpl    D_edpl  E_edpl  ...  E91  E92  E93  E94  E95  E96  E97  E98  \\\n",
       " 0  0.065103  0.015844     0.0  ...  NaN  NaN  NaN  NaN  NaN  NaN  NaN  NaN   \n",
       " 1  0.065103  0.015844     0.0  ...  NaN  NaN  NaN  NaN  NaN  NaN  NaN  NaN   \n",
       " 2  0.065103  0.015844     0.0  ...  NaN  NaN  NaN  NaN  NaN  NaN  NaN  NaN   \n",
       " 3  0.065103  0.015844     0.0  ...  NaN  NaN  NaN  NaN  NaN  NaN  NaN  NaN   \n",
       " 4  0.065103  0.015844     0.0  ...  NaN  NaN  NaN  NaN  NaN  NaN  NaN  NaN   \n",
       " \n",
       "    E99  A_adcl_log  \n",
       " 0  NaN   -5.154282  \n",
       " 1  NaN   -5.154282  \n",
       " 2  NaN   -5.154282  \n",
       " 3  NaN   -5.154282  \n",
       " 4  NaN   -5.154282  \n",
       " \n",
       " [5 rows x 531 columns]]"
      ]
     },
     "execution_count": 4,
     "metadata": {},
     "output_type": "execute_result"
    }
   ],
   "source": [
    "[df.head()]"
   ]
  },
  {
   "cell_type": "code",
   "execution_count": 5,
   "metadata": {},
   "outputs": [],
   "source": [
    "reference ={'A':\"RDP_10398\", 'B':'RDP_5224', 'C':\"RDP_1017\", 'D':'RDP_92', 'E':'RDP_12'}"
   ]
  },
  {
   "cell_type": "code",
   "execution_count": 6,
   "metadata": {},
   "outputs": [],
   "source": [
    "def is_float(string):\n",
    "  try:\n",
    "    return float(string) and '.' in string  # True if string is a number contains a dot\n",
    "  except ValueError:  # String is not a number\n",
    "    return False"
   ]
  },
  {
   "cell_type": "code",
   "execution_count": 7,
   "metadata": {},
   "outputs": [],
   "source": [
    "def plot_pplacer(variable):\n",
    "    fig, axes = plt.subplots(nrows=3, ncols=2)\n",
    "    ax0, ax1, ax2, ax3, ax4, ax5 = axes.flatten()\n",
    "\n",
    "    ax0.hist(df['A'+variable])\n",
    "    ax0.set_title('A'+variable)\n",
    "    ax0.set_ylim(0,5000)\n",
    "\n",
    "    ax1.hist(df['B'+variable])\n",
    "    ax1.set_title('B'+variable)\n",
    "    ax1.set_ylim(0,5000)\n",
    "\n",
    "    ax2.hist(df['C'+variable])\n",
    "    ax2.set_title('C'+variable)\n",
    "    ax2.set_ylim(0,5000)\n",
    "\n",
    "    ax3.hist(df['D'+variable])\n",
    "    ax3.set_title('D'+variable)\n",
    "    ax3.set_ylim(0,5000)\n",
    "    ax4.hist(df['E'+variable])\n",
    "    ax4.set_title('E'+variable)\n",
    "    ax4.set_ylim(0,5000)\n"
   ]
  },
  {
   "cell_type": "code",
   "execution_count": 8,
   "metadata": {},
   "outputs": [],
   "source": [
    "def plotScatter(reference,community):\n",
    "    fig, axes = plt.subplots(nrows=2, ncols=2)\n",
    "    ax0, ax1, ax2, ax3 = axes.flatten()\n",
    "\n",
    "    ax0.scatter(df[reference+'_adcl_log'], df[reference+community])\n",
    "    ax0.set_title(reference+community+' vs '+ reference + '_adcl_log')\n",
    "    \n",
    "    ax1.scatter(df[reference+'_edpl'], df[reference+community])\n",
    "    ax1.set_title(reference+community+' vs '+ reference + '_edpl')\n",
    "    \n",
    "    ax2.scatter(df[reference+'_mindistl'], df[reference+community])\n",
    "    ax2.set_title(reference+community+' vs '+ reference + '_mindistl')\n",
    "    \n",
    "    ax3.scatter(df[reference+'_prichness'], df[reference+community])\n",
    "    ax3.set_title(reference+community+' vs '+ reference + '_prichness')\n"
   ]
  },
  {
   "cell_type": "code",
   "execution_count": 9,
   "metadata": {
    "collapsed": false,
    "jupyter": {
     "outputs_hidden": false
    }
   },
   "outputs": [],
   "source": [
    "# plotScatter('A','0')"
   ]
  },
  {
   "cell_type": "code",
   "execution_count": 10,
   "metadata": {
    "collapsed": false,
    "jupyter": {
     "outputs_hidden": false
    }
   },
   "outputs": [],
   "source": [
    "# plotScatter('B','0')"
   ]
  },
  {
   "cell_type": "code",
   "execution_count": 11,
   "metadata": {
    "collapsed": false,
    "jupyter": {
     "outputs_hidden": false
    }
   },
   "outputs": [
    {
     "data": {
      "image/png": "[encoded data removed]",
      "text/plain": [
       "<Figure size 432x288 with 6 Axes>"
      ]
     },
     "metadata": {
      "needs_background": "light"
     },
     "output_type": "display_data"
    }
   ],
   "source": [
    "def plotScatterRef(variable,community):\n",
    "    fig, axes = plt.subplots(nrows=3, ncols=2)\n",
    "    ax0, ax1, ax2, ax3, ax4, ax5 = axes.flatten()\n",
    "\n",
    "    ax0.scatter(df['A'+variable], df['A'+community])\n",
    "    ax0.set_title('A' + community +' vs A' + variable)\n",
    "    ax1.scatter(df['B'+variable], df['B'+community])\n",
    "    ax1.set_title('B' + community +' vs B' + variable)\n",
    "    \n",
    "    ax2.scatter(df['C'+variable], df['C'+community])\n",
    "    ax2.set_title('C' + community +' vs C' + variable)\n",
    "    \n",
    "    ax3.scatter(df['D'+variable], df['D'+community])\n",
    "    ax3.set_title('D' + community +' vs D' + variable)  \n",
    "    \n",
    "    ax4.scatter(df['E'+variable], df['E'+community])\n",
    "    ax4.set_title('E' + community +' vs E' + variable)   \n",
    "    \n",
    "    ax5.scatter(df['E'+variable], df['E'+community])\n",
    "    ax5.set_title('E ' + community +'vs E' + variable)       \n",
    "\n",
    "\n",
    "    \n",
    "    \n",
    "plotScatterRef('_adcl_log','0');"
   ]
  },
  {
   "cell_type": "code",
   "execution_count": 12,
   "metadata": {
    "collapsed": false,
    "jupyter": {
     "outputs_hidden": false
    }
   },
   "outputs": [],
   "source": [
    "    \n",
    "# plotScatterRef('_edpl','99');"
   ]
  },
  {
   "cell_type": "code",
   "execution_count": 13,
   "metadata": {},
   "outputs": [],
   "source": [
    "cols=df.columns.tolist()\n",
    "# cols[:20]"
   ]
  },
  {
   "cell_type": "code",
   "execution_count": 14,
   "metadata": {},
   "outputs": [],
   "source": [
    "def plot_roc_curve(fpr, tpr):\n",
    "    plt.plot(fpr, tpr, color='orange', label='ROC')\n",
    "    plt.plot([0, 1], [0, 1], color='darkblue', linestyle='--')\n",
    "    plt.xlabel('False Positive Rate')\n",
    "    plt.ylabel('True Positive Rate')\n",
    "    plt.title('Receiver Operating Characteristic (ROC) Curve')\n",
    "    plt.legend()\n",
    "    plt.show()"
   ]
  },
  {
   "cell_type": "code",
   "execution_count": 15,
   "metadata": {},
   "outputs": [],
   "source": [
    "def plot_roc(data_X, class_label):\n",
    "    trainX, testX, trainy, testy = train_test_split(data_X, class_label, test_size=0.3, random_state=1)\n",
    "    model = RandomForestClassifier()\n",
    "    model.fit(trainX, trainy)\n",
    "    probs = model.predict_proba(testX)\n",
    "    probs = probs[:, 1]\n",
    "    auc = roc_auc_score(testy, probs)\n",
    "    fpr, tpr, thresholds = roc_curve(testy, probs)\n",
    "    optimal_idx = np.argmax(tpr - fpr)\n",
    "    optimal_threshold = thresholds[optimal_idx]\n",
    "    print('optimal_threshold: %.2f' % optimal_threshold)\n",
    "    print('AUC: %.2f' % auc)\n",
    "    print( thresholds)\n",
    "#     print( thresholds)\n",
    "#     print('Model: ')\n",
    "#     print(model)\n",
    "    plot_roc_curve(fpr, tpr)"
   ]
  },
  {
   "cell_type": "code",
   "execution_count": 16,
   "metadata": {
    "collapsed": false,
    "jupyter": {
     "outputs_hidden": false
    }
   },
   "outputs": [
    {
     "name": "stdout",
     "output_type": "stream",
     "text": [
      "------------------\n",
      "AUROC    Categoroy\n",
      "------------------\n",
      "0.9-1.0  Very good\n",
      "0.8-0.9  Good     \n",
      "0.7-0.8  Fair     \n",
      "0.6-0.7  Poor     \n",
      "0.5-0.6  Fail     \n",
      "------------------\n"
     ]
    }
   ],
   "source": [
    "def makeTable(headerRow,columnizedData,columnSpacing=2):\n",
    "    \"\"\"Creates a technical paper style, left justified table\"\"\"\n",
    "    from numpy import array,max,vectorize\n",
    "\n",
    "    cols = array(columnizedData,dtype=str)\n",
    "    colSizes = [max(vectorize(len)(col)) for col in cols]\n",
    "\n",
    "    header = ''\n",
    "    rows = ['' for i in cols[0]]\n",
    "\n",
    "    for i in range(0,len(headerRow)):\n",
    "        if len(headerRow[i]) > colSizes[i]: colSizes[i]=len(headerRow[i])\n",
    "        headerRow[i]+=' '*(colSizes[i]-len(headerRow[i]))\n",
    "        header+=headerRow[i]\n",
    "        if not i == len(headerRow)-1: header+=' '*columnSpacing\n",
    "\n",
    "        for j in range(0,len(cols[i])):\n",
    "            if len(cols[i][j]) < colSizes[i]:\n",
    "                cols[i][j]+=' '*(colSizes[i]-len(cols[i][j])+columnSpacing)\n",
    "            rows[j]+=cols[i][j]\n",
    "            if not i == len(headerRow)-1: rows[j]+=' '*columnSpacing\n",
    "\n",
    "    line = '-'*len(header)\n",
    "    print(line)\n",
    "    print(header)\n",
    "    print(line)\n",
    "    for row in rows: print(row)\n",
    "    print(line)\n",
    "header = ['AUROC','Categoroy']\n",
    "cutoffs = ['0.9-1.0','0.8-0.9','0.7-0.8','0.6-0.7','0.5-0.6']\n",
    "evalualtion = ['Very good','Good','Fair', 'Poor', 'Fail']\n",
    "makeTable(header,[cutoffs,evalualtion])"
   ]
  },
  {
   "cell_type": "code",
   "execution_count": 17,
   "metadata": {},
   "outputs": [],
   "source": [
    "def plot_roc_microbiome(data_X, class_label, x, y, data_test=False):\n",
    "    if(not data_test):\n",
    "#         print(\"data_set is False\")\n",
    "        trainX, testX, trainy, testy = train_test_split(data_X, class_label, test_size=0.3, random_state=1)\n",
    "        model = RandomForestClassifier()\n",
    "        model.fit(trainX, trainy)\n",
    "        probs = model.predict_proba(testX)\n",
    "        probs = probs[:, 1]\n",
    "        auc = roc_auc_score(testy, probs)\n",
    "        fpr, tpr, thresholds = roc_curve(testy, probs)\n",
    "        optimal_idx = np.argmax(tpr - fpr)\n",
    "        optimal_threshold = thresholds[optimal_idx]\n",
    "        print('optimal_threshold: %.2f' % optimal_threshold)\n",
    "        print('AUC: %.2f' % auc)\n",
    "        print('thresholds: ' + thresholds)\n",
    "\n",
    "        plot_roc_curve(fpr, tpr)\n",
    "\n",
    "    else:\n",
    "        print(\"data_set is True\")\n",
    "        trainX, testX, trainy, testy = train_test_split(data_X, class_label, test_size=0.3, random_state=1)\n",
    "        model = RandomForestClassifier()\n",
    "        model.fit(trainX, trainy)\n",
    "        probs1 = model.predict_proba(testX)\n",
    "        probs1 = probs1[:, 1]\n",
    "        auc1 = roc_auc_score(testy, probs1)\n",
    "        fpr1, tpr1, thresholds1 = roc_curve(testy, probs1)\n",
    "        optimal_idx1 = np.argmax(tpr1 - fpr1)\n",
    "        optimal_threshold1 = thresholds1[optimal_idx1]\n",
    "        print('AUC1: %.2f' % auc1)\n",
    "        print('optimal_threshold1: %.2f' % optimal_threshold1)\n",
    "        print(thresholds1)\n",
    "        plot_roc_curve(fpr1, tpr1)\n",
    "        \n",
    "        probs2 = model.predict_proba(x)\n",
    "        probs2 = probs2[:, 1]\n",
    "        auc2 = roc_auc_score(y, probs2)\n",
    "        fpr2, tpr2, thresholds2 = roc_curve(y, probs2)\n",
    "        optimal_idx2 = np.argmax(tpr2 - fpr2)\n",
    "        optimal_threshold2 = thresholds2[optimal_idx2]\n",
    "        print('AUC2: %.2f' % auc2)\n",
    "        print('optimal_threshold2: %.2f' % optimal_threshold2)\n",
    "        print( thresholds2)\n",
    "        plot_roc_curve(fpr2, tpr2)\n"
   ]
  },
  {
   "cell_type": "code",
   "execution_count": 18,
   "metadata": {},
   "outputs": [],
   "source": [
    "def plot_roc_curve_microbiome(pplacer_ref_list, pplacer_stats_list, community_list, cutoff_list, scoreOption=True):\n",
    "    for (refIndex,pplacer_ref) in enumerate(pplacer_ref_list):\n",
    "#     for refIndex in range(len(pplacer_ref_list)):\n",
    "#         pplacer_ref = pplacer_ref_list[refIndex]\n",
    "        for (statsIndex,pplacer_stats) in enumerate(pplacer_stats_list):\n",
    "#         for statsIndex in range(len(pplacer_stats_list)):\n",
    "#             pplacer_stats = pplacer_stats_list[statsIndex]\n",
    "            for (communityIndex,community) in enumerate(community_list):\n",
    "#             for communityIndex in range(len(community_list)):\n",
    "#                 community = community_list[communityIndex]\n",
    "                for (i, cutoff) in enumerate(cutoff_list):\n",
    "#                 for i in range(len(cutoff_list)):\n",
    "#                     cutoff=cutoff_list[i]\n",
    "                    if(is_float(cutoff)):\n",
    "                        cutoff_binary=float(cutoff)\n",
    "                    else:\n",
    "                        if(scoreOption):\n",
    "                            cutoff_binary=float(df[pplacer_ref+community].describe().loc[[cutoff]])\n",
    "\n",
    "                        else:\n",
    "                            cutoff_binary = float(df[pplacer_ref+pplacer_stats].describe().loc[[cutoff]])\n",
    "                    if(scoreOption):\n",
    "                        mask = df[pplacer_ref+community] <=  cutoff_binary\n",
    "                        df.loc[mask, pplacer_ref+community+'_binary'] = 1\n",
    "                        mask = df[pplacer_ref+community] >cutoff_binary\n",
    "                        df.loc[mask, pplacer_ref+community+'_binary'] = 0\n",
    "                        df_binary = df[[pplacer_ref+pplacer_stats, pplacer_ref+community+'_binary']].dropna()\n",
    "                        data_stats = df_binary[pplacer_ref+pplacer_stats].to_numpy().reshape(-1,1)\n",
    "                        binary_label =  df_binary[pplacer_ref+community+'_binary'].to_numpy()\n",
    "                        print(' The score cutoff '+ cutoff +' for Reference ' + pplacer_ref +' community ' + community   + ' with pplacer_stats '+ pplacer_stats[1:] + ': %.2f' % cutoff_binary )\n",
    "                        plot_roc(data_stats,binary_label)\n",
    "                    else:\n",
    "                        mask = df[pplacer_ref+pplacer_stats] <=  cutoff_binary\n",
    "                        df.loc[mask, pplacer_ref+pplacer_stats+'_binary'] = 1\n",
    "                        mask = df[pplacer_ref+pplacer_stats] >cutoff_binary\n",
    "                        df.loc[mask, pplacer_ref+pplacer_stats+'_binary'] = 0\n",
    "                        df_binary = df[[pplacer_ref+community, pplacer_ref+pplacer_stats+'_binary']].dropna()\n",
    "                        data_stats = df_binary[pplacer_ref+community].to_numpy().reshape(-1,1)\n",
    "                        binary_label =  df_binary[pplacer_ref+pplacer_stats+'_binary'].to_numpy()\n",
    "                        print(' The pplacer_stats_cutoff '+ cutoff +' for Reference ' + pplacer_ref +' community ' + community + ' pplacer_stats '  + pplacer_stats[1:]  + ': %.2f' % cutoff_binary )\n",
    "                        plot_roc(data_stats,binary_label)\n",
    "                "
   ]
  },
  {
   "cell_type": "markdown",
   "metadata": {},
   "source": [
    "# different reference same pplacer stats same community to test different cutoffs  and different references for score"
   ]
  },
  {
   "cell_type": "code",
   "execution_count": 19,
   "metadata": {},
   "outputs": [],
   "source": [
    "# plot_roc_curve_microbiome(pplacer_ref_list = ['A','B','C','D','E'],pplacer_stats_list=['_adcl_log'],community_list=['A'],cutoff_list=['mean', 'min','25%','50%','75%'],scoreOption=False)"
   ]
  },
  {
   "cell_type": "code",
   "execution_count": 20,
   "metadata": {
    "collapsed": false,
    "jupyter": {
     "outputs_hidden": false
    }
   },
   "outputs": [
    {
     "data": {
      "text/plain": [
       "count    605.000000\n",
       "mean      14.601653\n",
       "std       25.354082\n",
       "min        0.000000\n",
       "25%        0.000000\n",
       "50%        2.000000\n",
       "75%        2.000000\n",
       "max       62.000000\n",
       "Name: E0, dtype: float64"
      ]
     },
     "execution_count": 20,
     "metadata": {},
     "output_type": "execute_result"
    }
   ],
   "source": [
    "df['E0'].describe()"
   ]
  },
  {
   "cell_type": "markdown",
   "metadata": {},
   "source": [
    "# Different reference same pplacer stats same community to test different cutoffs  and different references for adcl_log"
   ]
  },
  {
   "cell_type": "markdown",
   "metadata": {},
   "source": [
    "# Fitting on large reference and test on small reference datasets"
   ]
  },
  {
   "cell_type": "code",
   "execution_count": 21,
   "metadata": {},
   "outputs": [],
   "source": [
    "def plot_roc_curve_microbiome_test2(pplacer_ref_list, pplacer_stats_list, community_list, cutoff_list, test_data_list, scoreOption=True, testOption=False):\n",
    "    for refIndex in range(len(pplacer_ref_list)):\n",
    "        pplacer_ref = pplacer_ref_list[refIndex]\n",
    "        for statsIndex in range(len(pplacer_stats_list)):\n",
    "            pplacer_stats = pplacer_stats_list[statsIndex]\n",
    "            for communityIndex in range(len(community_list)):\n",
    "                community = community_list[communityIndex]\n",
    "                for i in range(len(cutoff_list)):\n",
    "                    cutoff=cutoff_list[i]\n",
    "                    if(is_float(cutoff)):\n",
    "                        cutoff_binary=float(cutoff)\n",
    "                    else:\n",
    "                        if(scoreOption):\n",
    "                            cutoff_binary=float(df[pplacer_ref+community].describe().loc[[cutoff]])\n",
    "\n",
    "                        else:\n",
    "                            cutoff_binary = float(df[pplacer_ref+pplacer_stats].describe().loc[[cutoff]])\n",
    "                    # no test situation, which is the default option\n",
    "                    if (not testOption):\n",
    "\n",
    "                        if(scoreOption):\n",
    "                            mask = df[pplacer_ref+community] <=  cutoff_binary\n",
    "                            df.loc[mask, pplacer_ref+community+'_binary'] = 1\n",
    "                            mask = df[pplacer_ref+community] >cutoff_binary\n",
    "                            df.loc[mask, pplacer_ref+community+'_binary'] = 0\n",
    "                            df_binary = df[[pplacer_ref+pplacer_stats, pplacer_ref+community+'_binary']].dropna()\n",
    "                            data_stats = df_binary[pplacer_ref+pplacer_stats].to_numpy().reshape(-1,1)\n",
    "                            binary_label =  df_binary[pplacer_ref+community+'_binary'].to_numpy()\n",
    "                            print(' The score cutoff '+ cutoff +' for Reference ' + pplacer_ref +' community ' + community   + ' with pplacer_stats '+ pplacer_stats[1:] + ': %.2f' % cutoff_binary )\n",
    "                            # plot_roc(data_stats,binary_label)\n",
    "                            plot_roc_microbiome(data_stats,binary_label,x=None,y=None,data_test=False)\n",
    "                        else:\n",
    "                            mask = df[pplacer_ref+pplacer_stats] <=  cutoff_binary\n",
    "                            df.loc[mask, pplacer_ref+pplacer_stats+'_binary'] = 1\n",
    "                            mask = df[pplacer_ref+pplacer_stats] >cutoff_binary\n",
    "                            df.loc[mask, pplacer_ref+pplacer_stats+'_binary'] = 0\n",
    "                            df_binary = df[[pplacer_ref+community, pplacer_ref+pplacer_stats+'_binary']].dropna()\n",
    "                            data_stats = df_binary[pplacer_ref+community].to_numpy().reshape(-1,1)\n",
    "                            binary_label =  df_binary[pplacer_ref+pplacer_stats+'_binary'].to_numpy()\n",
    "                            print(' The pplacer_stats_cutoff '+ cutoff +' for Reference ' + pplacer_ref +' community ' + community + ' pplacer_stats '  + pplacer_stats[1:]  + ': %.2f' % cutoff_binary )\n",
    "                            # plot_roc(data_stats,binary_label)\n",
    "                            plot_roc_microbiome(data_stats,binary_label,x=None,y=None,data_test=False)\n",
    "                    \n",
    "                    # if there is test\n",
    "                    else:\n",
    "                        for j in range(len(test_data_list)):\n",
    "                            test=test_data_list[j]\n",
    "                            if(scoreOption):\n",
    "                                mask = df[pplacer_ref+community] <=  cutoff_binary\n",
    "                                df.loc[mask, pplacer_ref+community+'_binary'] = 1\n",
    "                                mask = df[pplacer_ref+community] >cutoff_binary\n",
    "                                df.loc[mask, pplacer_ref+community+'_binary'] = 0\n",
    "                                df_binary = df[[pplacer_ref+pplacer_stats, pplacer_ref+community+'_binary']].dropna()\n",
    "                                data_stats = df_binary[pplacer_ref+pplacer_stats].to_numpy().reshape(-1,1)\n",
    "                                binary_label =  df_binary[pplacer_ref+community+'_binary'].to_numpy()\n",
    "                                \n",
    "                                mask_test = df[test+community] <=  cutoff_binary\n",
    "                                df.loc[mask_test, test+community+'_binary'] = 1\n",
    "                                mask_test = df[test+community] >cutoff_binary\n",
    "                                df.loc[mask_test, test+community+'_binary'] = 0\n",
    "                                df_binary = df[[test+pplacer_stats, test+community+'_binary']].dropna()\n",
    "                                x = df_binary[test+pplacer_stats].to_numpy().reshape(-1,1)\n",
    "                                y =  df_binary[test+community+'_binary'].to_numpy()\n",
    "\n",
    "                                print(' The score cutoff '+ cutoff +' for Reference ' + pplacer_ref +' community ' + community   + ' with pplacer_stats '+ pplacer_stats[1:] + ' compared with test ' + test +': %.2f' % cutoff_binary )\n",
    "                                plot_roc_microbiome(data_stats,binary_label,x,y,data_test=True)\n",
    "                            else:\n",
    "\n",
    "                                mask = df[pplacer_ref+pplacer_stats] <=  cutoff_binary\n",
    "                                df.loc[mask, pplacer_ref+pplacer_stats+'_binary'] = 1\n",
    "                                mask = df[pplacer_ref+pplacer_stats] >cutoff_binary\n",
    "                                df.loc[mask, pplacer_ref+pplacer_stats+'_binary'] = 0\n",
    "                                df_binary = df[[pplacer_ref+community, pplacer_ref+pplacer_stats+'_binary']].dropna()\n",
    "                                data_stats = df_binary[pplacer_ref+community].to_numpy().reshape(-1,1)\n",
    "                                binary_label =  df_binary[pplacer_ref+pplacer_stats+'_binary'].to_numpy()\n",
    "                                \n",
    "                                mask_test = df[test+pplacer_stats] <=  cutoff_binary\n",
    "                                df.loc[mask_test, test+pplacer_stats+'_binary'] = 1\n",
    "                                mask_test = df[test+pplacer_stats] >cutoff_binary\n",
    "                                df.loc[mask_test, test+pplacer_stats+'_binary'] = 0\n",
    "                                df_binary = df[[test+community, test+pplacer_stats+'_binary']].dropna()\n",
    "                                x = df_binary[test+community].to_numpy().reshape(-1,1)\n",
    "                                y =  df_binary[test+pplacer_stats+'_binary'].to_numpy()\n",
    "                  \n",
    "                                print(' The pplacer_stats_cutoff '+ cutoff +' for Reference ' + pplacer_ref +' community ' + community + ' pplacer_stats '  + pplacer_stats[1:] + ' compared with test ' + test  + ': %.2f' % cutoff_binary )\n",
    "                                plot_roc_microbiome(data_stats,binary_label,x,y,data_test=True)"
   ]
  },
  {
   "cell_type": "markdown",
   "metadata": {},
   "source": [
    "## Model from larger reference sets to fit data used small reference set.  Could be worse on both directions"
   ]
  },
  {
   "cell_type": "code",
   "execution_count": 22,
   "metadata": {},
   "outputs": [],
   "source": [
    "# plot_roc_curve_microbiome_test2(pplacer_ref_list = ['A'],pplacer_stats_list=['_adcl_log','_edpl','_prichness','_mindistl'],community_list=['0'],cutoff_list=['2.00'], test_data_list=['B','C','D','E'],testOption=True, scoreOption=True)"
   ]
  },
  {
   "cell_type": "code",
   "execution_count": 23,
   "metadata": {},
   "outputs": [],
   "source": [
    "# plot_roc_curve_microbiome_test2(pplacer_ref_list = ['A'],pplacer_stats_list=['_adcl_log'],community_list=['0'],cutoff_list=['-4.00'], test_data_list=['B','C','D','E'],testOption=True, scoreOption=False)"
   ]
  },
  {
   "cell_type": "code",
   "execution_count": 24,
   "metadata": {},
   "outputs": [],
   "source": [
    "# plot_roc_curve_microbiome_test2(pplacer_ref_list = ['A'],pplacer_stats_list=['_adcl_log'],community_list=['0'],cutoff_list=['25%'], test_data_list=['B','C'],testOption=True, scoreOption=False)"
   ]
  },
  {
   "cell_type": "code",
   "execution_count": 25,
   "metadata": {},
   "outputs": [],
   "source": [
    "# plot_roc_curve_microbiome_test2(pplacer_ref_list = ['B'],pplacer_stats_list=['_adcl_log'],community_list=['0'],cutoff_list=['25%'], test_data_list=['A','C'],testOption=True, scoreOption=False)"
   ]
  },
  {
   "cell_type": "code",
   "execution_count": 26,
   "metadata": {},
   "outputs": [],
   "source": [
    "# print(\"the head for df is {}\".format(df.head)+ \" the columns of the df is {}\".format(df.columns))\n",
    "#       "
   ]
  },
  {
   "cell_type": "code",
   "execution_count": 27,
   "metadata": {},
   "outputs": [],
   "source": [
    "# df['A0'].describe(), df['B0'].describe(), df['C0'].describe(), df['D0'].describe(),df['E0'].describe()\n"
   ]
  },
  {
   "cell_type": "code",
   "execution_count": 28,
   "metadata": {},
   "outputs": [],
   "source": [
    "\n",
    "# for community in ['A','B','C','D','E']:\n",
    "#     for i in range(10):\n",
    "#             print(df[community+str(i)].describe())\n"
   ]
  },
  {
   "cell_type": "code",
   "execution_count": 29,
   "metadata": {},
   "outputs": [],
   "source": [
    "df_0 = df"
   ]
  },
  {
   "cell_type": "code",
   "execution_count": 30,
   "metadata": {},
   "outputs": [],
   "source": [
    "# plot_pplacer('90')"
   ]
  },
  {
   "cell_type": "code",
   "execution_count": 31,
   "metadata": {},
   "outputs": [],
   "source": [
    "# plotScatter('B','0')"
   ]
  },
  {
   "cell_type": "code",
   "execution_count": 32,
   "metadata": {},
   "outputs": [],
   "source": [
    "# plotScatterRef('_adcl_log','0')"
   ]
  },
  {
   "cell_type": "code",
   "execution_count": 33,
   "metadata": {},
   "outputs": [],
   "source": [
    "# plot_pplacer('_adcl_log')"
   ]
  },
  {
   "cell_type": "code",
   "execution_count": 34,
   "metadata": {
    "collapsed": false,
    "jupyter": {
     "outputs_hidden": false
    }
   },
   "outputs": [
    {
     "data": {
      "text/plain": [
       "count    5974.000000\n",
       "mean       -4.083366\n",
       "std         1.837510\n",
       "min        -5.995679\n",
       "25%        -5.221126\n",
       "50%        -5.096367\n",
       "75%        -1.706947\n",
       "max        -0.344675\n",
       "Name: A_adcl_log, dtype: float64"
      ]
     },
     "execution_count": 34,
     "metadata": {},
     "output_type": "execute_result"
    }
   ],
   "source": [
    "df['A_adcl_log'].describe()\n",
    "\n"
   ]
  },
  {
   "cell_type": "code",
   "execution_count": 35,
   "metadata": {},
   "outputs": [],
   "source": [
    "# plot_pplacer('0')"
   ]
  },
  {
   "cell_type": "code",
   "execution_count": 36,
   "metadata": {
    "collapsed": false,
    "jupyter": {
     "outputs_hidden": false
    }
   },
   "outputs": [
    {
     "data": {
      "text/plain": [
       "count    605.000000\n",
       "mean       6.390083\n",
       "std       10.778008\n",
       "min        0.000000\n",
       "25%        2.000000\n",
       "50%        2.000000\n",
       "75%        2.000000\n",
       "max       38.000000\n",
       "Name: A0, dtype: float64"
      ]
     },
     "execution_count": 36,
     "metadata": {},
     "output_type": "execute_result"
    }
   ],
   "source": [
    "df['A0'].describe()\n"
   ]
  },
  {
   "cell_type": "code",
   "execution_count": 37,
   "metadata": {},
   "outputs": [],
   "source": [
    "df1 = df[(df['A0']>10)]"
   ]
  },
  {
   "cell_type": "code",
   "execution_count": 38,
   "metadata": {
    "collapsed": false,
    "jupyter": {
     "outputs_hidden": false
    }
   },
   "outputs": [
    {
     "data": {
      "text/plain": [
       "count    99.000000\n",
       "mean     28.626263\n",
       "std      10.791707\n",
       "min      12.000000\n",
       "25%      12.000000\n",
       "50%      32.000000\n",
       "75%      38.000000\n",
       "max      38.000000\n",
       "Name: A0, dtype: float64"
      ]
     },
     "execution_count": 38,
     "metadata": {},
     "output_type": "execute_result"
    }
   ],
   "source": [
    "df1['A0'].describe()"
   ]
  },
  {
   "cell_type": "code",
   "execution_count": 39,
   "metadata": {
    "collapsed": false,
    "jupyter": {
     "outputs_hidden": false
    }
   },
   "outputs": [
    {
     "data": {
      "text/plain": [
       "0.16363636363636364"
      ]
     },
     "execution_count": 39,
     "metadata": {},
     "output_type": "execute_result"
    }
   ],
   "source": [
    "99/605"
   ]
  },
  {
   "cell_type": "code",
   "execution_count": 40,
   "metadata": {
    "collapsed": false,
    "jupyter": {
     "outputs_hidden": false
    }
   },
   "outputs": [
    {
     "data": {
      "text/plain": [
       "count    99.000000\n",
       "mean     25.070707\n",
       "std      17.438670\n",
       "min       0.000000\n",
       "25%       0.000000\n",
       "50%      36.000000\n",
       "75%      38.000000\n",
       "max      38.000000\n",
       "Name: B0, dtype: float64"
      ]
     },
     "execution_count": 40,
     "metadata": {},
     "output_type": "execute_result"
    }
   ],
   "source": [
    "df1['B0'].describe()"
   ]
  },
  {
   "cell_type": "code",
   "execution_count": 41,
   "metadata": {},
   "outputs": [],
   "source": [
    "df2=df[['seqID','A0','B0', 'C0','D0','E0']].dropna()"
   ]
  },
  {
   "cell_type": "code",
   "execution_count": 42,
   "metadata": {},
   "outputs": [],
   "source": [
    "df3 = df2[(df2['A0']>10) & (df2['B0']>10)  & (df2['C0']>10)  & (df2['D0']>10) & (df2['E0']>10)]"
   ]
  },
  {
   "cell_type": "code",
   "execution_count": 43,
   "metadata": {},
   "outputs": [],
   "source": [
    "# df2.describe(), df3.describe()"
   ]
  },
  {
   "cell_type": "code",
   "execution_count": 44,
   "metadata": {
    "collapsed": false,
    "jupyter": {
     "outputs_hidden": false
    }
   },
   "outputs": [
    {
     "data": {
      "text/html": [
       "<div>\n",
       "<style scoped>\n",
       "    .dataframe tbody tr th:only-of-type {\n",
       "        vertical-align: middle;\n",
       "    }\n",
       "\n",
       "    .dataframe tbody tr th {\n",
       "        vertical-align: top;\n",
       "    }\n",
       "\n",
       "    .dataframe thead th {\n",
       "        text-align: right;\n",
       "    }\n",
       "</style>\n",
       "<table border=\"1\" class=\"dataframe\">\n",
       "  <thead>\n",
       "    <tr style=\"text-align: right;\">\n",
       "      <th></th>\n",
       "      <th>seqID</th>\n",
       "      <th>A0</th>\n",
       "      <th>B0</th>\n",
       "      <th>C0</th>\n",
       "      <th>D0</th>\n",
       "      <th>E0</th>\n",
       "    </tr>\n",
       "  </thead>\n",
       "  <tbody>\n",
       "    <tr>\n",
       "      <th>5313</th>\n",
       "      <td>CC11CM5SCR137ef78188b94db7b59504dc64363aa3</td>\n",
       "      <td>34.0</td>\n",
       "      <td>34.0</td>\n",
       "      <td>32.0</td>\n",
       "      <td>32.0</td>\n",
       "      <td>44.0</td>\n",
       "    </tr>\n",
       "    <tr>\n",
       "      <th>5314</th>\n",
       "      <td>CC11CM0SCR35529da454f0497fa16e04841e8e1639</td>\n",
       "      <td>34.0</td>\n",
       "      <td>34.0</td>\n",
       "      <td>32.0</td>\n",
       "      <td>32.0</td>\n",
       "      <td>44.0</td>\n",
       "    </tr>\n",
       "  </tbody>\n",
       "</table>\n",
       "</div>"
      ],
      "text/plain": [
       "                                           seqID    A0    B0    C0    D0    E0\n",
       "5313  CC11CM5SCR137ef78188b94db7b59504dc64363aa3  34.0  34.0  32.0  32.0  44.0\n",
       "5314  CC11CM0SCR35529da454f0497fa16e04841e8e1639  34.0  34.0  32.0  32.0  44.0"
      ]
     },
     "execution_count": 44,
     "metadata": {},
     "output_type": "execute_result"
    }
   ],
   "source": [
    "df3"
   ]
  },
  {
   "cell_type": "code",
   "execution_count": 45,
   "metadata": {
    "collapsed": false,
    "jupyter": {
     "outputs_hidden": false
    }
   },
   "outputs": [
    {
     "data": {
      "text/plain": [
       "0.003305785123966942"
      ]
     },
     "execution_count": 45,
     "metadata": {},
     "output_type": "execute_result"
    }
   ],
   "source": [
    "2/605"
   ]
  },
  {
   "cell_type": "code",
   "execution_count": 46,
   "metadata": {},
   "outputs": [],
   "source": [
    "dfc90 = df[(df['A90']>10) & (df['B90']>10)  & (df['C90']>10)  & (df['D90']>10) & (df['E90']>10)]"
   ]
  },
  {
   "cell_type": "code",
   "execution_count": 47,
   "metadata": {
    "collapsed": false,
    "jupyter": {
     "outputs_hidden": false
    }
   },
   "outputs": [
    {
     "data": {
      "text/plain": [
       "count    0.0\n",
       "mean     NaN\n",
       "std      NaN\n",
       "min      NaN\n",
       "25%      NaN\n",
       "50%      NaN\n",
       "75%      NaN\n",
       "max      NaN\n",
       "Name: B0, dtype: float64"
      ]
     },
     "execution_count": 47,
     "metadata": {},
     "output_type": "execute_result"
    }
   ],
   "source": [
    "dfc90['B0'].describe()"
   ]
  },
  {
   "cell_type": "code",
   "execution_count": 48,
   "metadata": {
    "collapsed": false,
    "jupyter": {
     "outputs_hidden": false
    }
   },
   "outputs": [],
   "source": [
    "\n",
    "\n",
    "\n",
    "A_adcl_0=df[(df.community=='CC11CM0')]['A_adcl'].dropna()"
   ]
  },
  {
   "cell_type": "code",
   "execution_count": 49,
   "metadata": {},
   "outputs": [
    {
     "data": {
      "text/plain": [
       "224     0.342037\n",
       "335     0.322536\n",
       "417     0.000008\n",
       "435     0.000009\n",
       "575     0.000007\n",
       "851     0.000009\n",
       "1218    0.000010\n",
       "1265    0.023068\n",
       "1358    0.000008\n",
       "1380    0.000006\n",
       "1508    0.091582\n",
       "1659    0.000008\n",
       "2061    0.093214\n",
       "2089    0.000005\n",
       "2388    0.000008\n",
       "2450    0.452194\n",
       "2522    0.000007\n",
       "2532    0.000005\n",
       "2540    0.000009\n",
       "2561    0.000005\n",
       "2660    0.000006\n",
       "2710    0.000005\n",
       "2831    0.000009\n",
       "2843    0.000007\n",
       "2867    0.000007\n",
       "2940    0.000005\n",
       "2945    0.000005\n",
       "2987    0.000006\n",
       "3149    0.014845\n",
       "3358    0.000007\n",
       "3527    0.071906\n",
       "3635    0.000008\n",
       "3853    0.000008\n",
       "3891    0.000008\n",
       "3948    0.000006\n",
       "3984    0.000007\n",
       "4030    0.000006\n",
       "4091    0.000008\n",
       "4282    0.000001\n",
       "4369    0.071138\n",
       "4450    0.033444\n",
       "4606    0.000008\n",
       "4871    0.082132\n",
       "4875    0.000008\n",
       "4929    0.000001\n",
       "5195    0.000007\n",
       "5260    0.047384\n",
       "5295    0.000006\n",
       "5314    0.000008\n",
       "5350    0.000006\n",
       "5671    0.000006\n",
       "5715    0.000008\n",
       "5789    0.000006\n",
       "5814    0.079026\n",
       "5826    0.000001\n",
       "Name: A_adcl, dtype: float64"
      ]
     },
     "execution_count": 49,
     "metadata": {},
     "output_type": "execute_result"
    }
   ],
   "source": [
    "A_adcl_0"
   ]
  },
  {
   "cell_type": "code",
   "execution_count": 50,
   "metadata": {
    "collapsed": false,
    "jupyter": {
     "outputs_hidden": false
    }
   },
   "outputs": [
    {
     "data": {
      "image/png": "[encoded data removed]",
      "text/plain": [
       "<Figure size 432x288 with 6 Axes>"
      ]
     },
     "metadata": {
      "needs_background": "light"
     },
     "output_type": "display_data"
    }
   ],
   "source": [
    "plot_pplacer('_prichness')"
   ]
  },
  {
   "cell_type": "code",
   "execution_count": 51,
   "metadata": {
    "collapsed": false,
    "jupyter": {
     "outputs_hidden": false
    }
   },
   "outputs": [
    {
     "data": {
      "text/plain": [
       "count    5974.000000\n",
       "mean        4.727653\n",
       "std         5.465596\n",
       "min         1.000000\n",
       "25%         1.000000\n",
       "50%         3.000000\n",
       "75%         5.000000\n",
       "max        20.000000\n",
       "Name: A_prichness, dtype: float64"
      ]
     },
     "execution_count": 51,
     "metadata": {},
     "output_type": "execute_result"
    }
   ],
   "source": [
    "df['A_prichness'].describe()"
   ]
  },
  {
   "cell_type": "code",
   "execution_count": 52,
   "metadata": {
    "collapsed": false,
    "jupyter": {
     "outputs_hidden": false
    }
   },
   "outputs": [
    {
     "data": {
      "text/plain": [
       "99"
      ]
     },
     "execution_count": 52,
     "metadata": {},
     "output_type": "execute_result"
    }
   ],
   "source": [
    "df[df.A0>10].A0.count()"
   ]
  },
  {
   "cell_type": "code",
   "execution_count": 53,
   "metadata": {
    "collapsed": false,
    "jupyter": {
     "outputs_hidden": false
    }
   },
   "outputs": [
    {
     "data": {
      "text/plain": [
       "0.16363636363636364"
      ]
     },
     "execution_count": 53,
     "metadata": {},
     "output_type": "execute_result"
    }
   ],
   "source": [
    "df[df.A0>10].A0.count()/df.A0.count()"
   ]
  },
  {
   "cell_type": "code",
   "execution_count": 54,
   "metadata": {},
   "outputs": [],
   "source": [
    "\n",
    "# df.head()"
   ]
  },
  {
   "cell_type": "code",
   "execution_count": 55,
   "metadata": {
    "collapsed": false,
    "jupyter": {
     "outputs_hidden": false
    }
   },
   "outputs": [
    {
     "data": {
      "text/plain": [
       "5974"
      ]
     },
     "execution_count": 55,
     "metadata": {},
     "output_type": "execute_result"
    }
   ],
   "source": [
    "df.A_adcl.count()"
   ]
  },
  {
   "cell_type": "code",
   "execution_count": 56,
   "metadata": {},
   "outputs": [],
   "source": [
    "d={\"a\":1, \"b\":2}"
   ]
  },
  {
   "cell_type": "code",
   "execution_count": 57,
   "metadata": {
    "collapsed": false,
    "jupyter": {
     "outputs_hidden": false
    }
   },
   "outputs": [
    {
     "data": {
      "text/plain": [
       "{'a': 1, 'b': 2}"
      ]
     },
     "execution_count": 57,
     "metadata": {},
     "output_type": "execute_result"
    }
   ],
   "source": [
    "d"
   ]
  },
  {
   "cell_type": "code",
   "execution_count": 58,
   "metadata": {},
   "outputs": [],
   "source": [
    "dd = pd.Series(d, name='score')"
   ]
  },
  {
   "cell_type": "code",
   "execution_count": 59,
   "metadata": {},
   "outputs": [],
   "source": [
    "\n",
    "dd.index.name=\"community\""
   ]
  },
  {
   "cell_type": "code",
   "execution_count": 60,
   "metadata": {
    "collapsed": false,
    "jupyter": {
     "outputs_hidden": false
    }
   },
   "outputs": [
    {
     "data": {
      "text/html": [
       "<div>\n",
       "<style scoped>\n",
       "    .dataframe tbody tr th:only-of-type {\n",
       "        vertical-align: middle;\n",
       "    }\n",
       "\n",
       "    .dataframe tbody tr th {\n",
       "        vertical-align: top;\n",
       "    }\n",
       "\n",
       "    .dataframe thead th {\n",
       "        text-align: right;\n",
       "    }\n",
       "</style>\n",
       "<table border=\"1\" class=\"dataframe\">\n",
       "  <thead>\n",
       "    <tr style=\"text-align: right;\">\n",
       "      <th></th>\n",
       "      <th>community</th>\n",
       "      <th>score</th>\n",
       "    </tr>\n",
       "  </thead>\n",
       "  <tbody>\n",
       "    <tr>\n",
       "      <th>0</th>\n",
       "      <td>a</td>\n",
       "      <td>1</td>\n",
       "    </tr>\n",
       "    <tr>\n",
       "      <th>1</th>\n",
       "      <td>b</td>\n",
       "      <td>2</td>\n",
       "    </tr>\n",
       "  </tbody>\n",
       "</table>\n",
       "</div>"
      ],
      "text/plain": [
       "  community  score\n",
       "0         a      1\n",
       "1         b      2"
      ]
     },
     "execution_count": 60,
     "metadata": {},
     "output_type": "execute_result"
    }
   ],
   "source": [
    "dd.reset_index()"
   ]
  },
  {
   "cell_type": "code",
   "execution_count": 61,
   "metadata": {
    "collapsed": false,
    "jupyter": {
     "outputs_hidden": false
    }
   },
   "outputs": [
    {
     "data": {
      "text/plain": [
       "'CC11CM0'"
      ]
     },
     "execution_count": 61,
     "metadata": {},
     "output_type": "execute_result"
    }
   ],
   "source": [
    "\"CC11CM\"+str(0)"
   ]
  },
  {
   "cell_type": "code",
   "execution_count": 62,
   "metadata": {},
   "outputs": [],
   "source": [
    "c0=df['A0'][df['community']=='CC11CM0']"
   ]
  },
  {
   "cell_type": "code",
   "execution_count": 63,
   "metadata": {},
   "outputs": [],
   "source": [
    "per=c0[c0>10].count()/c0.count()"
   ]
  },
  {
   "cell_type": "code",
   "execution_count": 64,
   "metadata": {},
   "outputs": [],
   "source": [
    "def generateScore(stats, referenceID,scorecutoff,statscutoff):\n",
    "    d1={}\n",
    "    d2={}\n",
    "    for i in range(100):\n",
    "        values = df[referenceID+str(i)][df.community=='CC11CM'+str(i)]\n",
    "        statsvalues = df[stats][df['community']=='CC11CM'+str(i)]\n",
    "        d1['CC11CM'+str(i)] = values[values>scorecutoff].count()/values.count()\n",
    "        d2['CC11CM'+str(i)] =statsvalues[statsvalues>statscutoff].count()/statsvalues.count()\n",
    "    d1=pd.Series(d1, name=referenceID)\n",
    "    d1.index.name='community'\n",
    "    d1=d1.reset_index()\n",
    "    d2=pd.Series(d2, name=stats)\n",
    "    d2.index.name='community'\n",
    "    d2=d2.reset_index()\n",
    "    dt = pd.concat([d1,d2], axis=1)\n",
    "#     dt=dt.set_index('community')\n",
    "    return (dt)"
   ]
  },
  {
   "cell_type": "code",
   "execution_count": 65,
   "metadata": {},
   "outputs": [],
   "source": [
    "dt=generateScore('A_adcl', 'A', 10, 0.001)"
   ]
  },
  {
   "cell_type": "code",
   "execution_count": 66,
   "metadata": {
    "collapsed": false,
    "jupyter": {
     "outputs_hidden": false
    }
   },
   "outputs": [
    {
     "data": {
      "text/plain": [
       "<matplotlib.collections.PathCollection at 0x7fdd0e53f510>"
      ]
     },
     "execution_count": 66,
     "metadata": {},
     "output_type": "execute_result"
    },
    {
     "data": {
      "image/png": "[encoded data removed]",
      "text/plain": [
       "<Figure size 432x288 with 1 Axes>"
      ]
     },
     "metadata": {
      "needs_background": "light"
     },
     "output_type": "display_data"
    }
   ],
   "source": [
    "plt.scatter(dt.A, dt.A_adcl)"
   ]
  },
  {
   "cell_type": "code",
   "execution_count": 67,
   "metadata": {},
   "outputs": [],
   "source": [
    "\n",
    "t=[]\n",
    "for referenceID in ['A','B','C','D','E']:\n",
    "    t.append(generateScore('A_adcl', referenceID, 10, 0.001))"
   ]
  },
  {
   "cell_type": "code",
   "execution_count": 68,
   "metadata": {
    "collapsed": false,
    "jupyter": {
     "outputs_hidden": false
    }
   },
   "outputs": [
    {
     "data": {
      "text/html": [
       "<div>\n",
       "<style scoped>\n",
       "    .dataframe tbody tr th:only-of-type {\n",
       "        vertical-align: middle;\n",
       "    }\n",
       "\n",
       "    .dataframe tbody tr th {\n",
       "        vertical-align: top;\n",
       "    }\n",
       "\n",
       "    .dataframe thead th {\n",
       "        text-align: right;\n",
       "    }\n",
       "</style>\n",
       "<table border=\"1\" class=\"dataframe\">\n",
       "  <thead>\n",
       "    <tr style=\"text-align: right;\">\n",
       "      <th></th>\n",
       "      <th>community</th>\n",
       "      <th>A</th>\n",
       "      <th>community</th>\n",
       "      <th>A_adcl</th>\n",
       "    </tr>\n",
       "  </thead>\n",
       "  <tbody>\n",
       "    <tr>\n",
       "      <th>0</th>\n",
       "      <td>CC11CM0</td>\n",
       "      <td>0.090909</td>\n",
       "      <td>CC11CM0</td>\n",
       "      <td>0.236364</td>\n",
       "    </tr>\n",
       "    <tr>\n",
       "      <th>1</th>\n",
       "      <td>CC11CM1</td>\n",
       "      <td>0.082192</td>\n",
       "      <td>CC11CM1</td>\n",
       "      <td>0.328767</td>\n",
       "    </tr>\n",
       "    <tr>\n",
       "      <th>2</th>\n",
       "      <td>CC11CM2</td>\n",
       "      <td>0.025000</td>\n",
       "      <td>CC11CM2</td>\n",
       "      <td>0.175000</td>\n",
       "    </tr>\n",
       "    <tr>\n",
       "      <th>3</th>\n",
       "      <td>CC11CM3</td>\n",
       "      <td>0.050847</td>\n",
       "      <td>CC11CM3</td>\n",
       "      <td>0.254237</td>\n",
       "    </tr>\n",
       "    <tr>\n",
       "      <th>4</th>\n",
       "      <td>CC11CM4</td>\n",
       "      <td>0.000000</td>\n",
       "      <td>CC11CM4</td>\n",
       "      <td>0.288462</td>\n",
       "    </tr>\n",
       "  </tbody>\n",
       "</table>\n",
       "</div>"
      ],
      "text/plain": [
       "  community         A community    A_adcl\n",
       "0   CC11CM0  0.090909   CC11CM0  0.236364\n",
       "1   CC11CM1  0.082192   CC11CM1  0.328767\n",
       "2   CC11CM2  0.025000   CC11CM2  0.175000\n",
       "3   CC11CM3  0.050847   CC11CM3  0.254237\n",
       "4   CC11CM4  0.000000   CC11CM4  0.288462"
      ]
     },
     "execution_count": 68,
     "metadata": {},
     "output_type": "execute_result"
    }
   ],
   "source": [
    "\n",
    "\n",
    "t[0].head()"
   ]
  },
  {
   "cell_type": "code",
   "execution_count": 69,
   "metadata": {},
   "outputs": [],
   "source": [
    "tt = pd.concat([t[0],t[1],t[2],t[3],t[4]], axis=1)"
   ]
  },
  {
   "cell_type": "code",
   "execution_count": 70,
   "metadata": {},
   "outputs": [],
   "source": [
    "def generateScoreu(stats, referenceID,scorecutoff,statscutoff):\n",
    "    d1={}\n",
    "    d2={}\n",
    "    for i in range(100):\n",
    "        values = df[referenceID+str(i)][df.community=='CC11CM'+str(i)]\n",
    "        statsvalues = df[referenceID+stats][df['community']=='CC11CM'+str(i)]\n",
    "        d1['CC11CM'+str(i)] = values[values>scorecutoff].count()/values.count()\n",
    "        d2['CC11CM'+str(i)] =statsvalues[statsvalues>statscutoff].count()/statsvalues.count()\n",
    "    d1=pd.Series(d1, name=referenceID)\n",
    "    d1.index.name='community'\n",
    "    d1=d1.reset_index()\n",
    "    d2=pd.Series(d2, name=referenceID+stats)\n",
    "    d2.index.name='community'\n",
    "    d2=d2.reset_index()\n",
    "    dt = pd.concat([d1,d2], axis=1)\n",
    "    dt=dt.loc[:, ~dt.columns.duplicated()]\n",
    "    dt=dt.set_index('community')\n",
    "    return (dt)"
   ]
  },
  {
   "cell_type": "code",
   "execution_count": 71,
   "metadata": {},
   "outputs": [],
   "source": [
    "dtu=generateScoreu('_adcl', 'A', 10, 0.001)"
   ]
  },
  {
   "cell_type": "code",
   "execution_count": 72,
   "metadata": {
    "collapsed": false,
    "jupyter": {
     "outputs_hidden": false
    }
   },
   "outputs": [
    {
     "data": {
      "text/plain": [
       "<matplotlib.collections.PathCollection at 0x7fdd0e608550>"
      ]
     },
     "execution_count": 72,
     "metadata": {},
     "output_type": "execute_result"
    },
    {
     "data": {
      "image/png": "[encoded data removed]",
      "text/plain": [
       "<Figure size 432x288 with 1 Axes>"
      ]
     },
     "metadata": {
      "needs_background": "light"
     },
     "output_type": "display_data"
    }
   ],
   "source": [
    "plt.scatter(dtu.A, dtu.A_adcl)"
   ]
  },
  {
   "cell_type": "code",
   "execution_count": null,
   "metadata": {},
   "outputs": [],
   "source": []
  },
  {
   "cell_type": "code",
   "execution_count": 73,
   "metadata": {},
   "outputs": [],
   "source": [
    "t=[]\n",
    "statsdir= {'_adcl':0.0001, '_edpl':0,'_prichness':10,'_mindistl':0.05}\n",
    "for stats in statsdir.keys():\n",
    "\n",
    "    for referenceID in ['A','B','C','D','E']:\n",
    "        t.append(generateScoreu(stats, referenceID, 10, statsdir[stats]))"
   ]
  },
  {
   "cell_type": "code",
   "execution_count": null,
   "metadata": {},
   "outputs": [],
   "source": []
  },
  {
   "cell_type": "code",
   "execution_count": 74,
   "metadata": {},
   "outputs": [],
   "source": [
    "ttt = pd.concat([t[0],t[1],t[2],t[3],t[4],t[5],t[6],t[7],t[8],t[9],t[10],t[11],t[12],t[13],t[14],t[15],t[16],t[17],t[18],t[19]], axis=1)\n",
    "ttt=ttt.loc[:, ~ttt.columns.duplicated()]"
   ]
  },
  {
   "cell_type": "code",
   "execution_count": 75,
   "metadata": {},
   "outputs": [],
   "source": [
    "# ttt.describe()"
   ]
  },
  {
   "cell_type": "code",
   "execution_count": 76,
   "metadata": {},
   "outputs": [],
   "source": [
    "ttt.to_csv(\"community-based.csv\")"
   ]
  },
  {
   "cell_type": "code",
   "execution_count": 77,
   "metadata": {
    "collapsed": false,
    "jupyter": {
     "outputs_hidden": false
    }
   },
   "outputs": [
    {
     "data": {
      "text/plain": [
       "(array([5.696e+03, 1.570e+02, 6.800e+01, 0.000e+00, 2.200e+01, 0.000e+00,\n",
       "        0.000e+00, 5.000e+00, 0.000e+00, 2.600e+01]),\n",
       " array([3.48920365e-07, 2.98496853e-02, 5.96990217e-02, 8.95483581e-02,\n",
       "        1.19397695e-01, 1.49247031e-01, 1.79096367e-01, 2.08945704e-01,\n",
       "        2.38795040e-01, 2.68644377e-01, 2.98493713e-01]),\n",
       " <a list of 10 Patch objects>)"
      ]
     },
     "execution_count": 77,
     "metadata": {},
     "output_type": "execute_result"
    },
    {
     "data": {
      "image/png": "[encoded data removed]",
      "text/plain": [
       "<Figure size 432x288 with 1 Axes>"
      ]
     },
     "metadata": {
      "needs_background": "light"
     },
     "output_type": "display_data"
    }
   ],
   "source": [
    "\n",
    "plt.hist(df.A_mindistl)"
   ]
  },
  {
   "cell_type": "code",
   "execution_count": 78,
   "metadata": {},
   "outputs": [],
   "source": [
    "\n",
    "dp =pd.read_csv(\"community-based.csv\", index_col=0)"
   ]
  },
  {
   "cell_type": "code",
   "execution_count": 79,
   "metadata": {
    "collapsed": false,
    "jupyter": {
     "outputs_hidden": false
    }
   },
   "outputs": [
    {
     "data": {
      "text/html": [
       "<div>\n",
       "<style scoped>\n",
       "    .dataframe tbody tr th:only-of-type {\n",
       "        vertical-align: middle;\n",
       "    }\n",
       "\n",
       "    .dataframe tbody tr th {\n",
       "        vertical-align: top;\n",
       "    }\n",
       "\n",
       "    .dataframe thead th {\n",
       "        text-align: right;\n",
       "    }\n",
       "</style>\n",
       "<table border=\"1\" class=\"dataframe\">\n",
       "  <thead>\n",
       "    <tr style=\"text-align: right;\">\n",
       "      <th></th>\n",
       "      <th>A</th>\n",
       "      <th>A_adcl</th>\n",
       "      <th>B</th>\n",
       "      <th>B_adcl</th>\n",
       "      <th>C</th>\n",
       "      <th>C_adcl</th>\n",
       "      <th>D</th>\n",
       "      <th>D_adcl</th>\n",
       "      <th>E</th>\n",
       "      <th>E_adcl</th>\n",
       "      <th>...</th>\n",
       "      <th>A_prichness</th>\n",
       "      <th>B_prichness</th>\n",
       "      <th>C_prichness</th>\n",
       "      <th>D_prichness</th>\n",
       "      <th>E_prichness</th>\n",
       "      <th>A_mindistl</th>\n",
       "      <th>B_mindistl</th>\n",
       "      <th>C_mindistl</th>\n",
       "      <th>D_mindistl</th>\n",
       "      <th>E_mindistl</th>\n",
       "    </tr>\n",
       "  </thead>\n",
       "  <tbody>\n",
       "    <tr>\n",
       "      <th>count</th>\n",
       "      <td>100.000000</td>\n",
       "      <td>100.000000</td>\n",
       "      <td>100.000000</td>\n",
       "      <td>100.000000</td>\n",
       "      <td>100.000000</td>\n",
       "      <td>100.000000</td>\n",
       "      <td>100.000000</td>\n",
       "      <td>100.000000</td>\n",
       "      <td>100.000000</td>\n",
       "      <td>100.000000</td>\n",
       "      <td>...</td>\n",
       "      <td>100.000000</td>\n",
       "      <td>100.000000</td>\n",
       "      <td>100.000000</td>\n",
       "      <td>100.000000</td>\n",
       "      <td>100.000000</td>\n",
       "      <td>100.000000</td>\n",
       "      <td>100.000000</td>\n",
       "      <td>100.000000</td>\n",
       "      <td>100.000000</td>\n",
       "      <td>100.000000</td>\n",
       "    </tr>\n",
       "    <tr>\n",
       "      <th>mean</th>\n",
       "      <td>0.055034</td>\n",
       "      <td>0.277586</td>\n",
       "      <td>0.116043</td>\n",
       "      <td>0.557102</td>\n",
       "      <td>0.318386</td>\n",
       "      <td>0.799584</td>\n",
       "      <td>0.647292</td>\n",
       "      <td>0.962263</td>\n",
       "      <td>0.229600</td>\n",
       "      <td>0.989559</td>\n",
       "      <td>...</td>\n",
       "      <td>0.140234</td>\n",
       "      <td>0.147809</td>\n",
       "      <td>0.142149</td>\n",
       "      <td>0.160060</td>\n",
       "      <td>0.304304</td>\n",
       "      <td>0.025369</td>\n",
       "      <td>0.114361</td>\n",
       "      <td>0.097589</td>\n",
       "      <td>0.198869</td>\n",
       "      <td>0.290481</td>\n",
       "    </tr>\n",
       "    <tr>\n",
       "      <th>std</th>\n",
       "      <td>0.024318</td>\n",
       "      <td>0.049060</td>\n",
       "      <td>0.032415</td>\n",
       "      <td>0.054352</td>\n",
       "      <td>0.048526</td>\n",
       "      <td>0.044362</td>\n",
       "      <td>0.051736</td>\n",
       "      <td>0.017520</td>\n",
       "      <td>0.045910</td>\n",
       "      <td>0.008343</td>\n",
       "      <td>...</td>\n",
       "      <td>0.035764</td>\n",
       "      <td>0.041895</td>\n",
       "      <td>0.037576</td>\n",
       "      <td>0.034324</td>\n",
       "      <td>0.042562</td>\n",
       "      <td>0.018591</td>\n",
       "      <td>0.030794</td>\n",
       "      <td>0.030017</td>\n",
       "      <td>0.042808</td>\n",
       "      <td>0.047167</td>\n",
       "    </tr>\n",
       "    <tr>\n",
       "      <th>min</th>\n",
       "      <td>0.000000</td>\n",
       "      <td>0.142857</td>\n",
       "      <td>0.051724</td>\n",
       "      <td>0.406780</td>\n",
       "      <td>0.216667</td>\n",
       "      <td>0.666667</td>\n",
       "      <td>0.491803</td>\n",
       "      <td>0.916667</td>\n",
       "      <td>0.097222</td>\n",
       "      <td>0.975000</td>\n",
       "      <td>...</td>\n",
       "      <td>0.052632</td>\n",
       "      <td>0.042553</td>\n",
       "      <td>0.056604</td>\n",
       "      <td>0.080645</td>\n",
       "      <td>0.190476</td>\n",
       "      <td>0.000000</td>\n",
       "      <td>0.037037</td>\n",
       "      <td>0.033333</td>\n",
       "      <td>0.109091</td>\n",
       "      <td>0.156863</td>\n",
       "    </tr>\n",
       "    <tr>\n",
       "      <th>25%</th>\n",
       "      <td>0.037736</td>\n",
       "      <td>0.246154</td>\n",
       "      <td>0.095238</td>\n",
       "      <td>0.516532</td>\n",
       "      <td>0.285119</td>\n",
       "      <td>0.773585</td>\n",
       "      <td>0.612455</td>\n",
       "      <td>0.949788</td>\n",
       "      <td>0.193768</td>\n",
       "      <td>0.983051</td>\n",
       "      <td>...</td>\n",
       "      <td>0.118395</td>\n",
       "      <td>0.123077</td>\n",
       "      <td>0.120690</td>\n",
       "      <td>0.144585</td>\n",
       "      <td>0.274194</td>\n",
       "      <td>0.015873</td>\n",
       "      <td>0.095013</td>\n",
       "      <td>0.079132</td>\n",
       "      <td>0.172414</td>\n",
       "      <td>0.265789</td>\n",
       "    </tr>\n",
       "    <tr>\n",
       "      <th>50%</th>\n",
       "      <td>0.052178</td>\n",
       "      <td>0.275986</td>\n",
       "      <td>0.112007</td>\n",
       "      <td>0.563333</td>\n",
       "      <td>0.315789</td>\n",
       "      <td>0.800000</td>\n",
       "      <td>0.649561</td>\n",
       "      <td>0.966667</td>\n",
       "      <td>0.229508</td>\n",
       "      <td>0.984615</td>\n",
       "      <td>...</td>\n",
       "      <td>0.137147</td>\n",
       "      <td>0.146257</td>\n",
       "      <td>0.140351</td>\n",
       "      <td>0.155048</td>\n",
       "      <td>0.306452</td>\n",
       "      <td>0.020221</td>\n",
       "      <td>0.111111</td>\n",
       "      <td>0.096774</td>\n",
       "      <td>0.196400</td>\n",
       "      <td>0.298507</td>\n",
       "    </tr>\n",
       "    <tr>\n",
       "      <th>75%</th>\n",
       "      <td>0.072530</td>\n",
       "      <td>0.301587</td>\n",
       "      <td>0.136310</td>\n",
       "      <td>0.600000</td>\n",
       "      <td>0.346392</td>\n",
       "      <td>0.830769</td>\n",
       "      <td>0.682738</td>\n",
       "      <td>0.978723</td>\n",
       "      <td>0.261943</td>\n",
       "      <td>1.000000</td>\n",
       "      <td>...</td>\n",
       "      <td>0.164801</td>\n",
       "      <td>0.179410</td>\n",
       "      <td>0.157540</td>\n",
       "      <td>0.180082</td>\n",
       "      <td>0.338524</td>\n",
       "      <td>0.034044</td>\n",
       "      <td>0.134615</td>\n",
       "      <td>0.114754</td>\n",
       "      <td>0.229823</td>\n",
       "      <td>0.323077</td>\n",
       "    </tr>\n",
       "    <tr>\n",
       "      <th>max</th>\n",
       "      <td>0.129032</td>\n",
       "      <td>0.416667</td>\n",
       "      <td>0.209677</td>\n",
       "      <td>0.682540</td>\n",
       "      <td>0.448980</td>\n",
       "      <td>0.888889</td>\n",
       "      <td>0.786885</td>\n",
       "      <td>1.000000</td>\n",
       "      <td>0.339623</td>\n",
       "      <td>1.000000</td>\n",
       "      <td>...</td>\n",
       "      <td>0.235294</td>\n",
       "      <td>0.240741</td>\n",
       "      <td>0.254545</td>\n",
       "      <td>0.244898</td>\n",
       "      <td>0.393443</td>\n",
       "      <td>0.096774</td>\n",
       "      <td>0.187500</td>\n",
       "      <td>0.203390</td>\n",
       "      <td>0.333333</td>\n",
       "      <td>0.387755</td>\n",
       "    </tr>\n",
       "  </tbody>\n",
       "</table>\n",
       "<p>8 rows × 25 columns</p>\n",
       "</div>"
      ],
      "text/plain": [
       "                A      A_adcl           B      B_adcl           C      C_adcl  \\\n",
       "count  100.000000  100.000000  100.000000  100.000000  100.000000  100.000000   \n",
       "mean     0.055034    0.277586    0.116043    0.557102    0.318386    0.799584   \n",
       "std      0.024318    0.049060    0.032415    0.054352    0.048526    0.044362   \n",
       "min      0.000000    0.142857    0.051724    0.406780    0.216667    0.666667   \n",
       "25%      0.037736    0.246154    0.095238    0.516532    0.285119    0.773585   \n",
       "50%      0.052178    0.275986    0.112007    0.563333    0.315789    0.800000   \n",
       "75%      0.072530    0.301587    0.136310    0.600000    0.346392    0.830769   \n",
       "max      0.129032    0.416667    0.209677    0.682540    0.448980    0.888889   \n",
       "\n",
       "                D      D_adcl           E      E_adcl  ...  A_prichness  \\\n",
       "count  100.000000  100.000000  100.000000  100.000000  ...   100.000000   \n",
       "mean     0.647292    0.962263    0.229600    0.989559  ...     0.140234   \n",
       "std      0.051736    0.017520    0.045910    0.008343  ...     0.035764   \n",
       "min      0.491803    0.916667    0.097222    0.975000  ...     0.052632   \n",
       "25%      0.612455    0.949788    0.193768    0.983051  ...     0.118395   \n",
       "50%      0.649561    0.966667    0.229508    0.984615  ...     0.137147   \n",
       "75%      0.682738    0.978723    0.261943    1.000000  ...     0.164801   \n",
       "max      0.786885    1.000000    0.339623    1.000000  ...     0.235294   \n",
       "\n",
       "       B_prichness  C_prichness  D_prichness  E_prichness  A_mindistl  \\\n",
       "count   100.000000   100.000000   100.000000   100.000000  100.000000   \n",
       "mean      0.147809     0.142149     0.160060     0.304304    0.025369   \n",
       "std       0.041895     0.037576     0.034324     0.042562    0.018591   \n",
       "min       0.042553     0.056604     0.080645     0.190476    0.000000   \n",
       "25%       0.123077     0.120690     0.144585     0.274194    0.015873   \n",
       "50%       0.146257     0.140351     0.155048     0.306452    0.020221   \n",
       "75%       0.179410     0.157540     0.180082     0.338524    0.034044   \n",
       "max       0.240741     0.254545     0.244898     0.393443    0.096774   \n",
       "\n",
       "       B_mindistl  C_mindistl  D_mindistl  E_mindistl  \n",
       "count  100.000000  100.000000  100.000000  100.000000  \n",
       "mean     0.114361    0.097589    0.198869    0.290481  \n",
       "std      0.030794    0.030017    0.042808    0.047167  \n",
       "min      0.037037    0.033333    0.109091    0.156863  \n",
       "25%      0.095013    0.079132    0.172414    0.265789  \n",
       "50%      0.111111    0.096774    0.196400    0.298507  \n",
       "75%      0.134615    0.114754    0.229823    0.323077  \n",
       "max      0.187500    0.203390    0.333333    0.387755  \n",
       "\n",
       "[8 rows x 25 columns]"
      ]
     },
     "execution_count": 79,
     "metadata": {},
     "output_type": "execute_result"
    }
   ],
   "source": [
    "\n",
    "dp.describe()"
   ]
  },
  {
   "cell_type": "code",
   "execution_count": 80,
   "metadata": {
    "collapsed": false,
    "jupyter": {
     "outputs_hidden": false
    }
   },
   "outputs": [
    {
     "data": {
      "image/png": "[encoded data removed]",
      "text/plain": [
       "<Figure size 432x288 with 1 Axes>"
      ]
     },
     "metadata": {
      "needs_background": "light"
     },
     "output_type": "display_data"
    }
   ],
   "source": [
    "\n",
    "\n",
    "for score in ['A','B','C','D','E'][0:1]:\n",
    "    for stats in ['_adcl', '_edpl','_prichness','_mindistl'][0:1]:\n",
    "        plt.scatter(dp[score], dp[score+stats], label=score + ' vs '+ score+stats)\n",
    "        plt.legend(loc='upper left')\n",
    "        plt.show"
   ]
  },
  {
   "cell_type": "code",
   "execution_count": null,
   "metadata": {},
   "outputs": [],
   "source": [
    "\n",
    "\n"
   ]
  },
  {
   "cell_type": "code",
   "execution_count": 81,
   "metadata": {
    "collapsed": false,
    "jupyter": {
     "outputs_hidden": false
    }
   },
   "outputs": [
    {
     "data": {
      "image/png": "[encoded data removed]",
      "text/plain": [
       "<Figure size 432x288 with 1 Axes>"
      ]
     },
     "metadata": {
      "needs_background": "light"
     },
     "output_type": "display_data"
    }
   ],
   "source": [
    "for score in ['A','B','C','D','E'][0:1]:\n",
    "    for stats in ['_adcl', '_edpl','_prichness','_mindistl'][0:5]:\n",
    "        plt.scatter(dp[score], dp[score+stats], label=score + ' vs '+ score+stats)\n",
    "        plt.legend(loc='upper left')\n",
    "        plt.show"
   ]
  },
  {
   "cell_type": "code",
   "execution_count": null,
   "metadata": {},
   "outputs": [],
   "source": []
  },
  {
   "cell_type": "code",
   "execution_count": 82,
   "metadata": {
    "collapsed": false,
    "jupyter": {
     "outputs_hidden": false
    }
   },
   "outputs": [
    {
     "data": {
      "image/png": "[encoded data removed]",
      "text/plain": [
       "<Figure size 432x288 with 1 Axes>"
      ]
     },
     "metadata": {
      "needs_background": "light"
     },
     "output_type": "display_data"
    }
   ],
   "source": [
    "for score in ['A','B','C','D','E']:\n",
    "    for stats in ['_adcl', '_edpl','_prichness','_mindistl']:\n",
    "        plt.scatter(dp[score], dp[score+stats], label=score + ' vs '+ score+stats)\n",
    "        plt.legend(loc='upper left')\n",
    "        plt.show"
   ]
  },
  {
   "cell_type": "code",
   "execution_count": 83,
   "metadata": {
    "collapsed": false,
    "jupyter": {
     "outputs_hidden": false
    }
   },
   "outputs": [],
   "source": [
    "# dp.describe()"
   ]
  },
  {
   "cell_type": "markdown",
   "metadata": {},
   "source": [
    "# Bray-Curtis distance\n"
   ]
  },
  {
   "cell_type": "code",
   "execution_count": 84,
   "metadata": {
    "collapsed": false,
    "jupyter": {
     "outputs_hidden": false
    }
   },
   "outputs": [
    {
     "data": {
      "text/plain": [
       "0.3333333333333333"
      ]
     },
     "execution_count": 84,
     "metadata": {},
     "output_type": "execute_result"
    }
   ],
   "source": [
    ">>> from scipy.spatial import distance\n",
    ">>> distance.braycurtis([1, 0, 0], [0, 1, 0])\n",
    "1.0\n",
    ">>> distance.braycurtis([1, 1, 0], [0, 1, 0])\n",
    "0.33333333333333331"
   ]
  },
  {
   "cell_type": "code",
   "execution_count": 85,
   "metadata": {
    "collapsed": false,
    "jupyter": {
     "outputs_hidden": false
    }
   },
   "outputs": [
    {
     "data": {
      "text/plain": [
       "1.0"
      ]
     },
     "execution_count": 85,
     "metadata": {},
     "output_type": "execute_result"
    }
   ],
   "source": [
    "distance.braycurtis([1, 0, 0], [0, 1, 0])"
   ]
  },
  {
   "cell_type": "code",
   "execution_count": 86,
   "metadata": {
    "collapsed": false,
    "jupyter": {
     "outputs_hidden": false
    }
   },
   "outputs": [
    {
     "data": {
      "text/plain": [
       "0.3333333333333333"
      ]
     },
     "execution_count": 86,
     "metadata": {},
     "output_type": "execute_result"
    }
   ],
   "source": [
    ">>> distance.braycurtis([1, 1, 0], [0, 1, 0])"
   ]
  },
  {
   "cell_type": "markdown",
   "metadata": {},
   "source": [
    "# Association between Bray-Curtis Distance and "
   ]
  },
  {
   "cell_type": "code",
   "execution_count": 87,
   "metadata": {},
   "outputs": [],
   "source": [
    "bcd = pd.read_csv(\"Bray-Curtis-Distance-HS.csv\", index_col=0)\n",
    "sensitivity = pd.read_csv(\"alphaDiversity_phyloEntropy.csv\", index_col=0)"
   ]
  },
  {
   "cell_type": "code",
   "execution_count": 88,
   "metadata": {
    "collapsed": false,
    "jupyter": {
     "outputs_hidden": false
    }
   },
   "outputs": [
    {
     "data": {
      "text/plain": [
       "(         rdp10398   rdp5224   rdp1017     rdp92     rdp12\n",
       " CC11CM0  0.000000  0.000000  0.000000  0.032523  0.000000\n",
       " CC11CM1  0.012653  0.012653  0.012653  0.025961  0.017573\n",
       " CC11CM2  0.002196  0.002196  0.002196  0.002196  0.002196\n",
       " CC11CM3  0.009952  0.009952  0.009952  0.009952  0.009952\n",
       " CC11CM4  0.006173  0.006173  0.011572  0.006173  0.006173,\n",
       "           RDP_10398  RDP_5224  RDP_1017    RDP_92    RDP_12\n",
       " CC11CM0     3.52104   3.02461   2.01612  0.866728  0.247681\n",
       " CC11CM1     3.53484   2.95072   2.18432  0.838860  0.217677\n",
       " CC11CM10    3.51104   3.05156   2.18018  0.878181  0.245779\n",
       " CC11CM11    3.44639   2.93488   2.17424  0.900507  0.237034\n",
       " CC11CM12    3.57253   3.02328   2.22683  0.908349  0.248668)"
      ]
     },
     "execution_count": 88,
     "metadata": {},
     "output_type": "execute_result"
    }
   ],
   "source": [
    " bcd.head(),sensitivity.head()"
   ]
  },
  {
   "cell_type": "code",
   "execution_count": 89,
   "metadata": {
    "collapsed": false,
    "jupyter": {
     "outputs_hidden": false
    }
   },
   "outputs": [],
   "source": [
    "# bcd-sen = pd.merge(bcd, sensitivity, left_index=True, right_index=True)\n",
    "bcdsen = pd.concat([bcd, sensitivity], axis=1)"
   ]
  },
  {
   "cell_type": "code",
   "execution_count": 90,
   "metadata": {
    "collapsed": false,
    "jupyter": {
     "outputs_hidden": false
    }
   },
   "outputs": [
    {
     "data": {
      "text/html": [
       "<div>\n",
       "<style scoped>\n",
       "    .dataframe tbody tr th:only-of-type {\n",
       "        vertical-align: middle;\n",
       "    }\n",
       "\n",
       "    .dataframe tbody tr th {\n",
       "        vertical-align: top;\n",
       "    }\n",
       "\n",
       "    .dataframe thead th {\n",
       "        text-align: right;\n",
       "    }\n",
       "</style>\n",
       "<table border=\"1\" class=\"dataframe\">\n",
       "  <thead>\n",
       "    <tr style=\"text-align: right;\">\n",
       "      <th></th>\n",
       "      <th>rdp10398</th>\n",
       "      <th>rdp5224</th>\n",
       "      <th>rdp1017</th>\n",
       "      <th>rdp92</th>\n",
       "      <th>rdp12</th>\n",
       "      <th>RDP_10398</th>\n",
       "      <th>RDP_5224</th>\n",
       "      <th>RDP_1017</th>\n",
       "      <th>RDP_92</th>\n",
       "      <th>RDP_12</th>\n",
       "    </tr>\n",
       "  </thead>\n",
       "  <tbody>\n",
       "    <tr>\n",
       "      <th>CC11CM0</th>\n",
       "      <td>0.000000</td>\n",
       "      <td>0.000000</td>\n",
       "      <td>0.000000</td>\n",
       "      <td>0.032523</td>\n",
       "      <td>0.000000</td>\n",
       "      <td>3.52104</td>\n",
       "      <td>3.02461</td>\n",
       "      <td>2.01612</td>\n",
       "      <td>0.866728</td>\n",
       "      <td>0.247681</td>\n",
       "    </tr>\n",
       "    <tr>\n",
       "      <th>CC11CM1</th>\n",
       "      <td>0.012653</td>\n",
       "      <td>0.012653</td>\n",
       "      <td>0.012653</td>\n",
       "      <td>0.025961</td>\n",
       "      <td>0.017573</td>\n",
       "      <td>3.53484</td>\n",
       "      <td>2.95072</td>\n",
       "      <td>2.18432</td>\n",
       "      <td>0.838860</td>\n",
       "      <td>0.217677</td>\n",
       "    </tr>\n",
       "    <tr>\n",
       "      <th>CC11CM2</th>\n",
       "      <td>0.002196</td>\n",
       "      <td>0.002196</td>\n",
       "      <td>0.002196</td>\n",
       "      <td>0.002196</td>\n",
       "      <td>0.002196</td>\n",
       "      <td>3.36317</td>\n",
       "      <td>2.86013</td>\n",
       "      <td>2.02162</td>\n",
       "      <td>0.869733</td>\n",
       "      <td>0.243896</td>\n",
       "    </tr>\n",
       "    <tr>\n",
       "      <th>CC11CM3</th>\n",
       "      <td>0.009952</td>\n",
       "      <td>0.009952</td>\n",
       "      <td>0.009952</td>\n",
       "      <td>0.009952</td>\n",
       "      <td>0.009952</td>\n",
       "      <td>3.51643</td>\n",
       "      <td>3.00732</td>\n",
       "      <td>2.20913</td>\n",
       "      <td>0.864256</td>\n",
       "      <td>0.234243</td>\n",
       "    </tr>\n",
       "    <tr>\n",
       "      <th>CC11CM4</th>\n",
       "      <td>0.006173</td>\n",
       "      <td>0.006173</td>\n",
       "      <td>0.011572</td>\n",
       "      <td>0.006173</td>\n",
       "      <td>0.006173</td>\n",
       "      <td>3.43322</td>\n",
       "      <td>3.05337</td>\n",
       "      <td>2.20913</td>\n",
       "      <td>0.889513</td>\n",
       "      <td>0.219864</td>\n",
       "    </tr>\n",
       "  </tbody>\n",
       "</table>\n",
       "</div>"
      ],
      "text/plain": [
       "         rdp10398   rdp5224   rdp1017     rdp92     rdp12  RDP_10398  \\\n",
       "CC11CM0  0.000000  0.000000  0.000000  0.032523  0.000000    3.52104   \n",
       "CC11CM1  0.012653  0.012653  0.012653  0.025961  0.017573    3.53484   \n",
       "CC11CM2  0.002196  0.002196  0.002196  0.002196  0.002196    3.36317   \n",
       "CC11CM3  0.009952  0.009952  0.009952  0.009952  0.009952    3.51643   \n",
       "CC11CM4  0.006173  0.006173  0.011572  0.006173  0.006173    3.43322   \n",
       "\n",
       "         RDP_5224  RDP_1017    RDP_92    RDP_12  \n",
       "CC11CM0   3.02461   2.01612  0.866728  0.247681  \n",
       "CC11CM1   2.95072   2.18432  0.838860  0.217677  \n",
       "CC11CM2   2.86013   2.02162  0.869733  0.243896  \n",
       "CC11CM3   3.00732   2.20913  0.864256  0.234243  \n",
       "CC11CM4   3.05337   2.20913  0.889513  0.219864  "
      ]
     },
     "execution_count": 90,
     "metadata": {},
     "output_type": "execute_result"
    }
   ],
   "source": [
    "bcdsen.head()"
   ]
  },
  {
   "cell_type": "code",
   "execution_count": 91,
   "metadata": {},
   "outputs": [],
   "source": [
    "# df_new = df.rename(columns={'A': 'a'}, index={'ONE': 'one'})\n",
    "bcdsen = bcdsen.rename(columns={'rdp10398':'bcd_rdp10398', 'rdp10398':'bcd_rdp10398','rdp5224':'bcd_rdp5224','rdp1017':'bcd_rdp1017','rdp92':'bcd_rdp92','rdp12':'bcd_rdp12','RDP_10398':'sensitivity_rdp10398','RDP_5224':'sensitivity_rdp5224','RDP_1017':'sensitivity_rdp1017','RDP_92':'sensitivity_rdp92','RDP_12':'sensitivity_rdp12'})"
   ]
  },
  {
   "cell_type": "code",
   "execution_count": 92,
   "metadata": {
    "collapsed": false,
    "jupyter": {
     "outputs_hidden": false
    }
   },
   "outputs": [
    {
     "data": {
      "text/html": [
       "<div>\n",
       "<style scoped>\n",
       "    .dataframe tbody tr th:only-of-type {\n",
       "        vertical-align: middle;\n",
       "    }\n",
       "\n",
       "    .dataframe tbody tr th {\n",
       "        vertical-align: top;\n",
       "    }\n",
       "\n",
       "    .dataframe thead th {\n",
       "        text-align: right;\n",
       "    }\n",
       "</style>\n",
       "<table border=\"1\" class=\"dataframe\">\n",
       "  <thead>\n",
       "    <tr style=\"text-align: right;\">\n",
       "      <th></th>\n",
       "      <th>bcd_rdp10398</th>\n",
       "      <th>bcd_rdp5224</th>\n",
       "      <th>bcd_rdp1017</th>\n",
       "      <th>bcd_rdp92</th>\n",
       "      <th>bcd_rdp12</th>\n",
       "      <th>sensitivity_rdp10398</th>\n",
       "      <th>sensitivity_rdp5224</th>\n",
       "      <th>sensitivity_rdp1017</th>\n",
       "      <th>sensitivity_rdp92</th>\n",
       "      <th>sensitivity_rdp12</th>\n",
       "    </tr>\n",
       "  </thead>\n",
       "  <tbody>\n",
       "    <tr>\n",
       "      <th>CC11CM0</th>\n",
       "      <td>0.000000</td>\n",
       "      <td>0.000000</td>\n",
       "      <td>0.000000</td>\n",
       "      <td>0.032523</td>\n",
       "      <td>0.000000</td>\n",
       "      <td>3.52104</td>\n",
       "      <td>3.02461</td>\n",
       "      <td>2.01612</td>\n",
       "      <td>0.866728</td>\n",
       "      <td>0.247681</td>\n",
       "    </tr>\n",
       "    <tr>\n",
       "      <th>CC11CM1</th>\n",
       "      <td>0.012653</td>\n",
       "      <td>0.012653</td>\n",
       "      <td>0.012653</td>\n",
       "      <td>0.025961</td>\n",
       "      <td>0.017573</td>\n",
       "      <td>3.53484</td>\n",
       "      <td>2.95072</td>\n",
       "      <td>2.18432</td>\n",
       "      <td>0.838860</td>\n",
       "      <td>0.217677</td>\n",
       "    </tr>\n",
       "    <tr>\n",
       "      <th>CC11CM2</th>\n",
       "      <td>0.002196</td>\n",
       "      <td>0.002196</td>\n",
       "      <td>0.002196</td>\n",
       "      <td>0.002196</td>\n",
       "      <td>0.002196</td>\n",
       "      <td>3.36317</td>\n",
       "      <td>2.86013</td>\n",
       "      <td>2.02162</td>\n",
       "      <td>0.869733</td>\n",
       "      <td>0.243896</td>\n",
       "    </tr>\n",
       "    <tr>\n",
       "      <th>CC11CM3</th>\n",
       "      <td>0.009952</td>\n",
       "      <td>0.009952</td>\n",
       "      <td>0.009952</td>\n",
       "      <td>0.009952</td>\n",
       "      <td>0.009952</td>\n",
       "      <td>3.51643</td>\n",
       "      <td>3.00732</td>\n",
       "      <td>2.20913</td>\n",
       "      <td>0.864256</td>\n",
       "      <td>0.234243</td>\n",
       "    </tr>\n",
       "    <tr>\n",
       "      <th>CC11CM4</th>\n",
       "      <td>0.006173</td>\n",
       "      <td>0.006173</td>\n",
       "      <td>0.011572</td>\n",
       "      <td>0.006173</td>\n",
       "      <td>0.006173</td>\n",
       "      <td>3.43322</td>\n",
       "      <td>3.05337</td>\n",
       "      <td>2.20913</td>\n",
       "      <td>0.889513</td>\n",
       "      <td>0.219864</td>\n",
       "    </tr>\n",
       "  </tbody>\n",
       "</table>\n",
       "</div>"
      ],
      "text/plain": [
       "         bcd_rdp10398  bcd_rdp5224  bcd_rdp1017  bcd_rdp92  bcd_rdp12  \\\n",
       "CC11CM0      0.000000     0.000000     0.000000   0.032523   0.000000   \n",
       "CC11CM1      0.012653     0.012653     0.012653   0.025961   0.017573   \n",
       "CC11CM2      0.002196     0.002196     0.002196   0.002196   0.002196   \n",
       "CC11CM3      0.009952     0.009952     0.009952   0.009952   0.009952   \n",
       "CC11CM4      0.006173     0.006173     0.011572   0.006173   0.006173   \n",
       "\n",
       "         sensitivity_rdp10398  sensitivity_rdp5224  sensitivity_rdp1017  \\\n",
       "CC11CM0               3.52104              3.02461              2.01612   \n",
       "CC11CM1               3.53484              2.95072              2.18432   \n",
       "CC11CM2               3.36317              2.86013              2.02162   \n",
       "CC11CM3               3.51643              3.00732              2.20913   \n",
       "CC11CM4               3.43322              3.05337              2.20913   \n",
       "\n",
       "         sensitivity_rdp92  sensitivity_rdp12  \n",
       "CC11CM0           0.866728           0.247681  \n",
       "CC11CM1           0.838860           0.217677  \n",
       "CC11CM2           0.869733           0.243896  \n",
       "CC11CM3           0.864256           0.234243  \n",
       "CC11CM4           0.889513           0.219864  "
      ]
     },
     "execution_count": 92,
     "metadata": {},
     "output_type": "execute_result"
    }
   ],
   "source": [
    "bcdsen.head()"
   ]
  },
  {
   "cell_type": "code",
   "execution_count": 93,
   "metadata": {},
   "outputs": [],
   "source": [
    "# objects = ('Python', 'C++', 'Java', 'Perl', 'Scala', 'Lisp')\n",
    "# y_pos = np.arange(len(objects))\n",
    "# performance = [10,8,6,4,2,1]\n",
    "# plt.bar(y_pos, performance, align='center', alpha=0.5)\n",
    "# plt.xticks(y_pos, objects)\n",
    "# plt.ylabel('Usage')\n",
    "# plt.title('Programming language usage')\n",
    "# plt.show()"
   ]
  },
  {
   "cell_type": "code",
   "execution_count": 94,
   "metadata": {},
   "outputs": [],
   "source": [
    "# objects=('bcd_rdp10398','bcd_rdp5224','bcd_rdp1017','bcd_rdp92','bcd_rdp12','sensitivity_rdp10398','sensitivity_rdp5224','sensitivity_rdp1017','sensitivity_rdp92','sensitivity_rdp12)\n",
    "# plt.bar(bcdsen.bcd_rdp10398, )"
   ]
  },
  {
   "cell_type": "code",
   "execution_count": 95,
   "metadata": {
    "collapsed": false,
    "jupyter": {
     "outputs_hidden": false
    }
   },
   "outputs": [],
   "source": [
    "#         plt.scatter(bcdsen['bcd_rdp10398'], bcdsen['sensitivity_rdp10398'], label='BCD vs Sensitivity' )\n",
    "#         plt.legend(loc='upper left')\n",
    "#         plt.show"
   ]
  },
  {
   "cell_type": "code",
   "execution_count": 96,
   "metadata": {
    "collapsed": false,
    "jupyter": {
     "outputs_hidden": false
    }
   },
   "outputs": [],
   "source": [
    "\n",
    "# plt.scatter(bcdsen['bcd_rdp5224'], bcdsen['sensitivity_rdp5224'], label='BCD vs Sensitivity' )\n",
    "# plt.legend(loc='upper left')\n",
    "# plt.show"
   ]
  },
  {
   "cell_type": "code",
   "execution_count": 97,
   "metadata": {
    "collapsed": false,
    "jupyter": {
     "outputs_hidden": false
    }
   },
   "outputs": [],
   "source": [
    "# plt.scatter(bcdsen['bcd_rdp12'], bcdsen['sensitivity_rdp12'], label='BCD vs Sensitivity' )\n",
    "# plt.legend(loc='upper left')\n",
    "# plt.show"
   ]
  },
  {
   "cell_type": "code",
   "execution_count": 98,
   "metadata": {
    "collapsed": false,
    "jupyter": {
     "outputs_hidden": false
    }
   },
   "outputs": [],
   "source": [
    "# for refindex in ['10398', '5224','1017','92','12']:\n",
    "#     plt.scatter(bcdsen['bcd_rdp'+refindex], bcdsen['sensitivity_rdp' + refindex ], label='RDP'  + refindex)\n",
    "#     plt.legend(loc='lower right')\n",
    "#     plt.show;\n",
    "#     plt.savefig('bcd-sen.png')"
   ]
  },
  {
   "cell_type": "markdown",
   "metadata": {},
   "source": [
    "<!-- ##  x axis is the Bray-Curtis distance, and y axis is the sensitivity in percent. Each dot is one community. Different colors indicate data using different references. -->"
   ]
  },
  {
   "cell_type": "markdown",
   "metadata": {},
   "source": [
    "# Exploring data"
   ]
  },
  {
   "cell_type": "markdown",
   "metadata": {},
   "source": [
    "# Adcl "
   ]
  },
  {
   "cell_type": "markdown",
   "metadata": {},
   "source": [
    "# Adcl plot all sequences in 5 reference sets"
   ]
  },
  {
   "cell_type": "code",
   "execution_count": null,
   "metadata": {
    "collapsed": false,
    "jupyter": {
     "outputs_hidden": false
    }
   },
   "outputs": [],
   "source": []
  },
  {
   "cell_type": "markdown",
   "metadata": {},
   "source": [
    "# setting y axis to have the same range"
   ]
  },
  {
   "cell_type": "code",
   "execution_count": 99,
   "metadata": {},
   "outputs": [],
   "source": [
    "def plot_pplacer_cutoff(variable, cutoff):\n",
    "    \n",
    "    fig, axes = plt.subplots(nrows=3, ncols=2)\n",
    "    ax0, ax1, ax2, ax3, ax4, ax5 = axes.flatten()\n",
    "\n",
    "    ax0.hist(df['A'+variable][df['A'+variable]>cutoff])\n",
    "    ax0.set_title('A'+variable + ' larger than the cutoff '+ str(cutoff) )\n",
    "    ax0.set_ylim(0,4000)\n",
    "\n",
    "    ax1.hist(df['B'+variable][df['B'+variable]>cutoff])\n",
    "    ax1.set_title('B'+variable)\n",
    "    ax1.set_ylim(0,4000)\n",
    "\n",
    "    ax2.hist(df['C'+variable][df['C'+variable]>cutoff])\n",
    "    ax2.set_title('C'+variable)\n",
    "    ax2.set_ylim(0,4000)\n",
    "\n",
    "    ax3.hist(df['D'+variable][df['D'+variable]>cutoff])\n",
    "    ax3.set_title('D'+variable)\n",
    "    ax3.set_ylim(0,4000)\n",
    "    ax4.hist(df['E'+variable][df['E'+variable]>cutoff])\n",
    "    ax4.set_title('E'+variable)\n",
    "    ax4.set_ylim(0,4000)"
   ]
  },
  {
   "cell_type": "markdown",
   "metadata": {},
   "source": [
    "# Plot adcl with bad values larger than 0.001"
   ]
  },
  {
   "cell_type": "code",
   "execution_count": 100,
   "metadata": {
    "collapsed": false,
    "jupyter": {
     "outputs_hidden": false
    }
   },
   "outputs": [
    {
     "data": {
      "image/png": "[encoded data removed]",
      "text/plain": [
       "<Figure size 432x288 with 6 Axes>"
      ]
     },
     "metadata": {
      "needs_background": "light"
     },
     "output_type": "display_data"
    }
   ],
   "source": [
    "plot_pplacer_cutoff('_adcl', 0.001)"
   ]
  },
  {
   "cell_type": "markdown",
   "metadata": {},
   "source": [
    "# Plot adcl with bad values larger than 0.15"
   ]
  },
  {
   "cell_type": "code",
   "execution_count": null,
   "metadata": {
    "collapsed": false,
    "jupyter": {
     "outputs_hidden": false
    }
   },
   "outputs": [],
   "source": []
  },
  {
   "cell_type": "code",
   "execution_count": null,
   "metadata": {},
   "outputs": [],
   "source": []
  },
  {
   "cell_type": "code",
   "execution_count": 101,
   "metadata": {},
   "outputs": [],
   "source": [
    "# stats.percentileofscore(df.A_adcl,0.001),stats.percentileofscore(df.B_adcl,0.001),stats.percentileofscore(df.C_adcl,0.001),stats.percentileofscore(df.D_adcl,0.001),stats.percentileofscore(df.E_adcl,0.001)"
   ]
  },
  {
   "cell_type": "code",
   "execution_count": 102,
   "metadata": {},
   "outputs": [],
   "source": [
    "# stats.percentileofscore(df.A_adcl,0.15),stats.percentileofscore(df.B_adcl,0.15),stats.percentileofscore(df.C_adcl,0.15),stats.percentileofscore(df.D_adcl,0.15),stats.percentileofscore(df.E_adcl,0.15)"
   ]
  },
  {
   "cell_type": "markdown",
   "metadata": {},
   "source": [
    "# edpl"
   ]
  },
  {
   "cell_type": "code",
   "execution_count": 103,
   "metadata": {
    "collapsed": false,
    "jupyter": {
     "outputs_hidden": false
    }
   },
   "outputs": [],
   "source": [
    "from scipy.stats import median_test\n",
    "from scipy.stats import skew\n",
    "# stat, p, med, tbl = median_test(g1, g2, g3)"
   ]
  },
  {
   "cell_type": "code",
   "execution_count": 104,
   "metadata": {},
   "outputs": [
    {
     "data": {
      "image/png": "[encoded data removed]",
      "text/plain": [
       "<Figure size 432x288 with 6 Axes>"
      ]
     },
     "metadata": {
      "needs_background": "light"
     },
     "output_type": "display_data"
    }
   ],
   "source": [
    "plot_pplacer('_edpl')"
   ]
  },
  {
   "cell_type": "code",
   "execution_count": 105,
   "metadata": {},
   "outputs": [
    {
     "data": {
      "image/png": "[encoded data removed]",
      "text/plain": [
       "<Figure size 432x288 with 6 Axes>"
      ]
     },
     "metadata": {
      "needs_background": "light"
     },
     "output_type": "display_data"
    }
   ],
   "source": [
    "plot_pplacer('_prichness')"
   ]
  },
  {
   "cell_type": "code",
   "execution_count": 106,
   "metadata": {},
   "outputs": [
    {
     "data": {
      "text/plain": [
       "count    5974.000000\n",
       "mean        4.727653\n",
       "std         5.465596\n",
       "min         1.000000\n",
       "25%         1.000000\n",
       "50%         3.000000\n",
       "75%         5.000000\n",
       "max        20.000000\n",
       "Name: A_prichness, dtype: float64"
      ]
     },
     "execution_count": 106,
     "metadata": {},
     "output_type": "execute_result"
    }
   ],
   "source": [
    "df.A_prichness.describe()"
   ]
  },
  {
   "cell_type": "code",
   "execution_count": 107,
   "metadata": {},
   "outputs": [],
   "source": [
    "stat, p, med, tbl = median_test(df['A_edpl'], df['B_edpl'], df['C_edpl'],df['D_edpl'],df['E_edpl'])"
   ]
  },
  {
   "cell_type": "code",
   "execution_count": 108,
   "metadata": {
    "collapsed": false,
    "jupyter": {
     "outputs_hidden": false
    }
   },
   "outputs": [
    {
     "data": {
      "text/plain": [
       "(884.8049200597882,\n",
       " 3.2647574897641094e-190,\n",
       " 0.00624063,\n",
       " array([[2160, 2623, 3293, 3537, 3317],\n",
       "        [3814, 3351, 2681, 2437, 2657]]))"
      ]
     },
     "execution_count": 108,
     "metadata": {},
     "output_type": "execute_result"
    }
   ],
   "source": [
    "\n",
    "stat,p,med,tbl"
   ]
  },
  {
   "cell_type": "code",
   "execution_count": 109,
   "metadata": {},
   "outputs": [],
   "source": [
    "# stats.scoreatpercentile(df.A_edpl,95),stats.scoreatpercentile(df.B_edpl,95),stats.scoreatpercentile(df.C_edpl,95),stats.scoreatpercentile(df.D_edpl,95),stats.scoreatpercentile(df.E_edpl,95)"
   ]
  },
  {
   "cell_type": "code",
   "execution_count": 110,
   "metadata": {},
   "outputs": [],
   "source": [
    "stat, p, med, tbl = median_test(df['A_edpl'][df['A_edpl']>0.09], df['B_edpl'], df['C_edpl'],df['D_edpl'],df['E_edpl'])"
   ]
  },
  {
   "cell_type": "code",
   "execution_count": 111,
   "metadata": {},
   "outputs": [],
   "source": [
    "# stats.scoreatpercentile(df.A_edpl,95),stats.scoreatpercentile(df.B_edpl,95),stats.scoreatpercentile(df.C_edpl,95),stats.scoreatpercentile(df.D_edpl,95),stats.scoreatpercentile(df.E_edpl,95)"
   ]
  },
  {
   "cell_type": "code",
   "execution_count": 112,
   "metadata": {},
   "outputs": [],
   "source": [
    "# stat is The default is Pearson’s chi-squared statistic.\n",
    "# tbl: contingency table is the number of counts above (first) or below (second) the median\n",
    "# median is the grand median of all the data"
   ]
  },
  {
   "cell_type": "code",
   "execution_count": 113,
   "metadata": {},
   "outputs": [],
   "source": [
    "# stats.scoreatpercentile(df.A_edpl,95),stats.scoreatpercentile(df.B_prichness,25),stats.scoreatpercentile(df.C_prichness,25),stats.scoreatpercentile(df.D_prichness,25),stats.scoreatpercentile(df.E_prichness,25)"
   ]
  },
  {
   "cell_type": "code",
   "execution_count": 114,
   "metadata": {},
   "outputs": [],
   "source": [
    "stat_prichness, p_prichness, med_prichness, tbl_prichness = median_test(df['A_prichness'], df['B_prichness'], df['C_prichness'],df['D_prichness'],df['E_prichness'])"
   ]
  },
  {
   "cell_type": "code",
   "execution_count": 115,
   "metadata": {
    "collapsed": false,
    "jupyter": {
     "outputs_hidden": false
    }
   },
   "outputs": [
    {
     "data": {
      "text/plain": [
       "(714.3998925689131,\n",
       " 2.6555831779866207e-153,\n",
       " 3.0,\n",
       " array([[2166, 2404, 2848, 2695, 3517],\n",
       "        [3808, 3570, 3126, 3279, 2457]]))"
      ]
     },
     "execution_count": 115,
     "metadata": {},
     "output_type": "execute_result"
    }
   ],
   "source": [
    "stat_prichness, p_prichness, med_prichness, tbl_prichness"
   ]
  },
  {
   "cell_type": "code",
   "execution_count": 116,
   "metadata": {
    "collapsed": false,
    "jupyter": {
     "outputs_hidden": false
    }
   },
   "outputs": [
    {
     "data": {
      "text/plain": [
       "(1.7223937315812259,\n",
       " 1.655081662276798,\n",
       " 1.4447455865352592,\n",
       " 1.5041655669763299,\n",
       " 0.27329743773080667)"
      ]
     },
     "execution_count": 116,
     "metadata": {},
     "output_type": "execute_result"
    }
   ],
   "source": [
    "skew(df.A_prichness),skew(df.B_prichness),skew(df.C_prichness),skew(df.D_prichness),skew(df.E_prichness)"
   ]
  },
  {
   "cell_type": "code",
   "execution_count": 117,
   "metadata": {
    "collapsed": false,
    "jupyter": {
     "outputs_hidden": false
    }
   },
   "outputs": [
    {
     "data": {
      "text/plain": [
       "(4.7967506095623875,\n",
       " 3.5506023182231856,\n",
       " 4.587433148956383,\n",
       " 4.529095610041163,\n",
       " 1.048243259502774)"
      ]
     },
     "execution_count": 117,
     "metadata": {},
     "output_type": "execute_result"
    }
   ],
   "source": [
    "\n",
    "\n",
    "skew(df.A_edpl),skew(df.B_edpl),skew(df.C_edpl),skew(df.D_edpl),skew(df.E_edpl)"
   ]
  },
  {
   "cell_type": "code",
   "execution_count": 118,
   "metadata": {},
   "outputs": [],
   "source": [
    "from scipy import stats\n",
    "#  stats.percentileofscore([1, 2, 3, 4], 3)"
   ]
  },
  {
   "cell_type": "code",
   "execution_count": 119,
   "metadata": {
    "collapsed": false,
    "jupyter": {
     "outputs_hidden": false
    }
   },
   "outputs": [
    {
     "data": {
      "text/plain": [
       "(55.4820890525611,\n",
       " 50.77837294944761,\n",
       " 41.58018078339471,\n",
       " 41.1700703046535,\n",
       " 38.95212587880817)"
      ]
     },
     "execution_count": 119,
     "metadata": {},
     "output_type": "execute_result"
    }
   ],
   "source": [
    "stats.percentileofscore(df.A_prichness,3),stats.percentileofscore(df.B_prichness,3),stats.percentileofscore(df.C_prichness,3),stats.percentileofscore(df.D_prichness,3),stats.percentileofscore(df.E_prichness,3)"
   ]
  },
  {
   "cell_type": "code",
   "execution_count": 120,
   "metadata": {},
   "outputs": [
    {
     "data": {
      "text/plain": [
       "(85.40341479745564,\n",
       " 84.96819551389353,\n",
       " 84.32373619015735,\n",
       " 83.17710077000335,\n",
       " 68.58888516906595)"
      ]
     },
     "execution_count": 120,
     "metadata": {},
     "output_type": "execute_result"
    }
   ],
   "source": [
    "stats.percentileofscore(df.A_prichness,10),stats.percentileofscore(df.B_prichness,10),stats.percentileofscore(df.C_prichness,10),stats.percentileofscore(df.D_prichness,10),stats.percentileofscore(df.E_prichness,10)"
   ]
  },
  {
   "cell_type": "code",
   "execution_count": 121,
   "metadata": {},
   "outputs": [
    {
     "data": {
      "text/plain": [
       "(70.99933043187144,\n",
       " 67.71007700033478,\n",
       " 59.943086709072645,\n",
       " 64.32875795112153,\n",
       " 47.94107800468698)"
      ]
     },
     "execution_count": 121,
     "metadata": {},
     "output_type": "execute_result"
    }
   ],
   "source": [
    "stats.percentileofscore(df.A_prichness,5),stats.percentileofscore(df.B_prichness,5),stats.percentileofscore(df.C_prichness,5),stats.percentileofscore(df.D_prichness,5),stats.percentileofscore(df.E_prichness,5)"
   ]
  },
  {
   "cell_type": "code",
   "execution_count": 122,
   "metadata": {},
   "outputs": [
    {
     "data": {
      "text/plain": [
       "(66.27050552393706,\n",
       " 60.964178105122194,\n",
       " 52.57783729494476,\n",
       " 44.19149648476733,\n",
       " 45.915634415801804)"
      ]
     },
     "execution_count": 122,
     "metadata": {},
     "output_type": "execute_result"
    }
   ],
   "source": [
    "stats.percentileofscore(df.A_edpl,0.01),stats.percentileofscore(df.B_edpl,0.01),stats.percentileofscore(df.C_edpl,0.01),stats.percentileofscore(df.D_edpl,0.01),stats.percentileofscore(df.E_edpl,0.01)\n"
   ]
  },
  {
   "cell_type": "markdown",
   "metadata": {},
   "source": [
    "# D is larger C. A is the best and E is the worst. This indicates that percentile at score of 5 is a good metric. "
   ]
  },
  {
   "cell_type": "code",
   "execution_count": 123,
   "metadata": {},
   "outputs": [
    {
     "data": {
      "text/plain": [
       "(91.04452628054905,\n",
       " 90.23267492467359,\n",
       " 92.74355540676264,\n",
       " 90.7348510210914,\n",
       " 98.58553732842317)"
      ]
     },
     "execution_count": 123,
     "metadata": {},
     "output_type": "execute_result"
    }
   ],
   "source": [
    "stats.percentileofscore(df.A_prichness,15),stats.percentileofscore(df.B_prichness,15),stats.percentileofscore(df.C_prichness,15),stats.percentileofscore(df.D_prichness,15),stats.percentileofscore(df.E_prichness,15)"
   ]
  },
  {
   "cell_type": "code",
   "execution_count": 124,
   "metadata": {},
   "outputs": [
    {
     "data": {
      "text/plain": [
       "(1.0, 1.0, 1.0, 1.0, 1.0)"
      ]
     },
     "execution_count": 124,
     "metadata": {},
     "output_type": "execute_result"
    }
   ],
   "source": [
    "stats.scoreatpercentile(df.A_prichness,25),stats.scoreatpercentile(df.B_prichness,25),stats.scoreatpercentile(df.C_prichness,25),stats.scoreatpercentile(df.D_prichness,25),stats.scoreatpercentile(df.E_prichness,25)"
   ]
  },
  {
   "cell_type": "code",
   "execution_count": 125,
   "metadata": {},
   "outputs": [
    {
     "data": {
      "text/plain": [
       "(5.0, 7.0, 7.0, 7.0, 11.0)"
      ]
     },
     "execution_count": 125,
     "metadata": {},
     "output_type": "execute_result"
    }
   ],
   "source": [
    "stats.scoreatpercentile(df.A_prichness,75),stats.scoreatpercentile(df.B_prichness,75),stats.scoreatpercentile(df.C_prichness,75),stats.scoreatpercentile(df.D_prichness,75),stats.scoreatpercentile(df.E_prichness,75)"
   ]
  },
  {
   "cell_type": "code",
   "execution_count": 126,
   "metadata": {},
   "outputs": [],
   "source": [
    "aa=stats.scoreatpercentile(df.A_prichness,75),stats.scoreatpercentile(df.B_prichness,75),stats.scoreatpercentile(df.C_prichness,75),stats.scoreatpercentile(df.D_prichness,75),stats.scoreatpercentile(df.E_prichness,75)"
   ]
  },
  {
   "cell_type": "code",
   "execution_count": 127,
   "metadata": {},
   "outputs": [
    {
     "data": {
      "text/plain": [
       "(3.0, 3.0, 3.0, 3.0, 5.0)"
      ]
     },
     "execution_count": 127,
     "metadata": {},
     "output_type": "execute_result"
    }
   ],
   "source": [
    "stats.scoreatpercentile(df.A_prichness,50),stats.scoreatpercentile(df.B_prichness,50),stats.scoreatpercentile(df.C_prichness,50),stats.scoreatpercentile(df.D_prichness,50),stats.scoreatpercentile(df.E_prichness,50)"
   ]
  },
  {
   "cell_type": "code",
   "execution_count": null,
   "metadata": {},
   "outputs": [],
   "source": []
  },
  {
   "cell_type": "markdown",
   "metadata": {},
   "source": []
  },
  {
   "cell_type": "markdown",
   "metadata": {},
   "source": [
    "# Plot "
   ]
  },
  {
   "cell_type": "code",
   "execution_count": 128,
   "metadata": {},
   "outputs": [
    {
     "data": {
      "image/png": "[encoded data removed]",
      "text/plain": [
       "<Figure size 432x288 with 6 Axes>"
      ]
     },
     "metadata": {
      "needs_background": "light"
     },
     "output_type": "display_data"
    }
   ],
   "source": [
    "plot_pplacer('_edpl')"
   ]
  },
  {
   "cell_type": "code",
   "execution_count": 150,
   "metadata": {},
   "outputs": [],
   "source": [
    "dfallvariable=pd.read_csv('allvariables.csv')"
   ]
  },
  {
   "cell_type": "code",
   "execution_count": 160,
   "metadata": {},
   "outputs": [
    {
     "data": {
      "text/plain": [
       "Index(['Unnamed: 0', 'reference', 'adcl_1', 'adcl_2', 'prichness', 'edpl_1',\n",
       "       'edpl_2', 'bcd', 'sensitivity', 'community'],\n",
       "      dtype='object')"
      ]
     },
     "execution_count": 160,
     "metadata": {},
     "output_type": "execute_result"
    }
   ],
   "source": [
    "dfallvariable.columns"
   ]
  },
  {
   "cell_type": "code",
   "execution_count": 162,
   "metadata": {},
   "outputs": [
    {
     "data": {
      "image/png": "[encoded data removed]",
      "text/plain": [
       "<Figure size 432x288 with 1 Axes>"
      ]
     },
     "metadata": {
      "needs_background": "light"
     },
     "output_type": "display_data"
    },
    {
     "data": {
      "image/png": "[encoded data removed]",
      "text/plain": [
       "<Figure size 432x288 with 1 Axes>"
      ]
     },
     "metadata": {
      "needs_background": "light"
     },
     "output_type": "display_data"
    },
    {
     "data": {
      "image/png": "[encoded data removed]",
      "text/plain": [
       "<Figure size 432x288 with 1 Axes>"
      ]
     },
     "metadata": {
      "needs_background": "light"
     },
     "output_type": "display_data"
    },
    {
     "data": {
      "image/png": "[encoded data removed]",
      "text/plain": [
       "<Figure size 432x288 with 1 Axes>"
      ]
     },
     "metadata": {
      "needs_background": "light"
     },
     "output_type": "display_data"
    },
    {
     "data": {
      "image/png": "[encoded data removed]",
      "text/plain": [
       "<Figure size 432x288 with 1 Axes>"
      ]
     },
     "metadata": {
      "needs_background": "light"
     },
     "output_type": "display_data"
    },
    {
     "data": {
      "image/png": "[encoded data removed]",
      "text/plain": [
       "<Figure size 432x288 with 1 Axes>"
      ]
     },
     "metadata": {
      "needs_background": "light"
     },
     "output_type": "display_data"
    },
    {
     "data": {
      "image/png": "[encoded data removed]",
      "text/plain": [
       "<Figure size 432x288 with 1 Axes>"
      ]
     },
     "metadata": {
      "needs_background": "light"
     },
     "output_type": "display_data"
    }
   ],
   "source": [
    "def plotcommunity(pstats):\n",
    "    fig, ax1=plt.subplots()\n",
    "    ax1.hist([dfallvariable[pstats]], color=['b'])\n",
    "    ax1.set_ylim(0,500)\n",
    "\n",
    "    ax1.set_xlim(0,dfallvariable[pstats].max())\n",
    "    ax1.set_ylabel(\"Count\")\n",
    "    plt.title(pstats+' histogram')\n",
    "    plt.tight_layout()\n",
    "    # plt.show()\n",
    "    # fig.savefig('+pstats.png',dpi=1000)\n",
    "    fig.savefig('figures/'+pstats+'-communitylevel.png',dpi=1000)\n",
    "plotcommunity('sensitivity')\n",
    "plotcommunity('bcd')\n",
    "plotcommunity('adcl_1')\n",
    "plotcommunity('adcl_2')\n",
    "plotcommunity('prichness')\n",
    "plotcommunity('edpl_1')\n",
    "plotcommunity('edpl_2')\n"
   ]
  },
  {
   "cell_type": "code",
   "execution_count": 157,
   "metadata": {},
   "outputs": [
    {
     "data": {
      "text/plain": [
       "Unnamed: 0     500\n",
       "reference      500\n",
       "adcl_1         500\n",
       "adcl_2         500\n",
       "prichness      500\n",
       "edpl_1         450\n",
       "edpl_2         500\n",
       "bcd            500\n",
       "sensitivity    500\n",
       "community      500\n",
       "dtype: int64"
      ]
     },
     "execution_count": 157,
     "metadata": {},
     "output_type": "execute_result"
    }
   ],
   "source": [
    "dfallvariable.count()"
   ]
  },
  {
   "cell_type": "markdown",
   "metadata": {},
   "source": [
    "# Plotting prichness in bins"
   ]
  },
  {
   "cell_type": "code",
   "execution_count": 130,
   "metadata": {},
   "outputs": [],
   "source": [
    "# #makes the data\n",
    "# y1 = np.random.normal(-2, 2, 1000)\n",
    "# y2 = np.random.normal(2, 2, 5000)\n",
    "# colors = ['b','g']\n",
    "\n",
    "# #plots the histogram\n",
    "# fig, ax1 = plt.subplots()\n",
    "# ax1.hist([y1,y2],color=colors)\n",
    "# ax1.set_xlim(-10,10)\n",
    "# ax1.set_ylabel(\"Count\")\n",
    "# plt.tight_layout()\n",
    "# plt.show()"
   ]
  },
  {
   "cell_type": "code",
   "execution_count": 137,
   "metadata": {},
   "outputs": [
    {
     "data": {
      "image/png": "[encoded data removed]",
      "text/plain": [
       "<Figure size 432x288 with 1 Axes>"
      ]
     },
     "metadata": {
      "needs_background": "light"
     },
     "output_type": "display_data"
    }
   ],
   "source": [
    "fig, ax1=plt.subplots()\n",
    "ax1.hist([df.A_prichness, df.B_prichness,df.C_prichness, df.D_prichness,df.E_prichness], color=['b','g','r','c','m'],label=['A','B','C','D','E'])\n",
    "ax1.set_ylim(0,4000)\n",
    "\n",
    "ax1.set_xlim(0,max(df.A_prichness.max(), df.B_prichness.max(),df.C_prichness.max(), df.D_prichness.max(), df.E_prichness.max()))\n",
    "ax1.set_ylabel(\"Count\")\n",
    "plt.title(\"prichness\")\n",
    "plt.legend(loc='upper right')\n",
    "plt.tight_layout()\n",
    "# plt.show()\n",
    "fig.savefig('prichness.png',dpi=1000)\n",
    "fig.savefig('figures/prichness-community.png',dpi=1000)"
   ]
  },
  {
   "cell_type": "code",
   "execution_count": 166,
   "metadata": {},
   "outputs": [],
   "source": [
    "def plotindividual(pstats):\n",
    "    fig, ax1=plt.subplots()\n",
    "    ax1.hist([df['A_'+pstats], df['B_'+pstats],df['C_'+pstats], df['D_'+pstats],df['E_'+pstats]], color=['b','g','r','c','m'],label=['A','B','C','D','E'])\n",
    "    ax1.set_ylim(0,6000)\n",
    "\n",
    "    ax1.set_xlim(0,max(df['A_'+pstats].max(), df['B_'+pstats].max(),df['C_'+pstats].max(), df['D_'+pstats].max(), df['E_'+pstats].max()))\n",
    "    ax1.set_ylabel(\"Count\")\n",
    "    plt.title(pstats+' histogram')\n",
    "    plt.legend(loc='upper right')\n",
    "    plt.tight_layout()\n",
    "    # plt.show()\n",
    "    # fig.savefig('+pstats.png',dpi=1000)\n",
    "    fig.savefig('figures/'+pstats+'.png',dpi=1000)\n"
   ]
  },
  {
   "cell_type": "code",
   "execution_count": 174,
   "metadata": {},
   "outputs": [
    {
     "data": {
      "text/plain": [
       "count    822.000000\n",
       "mean       4.158151\n",
       "std        6.512000\n",
       "min        0.000000\n",
       "25%        2.000000\n",
       "50%        2.000000\n",
       "75%        2.000000\n",
       "max       38.000000\n",
       "Name: A1, dtype: float64"
      ]
     },
     "execution_count": 174,
     "metadata": {},
     "output_type": "execute_result"
    }
   ],
   "source": []
  },
  {
   "cell_type": "code",
   "execution_count": 169,
   "metadata": {},
   "outputs": [
    {
     "data": {
      "image/png": "[encoded data removed]",
      "text/plain": [
       "<Figure size 432x288 with 1 Axes>"
      ]
     },
     "metadata": {
      "needs_background": "light"
     },
     "output_type": "display_data"
    },
    {
     "data": {
      "image/png": "[encoded data removed]",
      "text/plain": [
       "<Figure size 432x288 with 1 Axes>"
      ]
     },
     "metadata": {
      "needs_background": "light"
     },
     "output_type": "display_data"
    },
    {
     "data": {
      "image/png": "[encoded data removed]",
      "text/plain": [
       "<Figure size 432x288 with 1 Axes>"
      ]
     },
     "metadata": {
      "needs_background": "light"
     },
     "output_type": "display_data"
    },
    {
     "data": {
      "image/png": "[encoded data removed]",
      "text/plain": [
       "<Figure size 432x288 with 1 Axes>"
      ]
     },
     "metadata": {
      "needs_background": "light"
     },
     "output_type": "display_data"
    }
   ],
   "source": [
    "plotindividual('adcl')\n",
    "plotindividual('edpl')\n",
    "plotindividual('prichness')\n",
    "plotindividual('mindistl')\n"
   ]
  },
  {
   "cell_type": "code",
   "execution_count": 170,
   "metadata": {},
   "outputs": [
    {
     "data": {
      "text/plain": [
       "(70.99933043187144,\n",
       " 67.71007700033478,\n",
       " 59.943086709072645,\n",
       " 64.32875795112153,\n",
       " 47.94107800468698)"
      ]
     },
     "execution_count": 170,
     "metadata": {},
     "output_type": "execute_result"
    }
   ],
   "source": [
    "stats.percentileofscore(df.A_prichness,5),stats.percentileofscore(df.B_prichness,5),stats.percentileofscore(df.C_prichness,5),stats.percentileofscore(df.D_prichness,5),stats.percentileofscore(df.E_prichness,5)"
   ]
  },
  {
   "cell_type": "code",
   "execution_count": null,
   "metadata": {},
   "outputs": [],
   "source": []
  },
  {
   "cell_type": "markdown",
   "metadata": {},
   "source": [
    "prichness: the percentile at value 5 is a good indicator"
   ]
  },
  {
   "cell_type": "code",
   "execution_count": 168,
   "metadata": {},
   "outputs": [
    {
     "data": {
      "text/html": [
       "<div>\n",
       "<style scoped>\n",
       "    .dataframe tbody tr th:only-of-type {\n",
       "        vertical-align: middle;\n",
       "    }\n",
       "\n",
       "    .dataframe tbody tr th {\n",
       "        vertical-align: top;\n",
       "    }\n",
       "\n",
       "    .dataframe thead th {\n",
       "        text-align: right;\n",
       "    }\n",
       "</style>\n",
       "<table border=\"1\" class=\"dataframe\">\n",
       "  <thead>\n",
       "    <tr style=\"text-align: right;\">\n",
       "      <th></th>\n",
       "      <th>Unnamed: 0</th>\n",
       "      <th>reference</th>\n",
       "      <th>adcl_1</th>\n",
       "      <th>adcl_2</th>\n",
       "      <th>prichness</th>\n",
       "      <th>edpl_1</th>\n",
       "      <th>edpl_2</th>\n",
       "      <th>bcd</th>\n",
       "      <th>sensitivity</th>\n",
       "      <th>community</th>\n",
       "    </tr>\n",
       "  </thead>\n",
       "  <tbody>\n",
       "    <tr>\n",
       "      <th>0</th>\n",
       "      <td>0</td>\n",
       "      <td>A</td>\n",
       "      <td>76.363636</td>\n",
       "      <td>0.079026</td>\n",
       "      <td>80.909091</td>\n",
       "      <td>0.295073</td>\n",
       "      <td>0.090313</td>\n",
       "      <td>0.000000</td>\n",
       "      <td>3.521040</td>\n",
       "      <td>CC11CM0</td>\n",
       "    </tr>\n",
       "    <tr>\n",
       "      <th>1</th>\n",
       "      <td>1</td>\n",
       "      <td>B</td>\n",
       "      <td>47.272727</td>\n",
       "      <td>0.085821</td>\n",
       "      <td>75.454545</td>\n",
       "      <td>0.246994</td>\n",
       "      <td>0.061847</td>\n",
       "      <td>0.000000</td>\n",
       "      <td>3.024610</td>\n",
       "      <td>CC11CM0</td>\n",
       "    </tr>\n",
       "    <tr>\n",
       "      <th>2</th>\n",
       "      <td>2</td>\n",
       "      <td>C</td>\n",
       "      <td>21.818182</td>\n",
       "      <td>0.132316</td>\n",
       "      <td>56.363636</td>\n",
       "      <td>0.367280</td>\n",
       "      <td>0.093970</td>\n",
       "      <td>0.000000</td>\n",
       "      <td>2.016120</td>\n",
       "      <td>CC11CM0</td>\n",
       "    </tr>\n",
       "    <tr>\n",
       "      <th>3</th>\n",
       "      <td>3</td>\n",
       "      <td>D</td>\n",
       "      <td>3.636364</td>\n",
       "      <td>0.147416</td>\n",
       "      <td>50.000000</td>\n",
       "      <td>0.429379</td>\n",
       "      <td>0.048458</td>\n",
       "      <td>0.032523</td>\n",
       "      <td>0.866728</td>\n",
       "      <td>CC11CM0</td>\n",
       "    </tr>\n",
       "    <tr>\n",
       "      <th>4</th>\n",
       "      <td>4</td>\n",
       "      <td>E</td>\n",
       "      <td>1.818182</td>\n",
       "      <td>0.161530</td>\n",
       "      <td>56.363636</td>\n",
       "      <td>0.123092</td>\n",
       "      <td>0.066942</td>\n",
       "      <td>0.000000</td>\n",
       "      <td>0.247681</td>\n",
       "      <td>CC11CM0</td>\n",
       "    </tr>\n",
       "    <tr>\n",
       "      <th>...</th>\n",
       "      <td>...</td>\n",
       "      <td>...</td>\n",
       "      <td>...</td>\n",
       "      <td>...</td>\n",
       "      <td>...</td>\n",
       "      <td>...</td>\n",
       "      <td>...</td>\n",
       "      <td>...</td>\n",
       "      <td>...</td>\n",
       "      <td>...</td>\n",
       "    </tr>\n",
       "    <tr>\n",
       "      <th>495</th>\n",
       "      <td>0</td>\n",
       "      <td>A</td>\n",
       "      <td>80.357143</td>\n",
       "      <td>0.089153</td>\n",
       "      <td>71.428571</td>\n",
       "      <td>0.138389</td>\n",
       "      <td>0.057028</td>\n",
       "      <td>0.000000</td>\n",
       "      <td>3.438270</td>\n",
       "      <td>CC11CM99</td>\n",
       "    </tr>\n",
       "    <tr>\n",
       "      <th>496</th>\n",
       "      <td>1</td>\n",
       "      <td>B</td>\n",
       "      <td>46.428571</td>\n",
       "      <td>0.099281</td>\n",
       "      <td>65.178571</td>\n",
       "      <td>0.179944</td>\n",
       "      <td>0.066650</td>\n",
       "      <td>0.000000</td>\n",
       "      <td>2.951010</td>\n",
       "      <td>CC11CM99</td>\n",
       "    </tr>\n",
       "    <tr>\n",
       "      <th>497</th>\n",
       "      <td>2</td>\n",
       "      <td>C</td>\n",
       "      <td>16.071429</td>\n",
       "      <td>0.128855</td>\n",
       "      <td>61.607143</td>\n",
       "      <td>0.145034</td>\n",
       "      <td>0.070573</td>\n",
       "      <td>0.000000</td>\n",
       "      <td>2.073510</td>\n",
       "      <td>CC11CM99</td>\n",
       "    </tr>\n",
       "    <tr>\n",
       "      <th>498</th>\n",
       "      <td>3</td>\n",
       "      <td>D</td>\n",
       "      <td>1.785714</td>\n",
       "      <td>0.130492</td>\n",
       "      <td>69.642857</td>\n",
       "      <td>0.166745</td>\n",
       "      <td>0.067050</td>\n",
       "      <td>0.000000</td>\n",
       "      <td>0.854282</td>\n",
       "      <td>CC11CM99</td>\n",
       "    </tr>\n",
       "    <tr>\n",
       "      <th>499</th>\n",
       "      <td>4</td>\n",
       "      <td>E</td>\n",
       "      <td>0.000000</td>\n",
       "      <td>0.120307</td>\n",
       "      <td>38.392857</td>\n",
       "      <td>NaN</td>\n",
       "      <td>0.057155</td>\n",
       "      <td>0.000000</td>\n",
       "      <td>0.240882</td>\n",
       "      <td>CC11CM99</td>\n",
       "    </tr>\n",
       "  </tbody>\n",
       "</table>\n",
       "<p>500 rows × 10 columns</p>\n",
       "</div>"
      ],
      "text/plain": [
       "     Unnamed: 0 reference     adcl_1    adcl_2  prichness    edpl_1    edpl_2  \\\n",
       "0             0         A  76.363636  0.079026  80.909091  0.295073  0.090313   \n",
       "1             1         B  47.272727  0.085821  75.454545  0.246994  0.061847   \n",
       "2             2         C  21.818182  0.132316  56.363636  0.367280  0.093970   \n",
       "3             3         D   3.636364  0.147416  50.000000  0.429379  0.048458   \n",
       "4             4         E   1.818182  0.161530  56.363636  0.123092  0.066942   \n",
       "..          ...       ...        ...       ...        ...       ...       ...   \n",
       "495           0         A  80.357143  0.089153  71.428571  0.138389  0.057028   \n",
       "496           1         B  46.428571  0.099281  65.178571  0.179944  0.066650   \n",
       "497           2         C  16.071429  0.128855  61.607143  0.145034  0.070573   \n",
       "498           3         D   1.785714  0.130492  69.642857  0.166745  0.067050   \n",
       "499           4         E   0.000000  0.120307  38.392857       NaN  0.057155   \n",
       "\n",
       "          bcd  sensitivity community  \n",
       "0    0.000000     3.521040   CC11CM0  \n",
       "1    0.000000     3.024610   CC11CM0  \n",
       "2    0.000000     2.016120   CC11CM0  \n",
       "3    0.032523     0.866728   CC11CM0  \n",
       "4    0.000000     0.247681   CC11CM0  \n",
       "..        ...          ...       ...  \n",
       "495  0.000000     3.438270  CC11CM99  \n",
       "496  0.000000     2.951010  CC11CM99  \n",
       "497  0.000000     2.073510  CC11CM99  \n",
       "498  0.000000     0.854282  CC11CM99  \n",
       "499  0.000000     0.240882  CC11CM99  \n",
       "\n",
       "[500 rows x 10 columns]"
      ]
     },
     "execution_count": 168,
     "metadata": {},
     "output_type": "execute_result"
    }
   ],
   "source": [
    "dfallvariable"
   ]
  },
  {
   "cell_type": "code",
   "execution_count": null,
   "metadata": {},
   "outputs": [],
   "source": []
  },
  {
   "cell_type": "code",
   "execution_count": null,
   "metadata": {},
   "outputs": [],
   "source": [
    "plt.hist(df.A_prichness, bins=[0, 5, 10, df.A_prichness.max()]),\n",
    "plt.ylim((0,4000))\n",
    "plt.savefig('prichnessbin.png',dpi=500)"
   ]
  },
  {
   "cell_type": "code",
   "execution_count": null,
   "metadata": {},
   "outputs": [],
   "source": [
    "\n"
   ]
  },
  {
   "cell_type": "code",
   "execution_count": null,
   "metadata": {},
   "outputs": [],
   "source": [
    "plt.hist(df.B_prichness, bins=[0, 5, 10, df.B_prichness.max()])\n",
    "plt.ylim((0,4000))\n",
    "plt.savefig('B_prichnessbin.png',dpi=500)"
   ]
  },
  {
   "cell_type": "code",
   "execution_count": null,
   "metadata": {},
   "outputs": [],
   "source": [
    "plt.hist(df.C_prichness, bins=[0, 5, 10, df.C_prichness.max()])\n",
    "plt.ylim((0,4000))\n",
    "plt.savefig('C_prichnessbin.png',dpi=500)"
   ]
  },
  {
   "cell_type": "code",
   "execution_count": null,
   "metadata": {},
   "outputs": [],
   "source": [
    "plt.hist(df.D_prichness, bins=[0, 5, 10, df.D_prichness.max()])\n",
    "plt.ylim((0,4000))\n",
    "plt.savefig('D_prichnessbin.png',dpi=500)"
   ]
  },
  {
   "cell_type": "code",
   "execution_count": null,
   "metadata": {},
   "outputs": [],
   "source": [
    "plt.hist(df.E_prichness, bins=[0, 5, 10, 20])\n",
    "plt.ylim((0,4000))\n",
    "plt.savefig('E_prichnessbin.png',dpi=500)"
   ]
  },
  {
   "cell_type": "code",
   "execution_count": null,
   "metadata": {},
   "outputs": [],
   "source": [
    "df.E_prichness.describe()"
   ]
  },
  {
   "cell_type": "code",
   "execution_count": null,
   "metadata": {},
   "outputs": [],
   "source": [
    "plot_pplacer('_adcl'),plot_pplacer_cutoff('_adcl', 0.001)\n",
    "plt.savefig('adcl.png', bbox_inches='tight', dpi=500)"
   ]
  },
  {
   "cell_type": "markdown",
   "metadata": {},
   "source": [
    "# 2020-07-09"
   ]
  },
  {
   "cell_type": "markdown",
   "metadata": {},
   "source": [
    "# adcl: subsetting data with the cutoff 0.001. 1st:percentile at score, 2nd: median"
   ]
  },
  {
   "cell_type": "code",
   "execution_count": null,
   "metadata": {},
   "outputs": [],
   "source": [
    "fig, ax1=plt.subplots()\n",
    "ax1.hist([df.A_adcl, df.B_adcl,df.C_adcl, df.D_adcl,df.E_adcl], color=['b','g','r','c','m'],label=['A','B','C','D','E'])\n",
    "ax1.set_ylim(0,5000)\n",
    "ax1.set_xlim(0,max(df.A_adcl.max(), df.B_adcl.max(),df.C_adcl.max(), df.D_adcl.max(), df.E_adcl.max()))\n",
    "ax1.set_ylabel(\"Count\")\n",
    "plt.title(\"adcl\")\n",
    "plt.legend(loc='upper right')\n",
    "plt.tight_layout()\n",
    "# plt.show()\n",
    "plt.savefig('adcl.png',dpi=1000)"
   ]
  },
  {
   "cell_type": "code",
   "execution_count": null,
   "metadata": {},
   "outputs": [],
   "source": [
    "[stats.percentileofscore(df.A_adcl,0.001),stats.percentileofscore(df.B_adcl,0.001),stats.percentileofscore(df.C_adcl,0.001),stats.percentileofscore(df.D_adcl,0.001),stats.percentileofscore(df.E_adcl,0.001)]"
   ]
  },
  {
   "cell_type": "code",
   "execution_count": null,
   "metadata": {},
   "outputs": [],
   "source": [
    "[df.A_adcl[df.A_adcl>0.001].median(),\n",
    "df.B_adcl[df.B_adcl>0.001].median(),\n",
    "df.C_adcl[df.C_adcl>0.001].median(),\n",
    "df.D_adcl[df.D_adcl>0.001].median(),\n",
    "df.E_adcl[df.E_adcl>0.001].median()]"
   ]
  },
  {
   "cell_type": "markdown",
   "metadata": {},
   "source": [
    "metrics for adcl: percentile at score 0.001 and the median for bad data with the cutoff 0.001"
   ]
  },
  {
   "cell_type": "code",
   "execution_count": null,
   "metadata": {},
   "outputs": [],
   "source": []
  },
  {
   "cell_type": "markdown",
   "metadata": {},
   "source": [
    "# edpl: use 75% pertenctile of the tail (tail defined as those with the values larger than the cutoff 0.01)"
   ]
  },
  {
   "cell_type": "code",
   "execution_count": null,
   "metadata": {},
   "outputs": [],
   "source": [
    "fig, ax1=plt.subplots()\n",
    "ax1.hist([df.A_edpl[df.A_edpl>0.1], df.B_edpl[df.B_edpl>0.1],df.C_edpl[df.C_edpl>0.1], df.D_edpl[df.D_edpl>0.1],df.E_edpl[df.E_edpl>0.1]], color=['b','g','r','c','m'],label=['A','B','C','D','E'])\n",
    "ax1.set_ylim(0,500)\n",
    "ax1.set_xlim(0,max(df.A_edpl.max(), df.B_edpl.max(),df.C_edpl.max(), df.D_edpl.max(), df.E_edpl.max()))\n",
    "ax1.set_ylabel(\"Count\")\n",
    "plt.title(\"edpl\")\n",
    "plt.legend(loc='upper right')\n",
    "plt.tight_layout()\n",
    "# plt.show()\n",
    "plt.savefig('edpl.png',dpi=1000)"
   ]
  },
  {
   "cell_type": "code",
   "execution_count": null,
   "metadata": {},
   "outputs": [],
   "source": [
    "[stats.scoreatpercentile(df.A_edpl[df.A_edpl>0.1],75),\n",
    "stats.scoreatpercentile(df.B_edpl[df.B_edpl>0.1],75),\n",
    "stats.scoreatpercentile(df.C_edpl[df.C_edpl>0.1],75),\n",
    "stats.scoreatpercentile(df.D_edpl[df.D_edpl>0.1],75),\n",
    "stats.scoreatpercentile(df.E_edpl[df.E_edpl>0.1],75)]"
   ]
  },
  {
   "cell_type": "code",
   "execution_count": null,
   "metadata": {},
   "outputs": [],
   "source": [
    "plt.hist(df.A_edpl[df.A_edpl>0.01]),plt.hist(df.B_edpl[df.B_edpl>0.01]),plt.hist(df.C_edpl[df.C_edpl>0.01]),plt.hist(df.D_edpl[df.D_edpl>0.01]),plt.hist(df.E_edpl[df.E_edpl>0.01])"
   ]
  },
  {
   "cell_type": "markdown",
   "metadata": {},
   "source": [
    "# prichness: percentile at score 5 is a good indicator"
   ]
  },
  {
   "cell_type": "code",
   "execution_count": null,
   "metadata": {},
   "outputs": [],
   "source": [
    "fig, ax1=plt.subplots()\n",
    "ax1.hist([df.A_prichness, df.B_prichness,df.C_prichness, df.D_prichness,df.E_prichness], color=['b','g','r','c','m'],label=['A','B','C','D','E'])\n",
    "ax1.set_ylim(0,4000)\n",
    "\n",
    "ax1.set_xlim(0,max(df.A_prichness.max(), df.B_prichness.max(),df.C_prichness.max(), df.D_prichness.max(), df.E_prichness.max()))\n",
    "ax1.set_ylabel(\"Count\")\n",
    "plt.title(\"prichness\")\n",
    "plt.legend(loc='upper right')\n",
    "plt.tight_layout()\n",
    "# plt.show()\n",
    "plt.savefig('prichness.png',dpi=1000)"
   ]
  },
  {
   "cell_type": "code",
   "execution_count": null,
   "metadata": {},
   "outputs": [],
   "source": [
    "stats.percentileofscore(df.A_prichness,5),stats.percentileofscore(df.B_prichness,5),stats.percentileofscore(df.C_prichness,5),stats.percentileofscore(df.D_prichness,5),stats.percentileofscore(df.E_prichness,5)"
   ]
  },
  {
   "cell_type": "code",
   "execution_count": null,
   "metadata": {},
   "outputs": [],
   "source": [
    "stats.percentileofscore(df.A_edpl,0.1),stats.percentileofscore(df.B_edpl,0.1),stats.percentileofscore(df.C_edpl,0.1),stats.percentileofscore(df.D_edpl,0.1),stats.percentileofscore(df.E_edpl,0.1)"
   ]
  },
  {
   "cell_type": "code",
   "execution_count": null,
   "metadata": {},
   "outputs": [],
   "source": [
    "stats.percentileofscore(df.A_edpl,0.01),stats.percentileofscore(df.B_edpl,0.01),stats.percentileofscore(df.C_edpl,0.01),stats.percentileofscore(df.D_edpl,0.01),stats.percentileofscore(df.E_edpl,0.01)"
   ]
  },
  {
   "cell_type": "markdown",
   "metadata": {},
   "source": [
    "edpl cutoffs: 0.1 and 0.01. Not sure which one is better,so both. "
   ]
  },
  {
   "cell_type": "markdown",
   "metadata": {},
   "source": [
    "# Correlation analysis"
   ]
  },
  {
   "cell_type": "code",
   "execution_count": null,
   "metadata": {},
   "outputs": [],
   "source": [
    "sensitivity = pd.read_csv(\"alphaDiversity_phyloEntropy.csv\", index_col=0)"
   ]
  },
  {
   "cell_type": "code",
   "execution_count": null,
   "metadata": {},
   "outputs": [],
   "source": [
    "sensitivity"
   ]
  },
  {
   "cell_type": "code",
   "execution_count": null,
   "metadata": {},
   "outputs": [],
   "source": [
    "A_adcl_percentat001 = []\n",
    "A_adcl_medianforbad =[]\n",
    "\n",
    "    \n",
    "\n",
    "\n",
    "A_0_adcl=df[(df.community=='CC11CM0')]['A_adcl'].dropna()\n",
    "A_0_adcl_percentat001 = stats.percentileofscore(A_0_adcl,0.001)\n",
    "A_0_adcl_medianforbad = A_0_adcl[A_0_adcl>0.001].median()"
   ]
  },
  {
   "cell_type": "code",
   "execution_count": null,
   "metadata": {},
   "outputs": [],
   "source": [
    "A_adcl_percentat001,A_0_adcl_medianforbad"
   ]
  },
  {
   "cell_type": "code",
   "execution_count": null,
   "metadata": {},
   "outputs": [],
   "source": [
    "def predictors(reference,pplacer,cutoff):\n",
    "    predictors1= []\n",
    "    predictors2=[]\n",
    "    for community in range(0,100):\n",
    "        data=df[(df.community=='CC11CM'+str(community))][reference+pplacer].dropna()\n",
    "        predictors1.append(stats.percentileofscore(data,cutoff))\n",
    "        predictors2.append(data[data>cutoff].median())\n",
    "    return (predictors1, predictors2)"
   ]
  },
  {
   "cell_type": "code",
   "execution_count": null,
   "metadata": {},
   "outputs": [],
   "source": [
    "A_adcl_percentile_001=predictors('A','_adcl',0.001)[0]\n",
    "A_adcl_medianforbad=predictors('A','_adcl',0.001)[1]\n",
    "A_prichness_percentile_5 = predictors('A','_prichness',5)[0]\n"
   ]
  },
  {
   "cell_type": "code",
   "execution_count": null,
   "metadata": {},
   "outputs": [],
   "source": [
    "len(A_prichness_percentile_5)"
   ]
  },
  {
   "cell_type": "code",
   "execution_count": null,
   "metadata": {},
   "outputs": [],
   "source": [
    "len(A_adcl_medianforbad)"
   ]
  },
  {
   "cell_type": "code",
   "execution_count": null,
   "metadata": {},
   "outputs": [],
   "source": [
    "def allreference(pplacer,cutoff):\n",
    "    pplacer_list =[]\n",
    "    for reference in ['A','B','C','D','E']:\n",
    "        pplacer_list.append(predictors(reference,pplacer,cutoff))\n",
    "    return (pplacer_list)\n",
    "        \n",
    "    "
   ]
  },
  {
   "cell_type": "code",
   "execution_count": null,
   "metadata": {},
   "outputs": [],
   "source": [
    "adcl_predictors=allreference('_adcl',0.001)\n",
    "prichness_predictors=allreference('_prichness',5)\n"
   ]
  },
  {
   "cell_type": "code",
   "execution_count": null,
   "metadata": {},
   "outputs": [],
   "source": [
    "[A_prichness_p5, B_prichness_p5,C_prichness_p5,D_prichness_p5,E_prichness_p5]=[pd.DataFrame(prichness_predictors[0][0]),pd.DataFrame(prichness_predictors[1][0]),pd.DataFrame(prichness_predictors[2][0]),pd.DataFrame(prichness_predictors[3][0]),pd.DataFrame(prichness_predictors[4][0])]"
   ]
  },
  {
   "cell_type": "code",
   "execution_count": null,
   "metadata": {},
   "outputs": [],
   "source": [
    "[A_adcl_percentile_0_001,B_adcl_percentile_0_001,C_adcl_percentile_0_001,D_adcl_percentile_0_001,E_adcl_percentile_0_001]=[pd.DataFrame(adcl_predictors[0][0]),pd.DataFrame(adcl_predictors[1][0]),pd.DataFrame(adcl_predictors[2][0]),pd.DataFrame(adcl_predictors[3][0]),pd.DataFrame(adcl_predictors[4][0])]"
   ]
  },
  {
   "cell_type": "code",
   "execution_count": null,
   "metadata": {},
   "outputs": [],
   "source": [
    "[A_adcl_medianforbad,B_adcl_medianforbad,C_adcl_medianforbad,D_adcl_medianforbad,E_adcl_medianforbad]=[pd.DataFrame(adcl_predictors[0][1]),pd.DataFrame(adcl_predictors[1][1]),pd.DataFrame(adcl_predictors[2][1]),pd.DataFrame(adcl_predictors[3][1]),pd.DataFrame(adcl_predictors[4][1])]"
   ]
  },
  {
   "cell_type": "raw",
   "metadata": {},
   "source": []
  },
  {
   "cell_type": "code",
   "execution_count": null,
   "metadata": {},
   "outputs": [],
   "source": [
    "len(prichness_predictors[2][0])"
   ]
  },
  {
   "cell_type": "code",
   "execution_count": null,
   "metadata": {},
   "outputs": [],
   "source": [
    "def edplpredictors(reference,pplacer,cutoff):\n",
    "    predictors= []\n",
    "    for community in range(0,100):\n",
    "        data=df[(df.community=='CC11CM'+str(community))][reference+pplacer].dropna()\n",
    "        data2= data[data>cutoff]\n",
    "        predictors.append(stats.scoreatpercentile(data[data>cutoff],75))\n",
    "    return (predictors)"
   ]
  },
  {
   "cell_type": "code",
   "execution_count": null,
   "metadata": {},
   "outputs": [],
   "source": [
    "stats.scoreatpercentile(df.A_edpl[df.A_edpl>0.1],75),"
   ]
  },
  {
   "cell_type": "code",
   "execution_count": null,
   "metadata": {},
   "outputs": [],
   "source": [
    "edpl_predictors = edplpredictors('A','_edpl',0.1)"
   ]
  },
  {
   "cell_type": "code",
   "execution_count": null,
   "metadata": {},
   "outputs": [],
   "source": [
    "len(edpl_predictors)"
   ]
  },
  {
   "cell_type": "code",
   "execution_count": null,
   "metadata": {},
   "outputs": [],
   "source": [
    "def allreferenceedpl(pplacer,cutoff):\n",
    "    pplacer_list =[]\n",
    "    for reference in ['A','B','C','D','E']:\n",
    "        pplacer_list.append(edplpredictors(reference,pplacer,cutoff))\n",
    "    return (pplacer_list)\n",
    "        \n",
    "    "
   ]
  },
  {
   "cell_type": "code",
   "execution_count": null,
   "metadata": {},
   "outputs": [],
   "source": [
    "edpl_predictors=allreferenceedpl('_edpl',0.01)"
   ]
  },
  {
   "cell_type": "code",
   "execution_count": null,
   "metadata": {},
   "outputs": [],
   "source": [
    "len(edpl_predictors[0])"
   ]
  },
  {
   "cell_type": "code",
   "execution_count": null,
   "metadata": {},
   "outputs": [],
   "source": [
    "[A_edpl_scoreat75forcutoff01,B_edpl_scoreat75forcutoff01,C_edpl_scoreat75forcutoff01,D_edpl_scoreat75forcutoff01,E_edpl_scoreat75forcutoff01]=[edpl_predictors[0],edpl_predictors[1],edpl_predictors[2],edpl_predictors[3],edpl_predictors[4]]"
   ]
  },
  {
   "cell_type": "code",
   "execution_count": null,
   "metadata": {},
   "outputs": [],
   "source": [
    "len(E_edpl_scoreat75forcutoff01)"
   ]
  },
  {
   "cell_type": "code",
   "execution_count": null,
   "metadata": {},
   "outputs": [],
   "source": [
    "[A_edpl_scoreat75forcutoff01,B_edpl_scoreat75forcutoff01,C_edpl_scoreat75forcutoff01,D_edpl_scoreat75forcutoff01,E_edpl_scoreat75forcutoff01]=edpl_predictors[::]"
   ]
  },
  {
   "cell_type": "code",
   "execution_count": null,
   "metadata": {},
   "outputs": [],
   "source": []
  },
  {
   "cell_type": "code",
   "execution_count": null,
   "metadata": {},
   "outputs": [],
   "source": [
    "E_edpl_0_01=pd.DataFrame(E_edpl_scoreat75forcutoff01)\n",
    "A_edpl_0_01=pd.DataFrame(A_edpl_scoreat75forcutoff01)\n",
    "B_edpl_0_01=pd.DataFrame(B_edpl_scoreat75forcutoff01)\n",
    "C_edpl_0_01=pd.DataFrame(C_edpl_scoreat75forcutoff01)\n",
    "D_edpl_0_01=pd.DataFrame(D_edpl_scoreat75forcutoff01)"
   ]
  },
  {
   "cell_type": "code",
   "execution_count": null,
   "metadata": {},
   "outputs": [],
   "source": [
    "[A_edpl_scoreat75forcutoff_0_1,B_edpl_scoreat75forcutoff_0_1,C_edpl_scoreat75forcutoff_0_1,D_edpl_scoreat75forcutoff_0_1,E_edpl_scoreat75forcutoff_0_1]=edpl_predictors = allreferenceedpl('_edpl',0.1)[::]"
   ]
  },
  {
   "cell_type": "code",
   "execution_count": null,
   "metadata": {},
   "outputs": [],
   "source": [
    "\n",
    "E_edpl_0_1=pd.DataFrame(E_edpl_scoreat75forcutoff_0_1)\n",
    "A_edpl_0_1=pd.DataFrame(A_edpl_scoreat75forcutoff_0_1)\n",
    "B_edpl_0_1=pd.DataFrame(B_edpl_scoreat75forcutoff_0_1)\n",
    "C_edpl_0_1=pd.DataFrame(C_edpl_scoreat75forcutoff_0_1)\n",
    "D_edpl_0_1=pd.DataFrame(D_edpl_scoreat75forcutoff_0_1)"
   ]
  },
  {
   "cell_type": "code",
   "execution_count": null,
   "metadata": {},
   "outputs": [],
   "source": []
  },
  {
   "cell_type": "code",
   "execution_count": null,
   "metadata": {},
   "outputs": [],
   "source": [
    "allpredictors=pd.concat([A_adcl_percentile_0_001,B_adcl_percentile_0_001,C_adcl_percentile_0_001,D_adcl_percentile_0_001,E_adcl_percentile_0_001,\n",
    "                        A_adcl_medianforbad,B_adcl_medianforbad,C_adcl_medianforbad,D_adcl_medianforbad,E_adcl_medianforbad,\n",
    "                        A_prichness_p5, B_prichness_p5,C_prichness_p5,D_prichness_p5,E_prichness_p5,\n",
    "                        A_edpl_0_1,B_edpl_0_1,C_edpl_0_1,D_edpl_0_1,E_edpl_0_1,A_edpl_0_01,B_edpl_0_01,C_edpl_0_01,D_edpl_0_01,E_edpl_0_01],\n",
    "                       axis=1)"
   ]
  },
  {
   "cell_type": "code",
   "execution_count": null,
   "metadata": {},
   "outputs": [],
   "source": [
    "allpredictors.columns=['A_adcl_1', 'B_adcl_1','C_adcl_1','D_adcl_1','E_adcl_1','A_adcl_2', 'B_adcl_2','C_adcl_2','D_adcl_2','E_adcl_2',\n",
    "                      'A_prichness','B_prichness','C_prichness','D_prichness','E_prichness',\n",
    "                      'A_edpl_1','B_edpl_1','C_edpl_1','D_edpl_1','E_edpl_1',\n",
    "                      'A_edpl_2','B_edpl_2','C_edpl_2','D_edpl_2','E_edpl_2']"
   ]
  },
  {
   "cell_type": "code",
   "execution_count": null,
   "metadata": {},
   "outputs": [],
   "source": [
    "allpredictors.columns"
   ]
  },
  {
   "cell_type": "code",
   "execution_count": null,
   "metadata": {},
   "outputs": [],
   "source": []
  },
  {
   "cell_type": "code",
   "execution_count": null,
   "metadata": {},
   "outputs": [],
   "source": []
  },
  {
   "cell_type": "code",
   "execution_count": null,
   "metadata": {},
   "outputs": [],
   "source": [
    "bcdsen.reset_index(drop=True, inplace=True)"
   ]
  },
  {
   "cell_type": "code",
   "execution_count": null,
   "metadata": {},
   "outputs": [],
   "source": [
    "bcdsen.columns=['A_bcd','B_bcd','C_bcd','D_bcd','E_bcd','A_sensitivity','B_sensitivity','C_sensitivity','D_sensitivity','E_sensitivity']"
   ]
  },
  {
   "cell_type": "code",
   "execution_count": null,
   "metadata": {},
   "outputs": [],
   "source": [
    "corredata=pd.concat([allpredictors,bcdsen],axis=1)"
   ]
  },
  {
   "cell_type": "code",
   "execution_count": null,
   "metadata": {},
   "outputs": [],
   "source": [
    "corredata.columns"
   ]
  },
  {
   "cell_type": "code",
   "execution_count": null,
   "metadata": {},
   "outputs": [],
   "source": [
    "plt.scatter(corredata.A_adcl_1, corredata.A_sensitivity)"
   ]
  },
  {
   "cell_type": "code",
   "execution_count": null,
   "metadata": {},
   "outputs": [],
   "source": [
    "\n",
    "from scipy.stats import pearsonr\n"
   ]
  },
  {
   "cell_type": "code",
   "execution_count": null,
   "metadata": {},
   "outputs": [],
   "source": [
    "corr= np.corrcoef(corredata.A_adcl_1, corredata.A_sensitivity)"
   ]
  },
  {
   "cell_type": "code",
   "execution_count": null,
   "metadata": {},
   "outputs": [],
   "source": [
    "corr"
   ]
  },
  {
   "cell_type": "code",
   "execution_count": null,
   "metadata": {},
   "outputs": [],
   "source": [
    "# import seaborn as sns; sns.set(style=\"ticks\", color_codes=True)\n",
    "# g = sns.pairplot(corredata,corner=True)"
   ]
  },
  {
   "cell_type": "code",
   "execution_count": null,
   "metadata": {},
   "outputs": [],
   "source": [
    "# g = sns.pairplot(corredata,\n",
    "#                  x_vars=['A_adcl_1', 'B_adcl_1', 'C_adcl_1', 'D_adcl_1', 'E_adcl_1', 'A_adcl_2',\n",
    "#        'B_adcl_2', 'C_adcl_2', 'D_adcl_2', 'E_adcl_2', 'A_prichness',\n",
    "#        'B_prichness', 'C_prichness', 'D_prichness', 'E_prichness', 'A_edpl_1',\n",
    "#        'B_edpl_1', 'C_edpl_1', 'D_edpl_1', 'E_edpl_1', 'A_edpl_2', 'B_edpl_2',\n",
    "#        'C_edpl_2', 'D_edpl_2', 'E_edpl_2'],\n",
    "#                  y_vars=['A_bcd', 'B_bcd', 'C_bcd', 'D_bcd',\n",
    "#        'E_bcd', 'A_sensitivity', 'B_sensitivity', 'C_sensitivity',\n",
    "#        'D_sensitivity', 'E_sensitivity'])"
   ]
  },
  {
   "cell_type": "code",
   "execution_count": 163,
   "metadata": {},
   "outputs": [
    {
     "ename": "NameError",
     "evalue": "name 'corredata' is not defined",
     "output_type": "error",
     "traceback": [
      "\u001b[0;31m---------------------------------------------------------------------------\u001b[0m",
      "\u001b[0;31mNameError\u001b[0m                                 Traceback (most recent call last)",
      "\u001b[0;32m<ipython-input-163-c7af963799ea>\u001b[0m in \u001b[0;36m<module>\u001b[0;34m\u001b[0m\n\u001b[0;32m----> 1\u001b[0;31m g = sns.pairplot(corredata,\n\u001b[0m\u001b[1;32m      2\u001b[0m                  x_vars=['A_adcl_1', 'A_adcl_2',\n\u001b[1;32m      3\u001b[0m         \u001b[0;34m'A_prichness'\u001b[0m\u001b[0;34m,\u001b[0m\u001b[0;34m\u001b[0m\u001b[0;34m\u001b[0m\u001b[0m\n\u001b[1;32m      4\u001b[0m        \u001b[0;34m'A_edpl_1'\u001b[0m\u001b[0;34m,\u001b[0m\u001b[0;34m\u001b[0m\u001b[0;34m\u001b[0m\u001b[0m\n\u001b[1;32m      5\u001b[0m        'A_edpl_2' ],\n",
      "\u001b[0;31mNameError\u001b[0m: name 'corredata' is not defined"
     ]
    }
   ],
   "source": [
    "g = sns.pairplot(corredata,\n",
    "                 x_vars=['A_adcl_1', 'A_adcl_2',\n",
    "        'A_prichness',\n",
    "       'A_edpl_1',\n",
    "       'A_edpl_2' ],\n",
    "                 y_vars=['A_bcd','A_sensitivity'],kind='reg')"
   ]
  },
  {
   "cell_type": "code",
   "execution_count": 177,
   "metadata": {},
   "outputs": [
    {
     "data": {
      "image/png": "[encoded data removed]",
      "text/plain": [
       "<Figure size 900x360 with 10 Axes>"
      ]
     },
     "metadata": {
      "needs_background": "light"
     },
     "output_type": "display_data"
    }
   ],
   "source": [
    "g = sns.pairplot(dfallvariable,\n",
    "                 x_vars=['adcl_1', 'adcl_2',\n",
    "        'prichness',\n",
    "       'edpl_1',\n",
    "       'edpl_2' ],\n",
    "                 y_vars=['bcd','sensitivity'],kind='reg')\n",
    "g.fig.suptitle(\"Pairplot\")\n",
    "\n",
    "\n",
    "g.savefig('figures/pairplot-community.png', dpi=1000) \n",
    "\n",
    "# fig.savefig('figures/'+pstats+'.png',dpi=1000)\n",
    "\n",
    "\n",
    "\n",
    "\n"
   ]
  },
  {
   "cell_type": "code",
   "execution_count": null,
   "metadata": {},
   "outputs": [],
   "source": []
  },
  {
   "cell_type": "code",
   "execution_count": null,
   "metadata": {},
   "outputs": [],
   "source": [
    "g = sns.pairplot(corredata,\n",
    "                 x_vars=['B_adcl_1', 'B_adcl_2',\n",
    "        'B_prichness',\n",
    "       'B_edpl_1',\n",
    "       'B_edpl_2' ],\n",
    "                 y_vars=['B_bcd','B_sensitivity'],kind='reg')"
   ]
  },
  {
   "cell_type": "code",
   "execution_count": null,
   "metadata": {},
   "outputs": [],
   "source": [
    "\n",
    "g = sns.pairplot(corredata,\n",
    "x_vars=['C_adcl_1', 'C_adcl_2',\n",
    "'C_prichness',\n",
    "'C_edpl_1',\n",
    "'C_edpl_2'],\n",
    "         y_vars=['C_bcd','C_sensitivity'],kind='reg')"
   ]
  },
  {
   "cell_type": "code",
   "execution_count": null,
   "metadata": {},
   "outputs": [],
   "source": [
    "                 g = sns.pairplot(corredata,\n",
    "                 x_vars=['D_adcl_1', 'D_adcl_2',\n",
    "        'D_prichness',\n",
    "       'D_edpl_1',\n",
    "       'D_edpl_2'],\n",
    "                 y_vars=['D_bcd','D_sensitivity'],kind='reg')"
   ]
  },
  {
   "cell_type": "code",
   "execution_count": null,
   "metadata": {},
   "outputs": [],
   "source": [
    "            g = sns.pairplot(corredata,\n",
    "                 x_vars=['E_adcl_1', 'E_adcl_2',\n",
    "        'E_prichness',\n",
    "       'E_edpl_1',\n",
    "       'E_edpl_2'],\n",
    "                 y_vars=['E_bcd','E_sensitivity'],kind='reg')"
   ]
  },
  {
   "cell_type": "code",
   "execution_count": null,
   "metadata": {},
   "outputs": [],
   "source": [
    "import statsmodels.api as sm"
   ]
  },
  {
   "cell_type": "code",
   "execution_count": null,
   "metadata": {},
   "outputs": [],
   "source": [
    "Y=corredata.A_sensitivity\n",
    "X=corredata.A_adcl_1\n",
    "X = sm.add_constant(corredata.A_adcl_1)\n",
    "mod=sm.OLS(Y,X)\n",
    "res = mod.fit()\n",
    "print(res.summary())"
   ]
  },
  {
   "cell_type": "code",
   "execution_count": null,
   "metadata": {},
   "outputs": [],
   "source": [
    "corredata.columns"
   ]
  },
  {
   "cell_type": "code",
   "execution_count": null,
   "metadata": {},
   "outputs": [],
   "source": [
    "# pip install pingouin"
   ]
  },
  {
   "cell_type": "code",
   "execution_count": null,
   "metadata": {},
   "outputs": [],
   "source": [
    "import pingouin as pg\n",
    "df = pg.read_dataset('rm_corr')\n",
    "pg.rm_corr(data=df, x='pH', y='PacO2', subject='Subject')"
   ]
  },
  {
   "cell_type": "code",
   "execution_count": null,
   "metadata": {},
   "outputs": [],
   "source": [
    "df.head()"
   ]
  },
  {
   "cell_type": "code",
   "execution_count": null,
   "metadata": {},
   "outputs": [],
   "source": [
    "corredata.head()"
   ]
  },
  {
   "cell_type": "code",
   "execution_count": null,
   "metadata": {},
   "outputs": [],
   "source": [
    "corredata.shape"
   ]
  },
  {
   "cell_type": "code",
   "execution_count": null,
   "metadata": {},
   "outputs": [],
   "source": [
    "datadict=corredata.to_dict()"
   ]
  },
  {
   "cell_type": "code",
   "execution_count": null,
   "metadata": {},
   "outputs": [],
   "source": [
    "datadict.keys()"
   ]
  },
  {
   "cell_type": "code",
   "execution_count": null,
   "metadata": {},
   "outputs": [],
   "source": [
    "len(datadict.items())"
   ]
  },
  {
   "cell_type": "code",
   "execution_count": null,
   "metadata": {},
   "outputs": [],
   "source": [
    "def regroup(predictor):\n",
    "    predictordict={}\n",
    "    for i in range(0,100):\n",
    "        refd={}\n",
    "        for reference in ['A','B','C','D','E']:\n",
    "            \n",
    "            refd[reference]=datadict[reference+predictor][i]\n",
    "        predictordict[i]=refd\n",
    "    \n",
    "    return(predictordict)\n",
    "        "
   ]
  },
  {
   "cell_type": "code",
   "execution_count": null,
   "metadata": {},
   "outputs": [],
   "source": [
    "\n",
    "\n",
    "    "
   ]
  },
  {
   "cell_type": "code",
   "execution_count": null,
   "metadata": {},
   "outputs": [],
   "source": [
    "def returnvariables(pvariable):\n",
    "    variableList=regroup(pvariable)\n",
    "    df_variable=pd.DataFrame()\n",
    "    for i in range(0,100):\n",
    "        df_variable=pd.concat([df_variable,  pd.DataFrame(list(variableList[i].items()),columns=['reference',pvariable[1::]])])\n",
    "    return (df_variable)\n",
    "    \n",
    "    \n",
    "    \n",
    "    "
   ]
  },
  {
   "cell_type": "code",
   "execution_count": null,
   "metadata": {},
   "outputs": [],
   "source": [
    "df_adcl_1,df_adcl_2,df_prichness, df_edpl_1, df_edpl_2, df_bcd, df_sensitivity=returnvariables('_adcl_1'),returnvariables('_adcl_2'),returnvariables('_prichness'),returnvariables('_edpl_1'),returnvariables('_edpl_2'),returnvariables('_bcd'),returnvariables('_sensitivity')"
   ]
  },
  {
   "cell_type": "code",
   "execution_count": null,
   "metadata": {},
   "outputs": [],
   "source": [
    "allvariablesdf = [df_adcl_1,df_adcl_2,df_prichness, df_edpl_1, df_edpl_2, df_bcd, df_sensitivity]"
   ]
  },
  {
   "cell_type": "code",
   "execution_count": null,
   "metadata": {},
   "outputs": [],
   "source": [
    "df_all =pd.concat(allvariablesdf, axis=1)"
   ]
  },
  {
   "cell_type": "code",
   "execution_count": null,
   "metadata": {},
   "outputs": [],
   "source": [
    "df_all"
   ]
  },
  {
   "cell_type": "code",
   "execution_count": null,
   "metadata": {},
   "outputs": [],
   "source": [
    " def returnindex():\n",
    "    indexlist=[]\n",
    "    for i in range (0,100):\n",
    "        j=5\n",
    "        while (j>0):\n",
    "            index0='CC11CM'+str(i)\n",
    "            indexlist.append(index0)\n",
    "            j=j-1\n",
    "        \n",
    "    return(indexlist)\n",
    "    "
   ]
  },
  {
   "cell_type": "code",
   "execution_count": null,
   "metadata": {},
   "outputs": [],
   "source": [
    "indexlist=returnindex()"
   ]
  },
  {
   "cell_type": "code",
   "execution_count": null,
   "metadata": {},
   "outputs": [],
   "source": [
    "df_all['community']=indexlist"
   ]
  },
  {
   "cell_type": "code",
   "execution_count": null,
   "metadata": {},
   "outputs": [],
   "source": [
    "df_all"
   ]
  },
  {
   "cell_type": "code",
   "execution_count": null,
   "metadata": {},
   "outputs": [],
   "source": [
    "df_all = df_all.loc[:,~df_all.columns.duplicated()]"
   ]
  },
  {
   "cell_type": "code",
   "execution_count": null,
   "metadata": {},
   "outputs": [],
   "source": [
    "df_all.to_csv('allvariables.csv')"
   ]
  },
  {
   "cell_type": "code",
   "execution_count": null,
   "metadata": {},
   "outputs": [],
   "source": [
    "# pip install rpy2"
   ]
  },
  {
   "cell_type": "code",
   "execution_count": null,
   "metadata": {},
   "outputs": [],
   "source": [
    "df_all"
   ]
  },
  {
   "cell_type": "code",
   "execution_count": null,
   "metadata": {},
   "outputs": [],
   "source": []
  }
 ],
 "metadata": {
  "kernelspec": {
   "display_name": "Python 3",
   "language": "python",
   "name": "python3"
  },
  "language_info": {
   "codemirror_mode": {
    "name": "ipython",
    "version": 3
   },
   "file_extension": ".py",
   "mimetype": "text/x-python",
   "name": "python",
   "nbconvert_exporter": "python",
   "pygments_lexer": "ipython3",
   "version": "3.7.6"
  }
 },
 "nbformat": 4,
 "nbformat_minor": 4
}
