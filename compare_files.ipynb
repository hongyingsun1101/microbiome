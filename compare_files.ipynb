{
 "cells": [
  {
   "cell_type": "code",
   "execution_count": 34,
   "metadata": {},
   "outputs": [
    {
     "data": {
      "text/plain": [
       "CC11CM1     46353.0\n",
       "CC11CM2     44080.0\n",
       "CC11CM3     47453.0\n",
       "CC11CM4     48784.0\n",
       "CC11CM7     48050.0\n",
       "CC11CM11    48096.0\n",
       "CC11CM12    47802.0\n",
       "CC11CM15    48906.0\n",
       "CC11CM17    47816.0\n",
       "CC11CM19    49146.0\n",
       "CC11CM20    49008.0\n",
       "CC11CM22    48025.0\n",
       "CC11CM25    48928.0\n",
       "CC11CM26    47774.0\n",
       "CC11CM28    48263.0\n",
       "CC11CM29    47698.0\n",
       "CC11CM32    49068.0\n",
       "CC11CM33    48578.0\n",
       "CC11CM34    47417.0\n",
       "CC11CM36    47965.0\n",
       "CC11CM41    48127.0\n",
       "CC11CM42    47774.0\n",
       "CC11CM46    47682.0\n",
       "CC11CM47    45859.0\n",
       "CC11CM48    46841.0\n",
       "CC11CM49    48185.0\n",
       "CC11CM50    48862.0\n",
       "CC11CM54    48467.0\n",
       "CC11CM55    48825.0\n",
       "CC11CM57    47468.0\n",
       "CC11CM58    45663.0\n",
       "CC11CM60    46981.0\n",
       "CC11CM63    49070.0\n",
       "CC11CM69    48120.0\n",
       "CC11CM70    48483.0\n",
       "CC11CM71    44006.0\n",
       "CC11CM72    46616.0\n",
       "CC11CM73    48604.0\n",
       "CC11CM74    46504.0\n",
       "CC11CM75    49218.0\n",
       "CC11CM78    46866.0\n",
       "CC11CM81    48876.0\n",
       "CC11CM84    46180.0\n",
       "CC11CM88    48533.0\n",
       "CC11CM92    48257.0\n",
       "CC11CM94    42422.0\n",
       "CC11CM97    46231.0\n",
       "CC11CM98    46701.0\n",
       "dtype: float64"
      ]
     },
     "execution_count": 34,
     "metadata": {},
     "output_type": "execute_result"
    }
   ],
   "source": [
    "# coding: utf-8\n",
    "import pandas as pd\n",
    "import numpy as np\n",
    "mock=pd.read_csv(\"CC11.map.SeqTable.csv\", index_col=0)\n",
    "#reformat mock\n",
    "sample_ids=mock['community'].unique()\n",
    "sample_ids=['CC11CM'+str(i) for i in range(sample_ids.shape[0])]\n",
    "translate={415850:1463164,195041:45634,592977:1680, 796939:796937, 41791:126333}\n",
    "mock.ncbi_tax_id.replace(translate, inplace=True)\n",
    "mock.rename(columns={'sourceSeq':'colind','organism':'tax_name','ncbi_tax_id':'tax_id'}, inplace=True)\n",
    "sv_ids = mock.colind.unique()\n",
    "temp=pd.DataFrame(index=sv_ids,columns=['tax_id']+sample_ids)\n",
    "temp.head()\n",
    "for s in sample_ids:\n",
    "    mock_s = mock[mock.community==s]\n",
    "    mock_s.set_index('colind', inplace=True)\n",
    "    temp.loc[mock_s.index, 'tax_id']=mock_s['tax_id']\n",
    "    temp.loc[mock_s.index, s]=mock_s['multiplicity']\n",
    "\n",
    "mock_reformated=temp.copy()\n",
    "\n",
    "#try 10398 file\n",
    "df=pd.read_csv(\"rdp_10398_oneRankEachSV_keepBest.csv\", index_col=0)\n",
    "#reformat\n",
    "temp=pd.DataFrame(index=sv_ids,columns=['tax_id']+sample_ids)\n",
    "df=pd.read_csv(\"rdp_10398_oneRankEachSV_keepBest.csv\", index_col=0)\n",
    "df=df.loc[:,['colind','tax_id']+sample_ids]\n",
    "df.set_index('colind',inplace=True)\n",
    "temp.loc[df.index, 'tax_id']=df['tax_id']\n",
    "temp.loc[df.index, sample_ids]=df[sample_ids]\n",
    "df_10398=temp.copy()\n",
    "df_10398.shape\n",
    "mock_reformated.shape\n",
    "#fillna\n",
    "df_10398 = df_10398.fillna(0)\n",
    "mock_reformated = mock_reformated.fillna(0)\n",
    "\n",
    "#index of samples with sum of multiplicity that differs\n",
    "ind=~np.isclose(mock_reformated.loc[df_10398.index,'CC11CM0':].sum(axis=0),df_10398.loc[:,'CC11CM0':].sum(axis=0))\n",
    "\n",
    "#compare, they differ in multiple samples\n",
    "mock_reformated.loc[df_10398.index,'CC11CM0':].sum(axis=0).loc[ind]\n",
    "df_10398.loc[:,'CC11CM0':].sum(axis=0).loc[ind]\n"
   ]
  },
  {
   "cell_type": "code",
   "execution_count": 33,
   "metadata": {},
   "outputs": [
    {
     "data": {
      "text/plain": [
       "48"
      ]
     },
     "execution_count": 33,
     "metadata": {},
     "output_type": "execute_result"
    }
   ],
   "source": [
    "len(mock_reformated.loc[df_10398.index,'CC11CM0':].sum(axis=0).loc[ind])"
   ]
  },
  {
   "cell_type": "code",
   "execution_count": 24,
   "metadata": {},
   "outputs": [
    {
     "data": {
      "text/plain": [
       "CC11CM0     48685\n",
       "CC11CM1     47541\n",
       "CC11CM2     44274\n",
       "CC11CM3     48407\n",
       "CC11CM4     49390\n",
       "CC11CM5     49013\n",
       "CC11CM6     47737\n",
       "CC11CM7     48538\n",
       "CC11CM8     48038\n",
       "CC11CM9     49357\n",
       "CC11CM10    49259\n",
       "CC11CM11    49596\n",
       "CC11CM12    48554\n",
       "CC11CM13    47891\n",
       "CC11CM14    47026\n",
       "CC11CM15    48920\n",
       "CC11CM16    49206\n",
       "CC11CM17    48835\n",
       "CC11CM18    48231\n",
       "CC11CM19    49266\n",
       "CC11CM20    49187\n",
       "CC11CM21    49383\n",
       "CC11CM22    48666\n",
       "CC11CM23    47639\n",
       "CC11CM24    48940\n",
       "CC11CM25    48970\n",
       "CC11CM26    48545\n",
       "CC11CM27    48613\n",
       "CC11CM28    48489\n",
       "CC11CM29    48272\n",
       "            ...  \n",
       "CC11CM70    49126\n",
       "CC11CM71    44524\n",
       "CC11CM72    47231\n",
       "CC11CM73    49199\n",
       "CC11CM74    46857\n",
       "CC11CM75    49679\n",
       "CC11CM76    49555\n",
       "CC11CM77    48942\n",
       "CC11CM78    48132\n",
       "CC11CM79    48600\n",
       "CC11CM80    49466\n",
       "CC11CM81    48983\n",
       "CC11CM82    45873\n",
       "CC11CM83    49583\n",
       "CC11CM84    46760\n",
       "CC11CM85    47284\n",
       "CC11CM86    49104\n",
       "CC11CM87    43721\n",
       "CC11CM88    48606\n",
       "CC11CM89    48028\n",
       "CC11CM90    48318\n",
       "CC11CM91    48111\n",
       "CC11CM92    49079\n",
       "CC11CM93    48286\n",
       "CC11CM94    44016\n",
       "CC11CM95    47746\n",
       "CC11CM96    48246\n",
       "CC11CM97    46369\n",
       "CC11CM98    46899\n",
       "CC11CM99    47392\n",
       "Length: 100, dtype: int64"
      ]
     },
     "execution_count": 24,
     "metadata": {},
     "output_type": "execute_result"
    }
   ],
   "source": [
    "mock_reformated.loc[df_10398.index,'CC11CM0':].sum(axis=0)"
   ]
  },
  {
   "cell_type": "code",
   "execution_count": 7,
   "metadata": {},
   "outputs": [
    {
     "data": {
      "text/plain": [
       "Index(['AB036759.1.1480', 'AB253730.1.1456', 'AB253731.1.1463',\n",
       "       'AB298910.1.1471', 'AB510708.1.1476', 'AB510709.1.1490',\n",
       "       'AB547696.1.1280', 'AB793710.1.1451', 'AB916502.1.1486',\n",
       "       'ABEZ02000021.84162.85652',\n",
       "       ...\n",
       "       'CANO01000088.187.1714', 'JN038566.1.1442', 'KC569567.1.1426',\n",
       "       'NR_115300.1', 'NR_117778.1', 'NR_118835.1',\n",
       "       'AEUV02000002.471830.473379', 'AY162222.1.1458', 'NR_024887.1',\n",
       "       'NR_117153.1'],\n",
       "      dtype='object', length=1830)"
      ]
     },
     "execution_count": 7,
     "metadata": {},
     "output_type": "execute_result"
    }
   ],
   "source": [
    "df_10398.shape\n",
    "\n"
   ]
  },
  {
   "cell_type": "code",
   "execution_count": 4,
   "metadata": {},
   "outputs": [
    {
     "data": {
      "text/plain": [
       "(1830, 101)"
      ]
     },
     "execution_count": 4,
     "metadata": {},
     "output_type": "execute_result"
    }
   ],
   "source": [
    "mock_reformated.shape"
   ]
  },
  {
   "cell_type": "code",
   "execution_count": 10,
   "metadata": {},
   "outputs": [],
   "source": [
    "ind2=~np.isclose(mock_reformated.loc[df_10398.index,'CC11CM0':].sum(axis=1),df_10398.loc[:,'CC11CM0':].sum(axis=1))\n"
   ]
  },
  {
   "cell_type": "code",
   "execution_count": 11,
   "metadata": {},
   "outputs": [
    {
     "data": {
      "text/plain": [
       "array([False, False, False, ..., False, False, False])"
      ]
     },
     "execution_count": 11,
     "metadata": {},
     "output_type": "execute_result"
    }
   ],
   "source": [
    "ind2"
   ]
  },
  {
   "cell_type": "code",
   "execution_count": 15,
   "metadata": {},
   "outputs": [
    {
     "data": {
      "text/plain": [
       "CC11CM1     46353.0\n",
       "CC11CM2     44080.0\n",
       "CC11CM3     47453.0\n",
       "CC11CM4     48784.0\n",
       "CC11CM7     48050.0\n",
       "CC11CM11    48096.0\n",
       "CC11CM12    47802.0\n",
       "CC11CM15    48906.0\n",
       "CC11CM17    47816.0\n",
       "CC11CM19    49146.0\n",
       "CC11CM20    49008.0\n",
       "CC11CM22    48025.0\n",
       "CC11CM25    48928.0\n",
       "CC11CM26    47774.0\n",
       "CC11CM28    48263.0\n",
       "CC11CM29    47698.0\n",
       "CC11CM32    49068.0\n",
       "CC11CM33    48578.0\n",
       "CC11CM34    47417.0\n",
       "CC11CM36    47965.0\n",
       "CC11CM41    48127.0\n",
       "CC11CM42    47774.0\n",
       "CC11CM46    47682.0\n",
       "CC11CM47    45859.0\n",
       "CC11CM48    46841.0\n",
       "CC11CM49    48185.0\n",
       "CC11CM50    48862.0\n",
       "CC11CM54    48467.0\n",
       "CC11CM55    48825.0\n",
       "CC11CM57    47468.0\n",
       "CC11CM58    45663.0\n",
       "CC11CM60    46981.0\n",
       "CC11CM63    49070.0\n",
       "CC11CM69    48120.0\n",
       "CC11CM70    48483.0\n",
       "CC11CM71    44006.0\n",
       "CC11CM72    46616.0\n",
       "CC11CM73    48604.0\n",
       "CC11CM74    46504.0\n",
       "CC11CM75    49218.0\n",
       "CC11CM78    46866.0\n",
       "CC11CM81    48876.0\n",
       "CC11CM84    46180.0\n",
       "CC11CM88    48533.0\n",
       "CC11CM92    48257.0\n",
       "CC11CM94    42422.0\n",
       "CC11CM97    46231.0\n",
       "CC11CM98    46701.0\n",
       "dtype: float64"
      ]
     },
     "execution_count": 15,
     "metadata": {},
     "output_type": "execute_result"
    }
   ],
   "source": [
    "mock_reformated.loc[df_10398.index,'CC11CM0':].sum(axis=0).loc[ind],\n",
    "df_10398.loc[:,'CC11CM0':].sum(axis=0).loc[ind]"
   ]
  },
  {
   "cell_type": "code",
   "execution_count": 14,
   "metadata": {},
   "outputs": [
    {
     "data": {
      "text/plain": [
       "CC11CM1     46353.0\n",
       "CC11CM2     44080.0\n",
       "CC11CM3     47453.0\n",
       "CC11CM4     48784.0\n",
       "CC11CM7     48050.0\n",
       "CC11CM11    48096.0\n",
       "CC11CM12    47802.0\n",
       "CC11CM15    48906.0\n",
       "CC11CM17    47816.0\n",
       "CC11CM19    49146.0\n",
       "CC11CM20    49008.0\n",
       "CC11CM22    48025.0\n",
       "CC11CM25    48928.0\n",
       "CC11CM26    47774.0\n",
       "CC11CM28    48263.0\n",
       "CC11CM29    47698.0\n",
       "CC11CM32    49068.0\n",
       "CC11CM33    48578.0\n",
       "CC11CM34    47417.0\n",
       "CC11CM36    47965.0\n",
       "CC11CM41    48127.0\n",
       "CC11CM42    47774.0\n",
       "CC11CM46    47682.0\n",
       "CC11CM47    45859.0\n",
       "CC11CM48    46841.0\n",
       "CC11CM49    48185.0\n",
       "CC11CM50    48862.0\n",
       "CC11CM54    48467.0\n",
       "CC11CM55    48825.0\n",
       "CC11CM57    47468.0\n",
       "CC11CM58    45663.0\n",
       "CC11CM60    46981.0\n",
       "CC11CM63    49070.0\n",
       "CC11CM69    48120.0\n",
       "CC11CM70    48483.0\n",
       "CC11CM71    44006.0\n",
       "CC11CM72    46616.0\n",
       "CC11CM73    48604.0\n",
       "CC11CM74    46504.0\n",
       "CC11CM75    49218.0\n",
       "CC11CM78    46866.0\n",
       "CC11CM81    48876.0\n",
       "CC11CM84    46180.0\n",
       "CC11CM88    48533.0\n",
       "CC11CM92    48257.0\n",
       "CC11CM94    42422.0\n",
       "CC11CM97    46231.0\n",
       "CC11CM98    46701.0\n",
       "dtype: float64"
      ]
     },
     "execution_count": 14,
     "metadata": {},
     "output_type": "execute_result"
    }
   ],
   "source": [
    "mock_reformated.loc[df_10398.index,'CC11CM0':].sum(axis=0).loc[ind]\n",
    "df_10398.loc[:,'CC11CM0':].sum(axis=0).loc[ind]"
   ]
  },
  {
   "cell_type": "code",
   "execution_count": null,
   "metadata": {},
   "outputs": [],
   "source": []
  }
 ],
 "metadata": {
  "kernelspec": {
   "display_name": "Python 3",
   "language": "python",
   "name": "python3"
  },
  "language_info": {
   "codemirror_mode": {
    "name": "ipython",
    "version": 3
   },
   "file_extension": ".py",
   "mimetype": "text/x-python",
   "name": "python",
   "nbconvert_exporter": "python",
   "pygments_lexer": "ipython3",
   "version": "3.7.3"
  }
 },
 "nbformat": 4,
 "nbformat_minor": 4
}
