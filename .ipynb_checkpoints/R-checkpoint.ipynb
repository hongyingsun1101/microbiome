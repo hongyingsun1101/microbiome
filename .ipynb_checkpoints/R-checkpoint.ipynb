{
 "cells": [
  {
   "cell_type": "code",
   "execution_count": 1,
   "metadata": {},
   "outputs": [],
   "source": [
    "options(warn=-1)"
   ]
  },
  {
   "cell_type": "code",
   "execution_count": 2,
   "metadata": {},
   "outputs": [],
   "source": [
    "# install.packages(\"lme4\")\n",
    "# install.packages(\"MuMIn\")"
   ]
  },
  {
   "cell_type": "code",
   "execution_count": 3,
   "metadata": {},
   "outputs": [
    {
     "name": "stderr",
     "output_type": "stream",
     "text": [
      "Loading required package: Matrix\n",
      "\n"
     ]
    }
   ],
   "source": [
    "library(lme4)\n",
    "library(MuMIn)\n",
    "\n",
    "# fit<-lmer(circumference~age+(1|Tree), data=Orange)\n",
    "# summary(fit)\n",
    "\n",
    "# r.squaredGLMM(fit)"
   ]
  },
  {
   "cell_type": "code",
   "execution_count": 4,
   "metadata": {},
   "outputs": [],
   "source": [
    "df=read.csv('allvariables.csv')"
   ]
  },
  {
   "cell_type": "code",
   "execution_count": 5,
   "metadata": {},
   "outputs": [
    {
     "data": {
      "text/html": [
       "<style>\n",
       ".list-inline {list-style: none; margin:0; padding: 0}\n",
       ".list-inline>li {display: inline-block}\n",
       ".list-inline>li:not(:last-child)::after {content: \"\\00b7\"; padding: 0 .5ex}\n",
       "</style>\n",
       "<ol class=list-inline><li>'X'</li><li>'reference'</li><li>'adcl_1'</li><li>'adcl_2'</li><li>'prichness'</li><li>'edpl_1'</li><li>'edpl_2'</li><li>'bcd'</li><li>'sensitivity'</li><li>'community'</li></ol>\n"
      ],
      "text/latex": [
       "\\begin{enumerate*}\n",
       "\\item 'X'\n",
       "\\item 'reference'\n",
       "\\item 'adcl\\_1'\n",
       "\\item 'adcl\\_2'\n",
       "\\item 'prichness'\n",
       "\\item 'edpl\\_1'\n",
       "\\item 'edpl\\_2'\n",
       "\\item 'bcd'\n",
       "\\item 'sensitivity'\n",
       "\\item 'community'\n",
       "\\end{enumerate*}\n"
      ],
      "text/markdown": [
       "1. 'X'\n",
       "2. 'reference'\n",
       "3. 'adcl_1'\n",
       "4. 'adcl_2'\n",
       "5. 'prichness'\n",
       "6. 'edpl_1'\n",
       "7. 'edpl_2'\n",
       "8. 'bcd'\n",
       "9. 'sensitivity'\n",
       "10. 'community'\n",
       "\n",
       "\n"
      ],
      "text/plain": [
       " [1] \"X\"           \"reference\"   \"adcl_1\"      \"adcl_2\"      \"prichness\"  \n",
       " [6] \"edpl_1\"      \"edpl_2\"      \"bcd\"         \"sensitivity\" \"community\"  "
      ]
     },
     "metadata": {},
     "output_type": "display_data"
    }
   ],
   "source": [
    "colnames(df)"
   ]
  },
  {
   "cell_type": "code",
   "execution_count": 6,
   "metadata": {},
   "outputs": [
    {
     "name": "stderr",
     "output_type": "stream",
     "text": [
      "boundary (singular) fit: see ?isSingular\n",
      "\n"
     ]
    },
    {
     "data": {
      "text/plain": [
       "Linear mixed model fit by REML ['lmerMod']\n",
       "Formula: sensitivity ~ adcl_1 + (1 | community)\n",
       "   Data: df\n",
       "\n",
       "REML criterion at convergence: 629.4\n",
       "\n",
       "Scaled residuals: \n",
       "     Min       1Q   Median       3Q      Max \n",
       "-1.97541 -1.05971 -0.06139  0.89994  2.31014 \n",
       "\n",
       "Random effects:\n",
       " Groups    Name        Variance Std.Dev.\n",
       " community (Intercept) 0.0000   0.0000  \n",
       " Residual              0.1994   0.4466  \n",
       "Number of obs: 500, groups:  community, 100\n",
       "\n",
       "Fixed effects:\n",
       "             Estimate Std. Error t value\n",
       "(Intercept) 0.7382749  0.0288578   25.58\n",
       "adcl_1      0.0425100  0.0007366   57.71\n",
       "\n",
       "Correlation of Fixed Effects:\n",
       "       (Intr)\n",
       "adcl_1 -0.722\n",
       "convergence code: 0\n",
       "boundary (singular) fit: see ?isSingular\n"
      ]
     },
     "metadata": {},
     "output_type": "display_data"
    },
    {
     "data": {
      "text/html": [
       "<table>\n",
       "<caption>A matrix: 1 × 2 of type dbl</caption>\n",
       "<thead>\n",
       "\t<tr><th scope=col>R2m</th><th scope=col>R2c</th></tr>\n",
       "</thead>\n",
       "<tbody>\n",
       "\t<tr><td>0.8696908</td><td>0.8696908</td></tr>\n",
       "</tbody>\n",
       "</table>\n"
      ],
      "text/latex": [
       "A matrix: 1 × 2 of type dbl\n",
       "\\begin{tabular}{ll}\n",
       " R2m & R2c\\\\\n",
       "\\hline\n",
       "\t 0.8696908 & 0.8696908\\\\\n",
       "\\end{tabular}\n"
      ],
      "text/markdown": [
       "\n",
       "A matrix: 1 × 2 of type dbl\n",
       "\n",
       "| R2m | R2c |\n",
       "|---|---|\n",
       "| 0.8696908 | 0.8696908 |\n",
       "\n"
      ],
      "text/plain": [
       "     R2m       R2c      \n",
       "[1,] 0.8696908 0.8696908"
      ]
     },
     "metadata": {},
     "output_type": "display_data"
    }
   ],
   "source": [
    "fit.adcl_1<-lmer(sensitivity~adcl_1+(1|community), data=df)\n",
    "summary(fit.adcl_1)\n",
    "r.squaredGLMM(fit.adcl_1)"
   ]
  },
  {
   "cell_type": "code",
   "execution_count": 7,
   "metadata": {},
   "outputs": [
    {
     "name": "stderr",
     "output_type": "stream",
     "text": [
      "boundary (singular) fit: see ?isSingular\n",
      "\n"
     ]
    },
    {
     "data": {
      "text/plain": [
       "Linear mixed model fit by REML ['lmerMod']\n",
       "Formula: sensitivity ~ adcl_1 + (1 | community)\n",
       "   Data: df\n",
       "\n",
       "REML criterion at convergence: 629.4\n",
       "\n",
       "Scaled residuals: \n",
       "     Min       1Q   Median       3Q      Max \n",
       "-1.97541 -1.05971 -0.06139  0.89994  2.31014 \n",
       "\n",
       "Random effects:\n",
       " Groups    Name        Variance Std.Dev.\n",
       " community (Intercept) 0.0000   0.0000  \n",
       " Residual              0.1994   0.4466  \n",
       "Number of obs: 500, groups:  community, 100\n",
       "\n",
       "Fixed effects:\n",
       "             Estimate Std. Error t value\n",
       "(Intercept) 0.7382749  0.0288578   25.58\n",
       "adcl_1      0.0425100  0.0007366   57.71\n",
       "\n",
       "Correlation of Fixed Effects:\n",
       "       (Intr)\n",
       "adcl_1 -0.722\n",
       "convergence code: 0\n",
       "boundary (singular) fit: see ?isSingular\n"
      ]
     },
     "metadata": {},
     "output_type": "display_data"
    },
    {
     "data": {
      "text/html": [
       "<table>\n",
       "<caption>A matrix: 1 × 2 of type dbl</caption>\n",
       "<thead>\n",
       "\t<tr><th scope=col>R2m</th><th scope=col>R2c</th></tr>\n",
       "</thead>\n",
       "<tbody>\n",
       "\t<tr><td>0.8696908</td><td>0.8696908</td></tr>\n",
       "</tbody>\n",
       "</table>\n"
      ],
      "text/latex": [
       "A matrix: 1 × 2 of type dbl\n",
       "\\begin{tabular}{ll}\n",
       " R2m & R2c\\\\\n",
       "\\hline\n",
       "\t 0.8696908 & 0.8696908\\\\\n",
       "\\end{tabular}\n"
      ],
      "text/markdown": [
       "\n",
       "A matrix: 1 × 2 of type dbl\n",
       "\n",
       "| R2m | R2c |\n",
       "|---|---|\n",
       "| 0.8696908 | 0.8696908 |\n",
       "\n"
      ],
      "text/plain": [
       "     R2m       R2c      \n",
       "[1,] 0.8696908 0.8696908"
      ]
     },
     "metadata": {},
     "output_type": "display_data"
    },
    {
     "name": "stderr",
     "output_type": "stream",
     "text": [
      "boundary (singular) fit: see ?isSingular\n",
      "\n"
     ]
    },
    {
     "data": {
      "text/plain": [
       "Linear mixed model fit by REML ['lmerMod']\n",
       "Formula: sensitivity ~ adcl_2 + (1 | community)\n",
       "   Data: df\n",
       "\n",
       "REML criterion at convergence: 864.8\n",
       "\n",
       "Scaled residuals: \n",
       "    Min      1Q  Median      3Q     Max \n",
       "-3.0319 -0.6856  0.0908  0.7126  4.2972 \n",
       "\n",
       "Random effects:\n",
       " Groups    Name        Variance Std.Dev.\n",
       " community (Intercept) 0.0000   0.0000  \n",
       " Residual              0.3284   0.5731  \n",
       "Number of obs: 500, groups:  community, 100\n",
       "\n",
       "Fixed effects:\n",
       "             Estimate Std. Error t value\n",
       "(Intercept)   5.10618    0.07838   65.15\n",
       "adcl_2      -26.70134    0.62471  -42.74\n",
       "\n",
       "Correlation of Fixed Effects:\n",
       "       (Intr)\n",
       "adcl_2 -0.945\n",
       "convergence code: 0\n",
       "boundary (singular) fit: see ?isSingular\n"
      ]
     },
     "metadata": {},
     "output_type": "display_data"
    },
    {
     "data": {
      "text/html": [
       "<table>\n",
       "<caption>A matrix: 1 × 2 of type dbl</caption>\n",
       "<thead>\n",
       "\t<tr><th scope=col>R2m</th><th scope=col>R2c</th></tr>\n",
       "</thead>\n",
       "<tbody>\n",
       "\t<tr><td>0.7854565</td><td>0.7854565</td></tr>\n",
       "</tbody>\n",
       "</table>\n"
      ],
      "text/latex": [
       "A matrix: 1 × 2 of type dbl\n",
       "\\begin{tabular}{ll}\n",
       " R2m & R2c\\\\\n",
       "\\hline\n",
       "\t 0.7854565 & 0.7854565\\\\\n",
       "\\end{tabular}\n"
      ],
      "text/markdown": [
       "\n",
       "A matrix: 1 × 2 of type dbl\n",
       "\n",
       "| R2m | R2c |\n",
       "|---|---|\n",
       "| 0.7854565 | 0.7854565 |\n",
       "\n"
      ],
      "text/plain": [
       "     R2m       R2c      \n",
       "[1,] 0.7854565 0.7854565"
      ]
     },
     "metadata": {},
     "output_type": "display_data"
    },
    {
     "name": "stderr",
     "output_type": "stream",
     "text": [
      "boundary (singular) fit: see ?isSingular\n",
      "\n"
     ]
    },
    {
     "data": {
      "text/plain": [
       "Linear mixed model fit by REML ['lmerMod']\n",
       "Formula: sensitivity ~ prichness + (1 | community)\n",
       "   Data: df\n",
       "\n",
       "REML criterion at convergence: 1280.8\n",
       "\n",
       "Scaled residuals: \n",
       "    Min      1Q  Median      3Q     Max \n",
       "-2.5975 -0.7070  0.1865  0.7557  1.9645 \n",
       "\n",
       "Random effects:\n",
       " Groups    Name        Variance Std.Dev.\n",
       " community (Intercept) 0.0000   0.0000  \n",
       " Residual              0.7409   0.8608  \n",
       "Number of obs: 500, groups:  community, 100\n",
       "\n",
       "Fixed effects:\n",
       "             Estimate Std. Error t value\n",
       "(Intercept) -4.090738   0.264176  -15.48\n",
       "prichness    0.095724   0.004148   23.08\n",
       "\n",
       "Correlation of Fixed Effects:\n",
       "          (Intr)\n",
       "prichness -0.989\n",
       "convergence code: 0\n",
       "boundary (singular) fit: see ?isSingular\n"
      ]
     },
     "metadata": {},
     "output_type": "display_data"
    },
    {
     "data": {
      "text/html": [
       "<table>\n",
       "<caption>A matrix: 1 × 2 of type dbl</caption>\n",
       "<thead>\n",
       "\t<tr><th scope=col>R2m</th><th scope=col>R2c</th></tr>\n",
       "</thead>\n",
       "<tbody>\n",
       "\t<tr><td>0.5162433</td><td>0.5162433</td></tr>\n",
       "</tbody>\n",
       "</table>\n"
      ],
      "text/latex": [
       "A matrix: 1 × 2 of type dbl\n",
       "\\begin{tabular}{ll}\n",
       " R2m & R2c\\\\\n",
       "\\hline\n",
       "\t 0.5162433 & 0.5162433\\\\\n",
       "\\end{tabular}\n"
      ],
      "text/markdown": [
       "\n",
       "A matrix: 1 × 2 of type dbl\n",
       "\n",
       "| R2m | R2c |\n",
       "|---|---|\n",
       "| 0.5162433 | 0.5162433 |\n",
       "\n"
      ],
      "text/plain": [
       "     R2m       R2c      \n",
       "[1,] 0.5162433 0.5162433"
      ]
     },
     "metadata": {},
     "output_type": "display_data"
    },
    {
     "name": "stderr",
     "output_type": "stream",
     "text": [
      "boundary (singular) fit: see ?isSingular\n",
      "\n"
     ]
    },
    {
     "data": {
      "text/plain": [
       "Linear mixed model fit by REML ['lmerMod']\n",
       "Formula: sensitivity ~ edpl_1 + (1 | community)\n",
       "   Data: df\n",
       "\n",
       "REML criterion at convergence: 1404.2\n",
       "\n",
       "Scaled residuals: \n",
       "     Min       1Q   Median       3Q      Max \n",
       "-1.77595 -1.04751  0.07152  0.96463  1.65917 \n",
       "\n",
       "Random effects:\n",
       " Groups    Name        Variance Std.Dev.\n",
       " community (Intercept) 0.000    0.000   \n",
       " Residual              1.324    1.151   \n",
       "Number of obs: 450, groups:  community, 100\n",
       "\n",
       "Fixed effects:\n",
       "            Estimate Std. Error t value\n",
       "(Intercept)   1.3142     0.1487   8.838\n",
       "edpl_1        3.7171     0.7042   5.279\n",
       "\n",
       "Correlation of Fixed Effects:\n",
       "       (Intr)\n",
       "edpl_1 -0.931\n",
       "convergence code: 0\n",
       "boundary (singular) fit: see ?isSingular\n"
      ]
     },
     "metadata": {},
     "output_type": "display_data"
    },
    {
     "data": {
      "text/html": [
       "<table>\n",
       "<caption>A matrix: 1 × 2 of type dbl</caption>\n",
       "<thead>\n",
       "\t<tr><th scope=col>R2m</th><th scope=col>R2c</th></tr>\n",
       "</thead>\n",
       "<tbody>\n",
       "\t<tr><td>0.05843436</td><td>0.05843436</td></tr>\n",
       "</tbody>\n",
       "</table>\n"
      ],
      "text/latex": [
       "A matrix: 1 × 2 of type dbl\n",
       "\\begin{tabular}{ll}\n",
       " R2m & R2c\\\\\n",
       "\\hline\n",
       "\t 0.05843436 & 0.05843436\\\\\n",
       "\\end{tabular}\n"
      ],
      "text/markdown": [
       "\n",
       "A matrix: 1 × 2 of type dbl\n",
       "\n",
       "| R2m | R2c |\n",
       "|---|---|\n",
       "| 0.05843436 | 0.05843436 |\n",
       "\n"
      ],
      "text/plain": [
       "     R2m        R2c       \n",
       "[1,] 0.05843436 0.05843436"
      ]
     },
     "metadata": {},
     "output_type": "display_data"
    },
    {
     "name": "stderr",
     "output_type": "stream",
     "text": [
      "boundary (singular) fit: see ?isSingular\n",
      "\n"
     ]
    },
    {
     "data": {
      "text/plain": [
       "Linear mixed model fit by REML ['lmerMod']\n",
       "Formula: sensitivity ~ edpl_2 + (1 | community)\n",
       "   Data: df\n",
       "\n",
       "REML criterion at convergence: 1618.3\n",
       "\n",
       "Scaled residuals: \n",
       "    Min      1Q  Median      3Q     Max \n",
       "-1.4499 -0.9331  0.0164  0.9310  1.6342 \n",
       "\n",
       "Random effects:\n",
       " Groups    Name        Variance Std.Dev.\n",
       " community (Intercept) 0.000    0.000   \n",
       " Residual              1.498    1.224   \n",
       "Number of obs: 500, groups:  community, 100\n",
       "\n",
       "Fixed effects:\n",
       "            Estimate Std. Error t value\n",
       "(Intercept)   1.0269     0.2721   3.774\n",
       "edpl_2       14.0654     4.1047   3.427\n",
       "\n",
       "Correlation of Fixed Effects:\n",
       "       (Intr)\n",
       "edpl_2 -0.980\n",
       "convergence code: 0\n",
       "boundary (singular) fit: see ?isSingular\n"
      ]
     },
     "metadata": {},
     "output_type": "display_data"
    },
    {
     "data": {
      "text/html": [
       "<table>\n",
       "<caption>A matrix: 1 × 2 of type dbl</caption>\n",
       "<thead>\n",
       "\t<tr><th scope=col>R2m</th><th scope=col>R2c</th></tr>\n",
       "</thead>\n",
       "<tbody>\n",
       "\t<tr><td>0.02299017</td><td>0.02299017</td></tr>\n",
       "</tbody>\n",
       "</table>\n"
      ],
      "text/latex": [
       "A matrix: 1 × 2 of type dbl\n",
       "\\begin{tabular}{ll}\n",
       " R2m & R2c\\\\\n",
       "\\hline\n",
       "\t 0.02299017 & 0.02299017\\\\\n",
       "\\end{tabular}\n"
      ],
      "text/markdown": [
       "\n",
       "A matrix: 1 × 2 of type dbl\n",
       "\n",
       "| R2m | R2c |\n",
       "|---|---|\n",
       "| 0.02299017 | 0.02299017 |\n",
       "\n"
      ],
      "text/plain": [
       "     R2m        R2c       \n",
       "[1,] 0.02299017 0.02299017"
      ]
     },
     "metadata": {},
     "output_type": "display_data"
    },
    {
     "data": {
      "text/plain": [
       "Linear mixed model fit by REML ['lmerMod']\n",
       "Formula: bcd ~ adcl_1 + (1 | community)\n",
       "   Data: df\n",
       "\n",
       "REML criterion at convergence: -3298.5\n",
       "\n",
       "Scaled residuals: \n",
       "    Min      1Q  Median      3Q     Max \n",
       "-1.6702 -0.4789 -0.1666  0.1848  7.0659 \n",
       "\n",
       "Random effects:\n",
       " Groups    Name        Variance  Std.Dev.\n",
       " community (Intercept) 2.314e-05 0.004811\n",
       " Residual              6.055e-05 0.007782\n",
       "Number of obs: 500, groups:  community, 100\n",
       "\n",
       "Fixed effects:\n",
       "              Estimate Std. Error t value\n",
       "(Intercept)  7.627e-03  6.964e-04  10.952\n",
       "adcl_1      -7.933e-05  1.287e-05  -6.165\n",
       "\n",
       "Correlation of Fixed Effects:\n",
       "       (Intr)\n",
       "adcl_1 -0.523"
      ]
     },
     "metadata": {},
     "output_type": "display_data"
    },
    {
     "data": {
      "text/html": [
       "<table>\n",
       "<caption>A matrix: 1 × 2 of type dbl</caption>\n",
       "<thead>\n",
       "\t<tr><th scope=col>R2m</th><th scope=col>R2c</th></tr>\n",
       "</thead>\n",
       "<tbody>\n",
       "\t<tr><td>0.05247357</td><td>0.3144885</td></tr>\n",
       "</tbody>\n",
       "</table>\n"
      ],
      "text/latex": [
       "A matrix: 1 × 2 of type dbl\n",
       "\\begin{tabular}{ll}\n",
       " R2m & R2c\\\\\n",
       "\\hline\n",
       "\t 0.05247357 & 0.3144885\\\\\n",
       "\\end{tabular}\n"
      ],
      "text/markdown": [
       "\n",
       "A matrix: 1 × 2 of type dbl\n",
       "\n",
       "| R2m | R2c |\n",
       "|---|---|\n",
       "| 0.05247357 | 0.3144885 |\n",
       "\n"
      ],
      "text/plain": [
       "     R2m        R2c      \n",
       "[1,] 0.05247357 0.3144885"
      ]
     },
     "metadata": {},
     "output_type": "display_data"
    },
    {
     "data": {
      "text/plain": [
       "Linear mixed model fit by REML ['lmerMod']\n",
       "Formula: bcd ~ adcl_2 + (1 | community)\n",
       "   Data: df\n",
       "\n",
       "REML criterion at convergence: -3318.2\n",
       "\n",
       "Scaled residuals: \n",
       "    Min      1Q  Median      3Q     Max \n",
       "-2.0795 -0.4131 -0.1576  0.1339  7.3933 \n",
       "\n",
       "Random effects:\n",
       " Groups    Name        Variance  Std.Dev.\n",
       " community (Intercept) 2.288e-05 0.004783\n",
       " Residual              5.973e-05 0.007728\n",
       "Number of obs: 500, groups:  community, 100\n",
       "\n",
       "Fixed effects:\n",
       "             Estimate Std. Error t value\n",
       "(Intercept) -0.001447   0.001174  -1.233\n",
       "adcl_2       0.057609   0.008559   6.731\n",
       "\n",
       "Correlation of Fixed Effects:\n",
       "       (Intr)\n",
       "adcl_2 -0.864"
      ]
     },
     "metadata": {},
     "output_type": "display_data"
    },
    {
     "data": {
      "text/html": [
       "<table>\n",
       "<caption>A matrix: 1 × 2 of type dbl</caption>\n",
       "<thead>\n",
       "\t<tr><th scope=col>R2m</th><th scope=col>R2c</th></tr>\n",
       "</thead>\n",
       "<tbody>\n",
       "\t<tr><td>0.06345559</td><td>0.3228208</td></tr>\n",
       "</tbody>\n",
       "</table>\n"
      ],
      "text/latex": [
       "A matrix: 1 × 2 of type dbl\n",
       "\\begin{tabular}{ll}\n",
       " R2m & R2c\\\\\n",
       "\\hline\n",
       "\t 0.06345559 & 0.3228208\\\\\n",
       "\\end{tabular}\n"
      ],
      "text/markdown": [
       "\n",
       "A matrix: 1 × 2 of type dbl\n",
       "\n",
       "| R2m | R2c |\n",
       "|---|---|\n",
       "| 0.06345559 | 0.3228208 |\n",
       "\n"
      ],
      "text/plain": [
       "     R2m        R2c      \n",
       "[1,] 0.06345559 0.3228208"
      ]
     },
     "metadata": {},
     "output_type": "display_data"
    },
    {
     "data": {
      "text/plain": [
       "Linear mixed model fit by REML ['lmerMod']\n",
       "Formula: bcd ~ prichness + (1 | community)\n",
       "   Data: df\n",
       "\n",
       "REML criterion at convergence: -3284\n",
       "\n",
       "Scaled residuals: \n",
       "    Min      1Q  Median      3Q     Max \n",
       "-1.7235 -0.3723 -0.1608  0.0817  7.3637 \n",
       "\n",
       "Random effects:\n",
       " Groups    Name        Variance  Std.Dev.\n",
       " community (Intercept) 2.277e-05 0.004772\n",
       " Residual              6.308e-05 0.007942\n",
       "Number of obs: 500, groups:  community, 100\n",
       "\n",
       "Fixed effects:\n",
       "              Estimate Std. Error t value\n",
       "(Intercept)  1.647e-02  2.540e-03   6.485\n",
       "prichness   -1.760e-04  3.919e-05  -4.490\n",
       "\n",
       "Correlation of Fixed Effects:\n",
       "          (Intr)\n",
       "prichness -0.972"
      ]
     },
     "metadata": {},
     "output_type": "display_data"
    },
    {
     "data": {
      "text/html": [
       "<table>\n",
       "<caption>A matrix: 1 × 2 of type dbl</caption>\n",
       "<thead>\n",
       "\t<tr><th scope=col>R2m</th><th scope=col>R2c</th></tr>\n",
       "</thead>\n",
       "<tbody>\n",
       "\t<tr><td>0.03018458</td><td>0.2874114</td></tr>\n",
       "</tbody>\n",
       "</table>\n"
      ],
      "text/latex": [
       "A matrix: 1 × 2 of type dbl\n",
       "\\begin{tabular}{ll}\n",
       " R2m & R2c\\\\\n",
       "\\hline\n",
       "\t 0.03018458 & 0.2874114\\\\\n",
       "\\end{tabular}\n"
      ],
      "text/markdown": [
       "\n",
       "A matrix: 1 × 2 of type dbl\n",
       "\n",
       "| R2m | R2c |\n",
       "|---|---|\n",
       "| 0.03018458 | 0.2874114 |\n",
       "\n"
      ],
      "text/plain": [
       "     R2m        R2c      \n",
       "[1,] 0.03018458 0.2874114"
      ]
     },
     "metadata": {},
     "output_type": "display_data"
    },
    {
     "data": {
      "text/plain": [
       "Linear mixed model fit by REML ['lmerMod']\n",
       "Formula: bcd ~ edpl_1 + (1 | community)\n",
       "   Data: df\n",
       "\n",
       "REML criterion at convergence: -2969\n",
       "\n",
       "Scaled residuals: \n",
       "    Min      1Q  Median      3Q     Max \n",
       "-1.5144 -0.2949 -0.2184  0.0785  7.0702 \n",
       "\n",
       "Random effects:\n",
       " Groups    Name        Variance  Std.Dev.\n",
       " community (Intercept) 2.116e-05 0.004600\n",
       " Residual              6.222e-05 0.007888\n",
       "Number of obs: 450, groups:  community, 100\n",
       "\n",
       "Fixed effects:\n",
       "             Estimate Std. Error t value\n",
       "(Intercept)  0.006099   0.001173   5.198\n",
       "edpl_1      -0.005574   0.005153  -1.082\n",
       "\n",
       "Correlation of Fixed Effects:\n",
       "       (Intr)\n",
       "edpl_1 -0.863"
      ]
     },
     "metadata": {},
     "output_type": "display_data"
    },
    {
     "data": {
      "text/html": [
       "<table>\n",
       "<caption>A matrix: 1 × 2 of type dbl</caption>\n",
       "<thead>\n",
       "\t<tr><th scope=col>R2m</th><th scope=col>R2c</th></tr>\n",
       "</thead>\n",
       "<tbody>\n",
       "\t<tr><td>0.00221097</td><td>0.2554322</td></tr>\n",
       "</tbody>\n",
       "</table>\n"
      ],
      "text/latex": [
       "A matrix: 1 × 2 of type dbl\n",
       "\\begin{tabular}{ll}\n",
       " R2m & R2c\\\\\n",
       "\\hline\n",
       "\t 0.00221097 & 0.2554322\\\\\n",
       "\\end{tabular}\n"
      ],
      "text/markdown": [
       "\n",
       "A matrix: 1 × 2 of type dbl\n",
       "\n",
       "| R2m | R2c |\n",
       "|---|---|\n",
       "| 0.00221097 | 0.2554322 |\n",
       "\n"
      ],
      "text/plain": [
       "     R2m        R2c      \n",
       "[1,] 0.00221097 0.2554322"
      ]
     },
     "metadata": {},
     "output_type": "display_data"
    },
    {
     "data": {
      "text/plain": [
       "Linear mixed model fit by REML ['lmerMod']\n",
       "Formula: bcd ~ edpl_2 + (1 | community)\n",
       "   Data: df\n",
       "\n",
       "REML criterion at convergence: -3282.6\n",
       "\n",
       "Scaled residuals: \n",
       "    Min      1Q  Median      3Q     Max \n",
       "-1.3793 -0.3489 -0.2233  0.0446  6.9924 \n",
       "\n",
       "Random effects:\n",
       " Groups    Name        Variance  Std.Dev.\n",
       " community (Intercept) 2.204e-05 0.004694\n",
       " Residual              6.553e-05 0.008095\n",
       "Number of obs: 500, groups:  community, 100\n",
       "\n",
       "Fixed effects:\n",
       "             Estimate Std. Error t value\n",
       "(Intercept)  0.009647   0.001979   4.874\n",
       "edpl_2      -0.065649   0.029077  -2.258\n",
       "\n",
       "Correlation of Fixed Effects:\n",
       "       (Intr)\n",
       "edpl_2 -0.954"
      ]
     },
     "metadata": {},
     "output_type": "display_data"
    },
    {
     "data": {
      "text/html": [
       "<table>\n",
       "<caption>A matrix: 1 × 2 of type dbl</caption>\n",
       "<thead>\n",
       "\t<tr><th scope=col>R2m</th><th scope=col>R2c</th></tr>\n",
       "</thead>\n",
       "<tbody>\n",
       "\t<tr><td>0.008691836</td><td>0.2581638</td></tr>\n",
       "</tbody>\n",
       "</table>\n"
      ],
      "text/latex": [
       "A matrix: 1 × 2 of type dbl\n",
       "\\begin{tabular}{ll}\n",
       " R2m & R2c\\\\\n",
       "\\hline\n",
       "\t 0.008691836 & 0.2581638\\\\\n",
       "\\end{tabular}\n"
      ],
      "text/markdown": [
       "\n",
       "A matrix: 1 × 2 of type dbl\n",
       "\n",
       "| R2m | R2c |\n",
       "|---|---|\n",
       "| 0.008691836 | 0.2581638 |\n",
       "\n"
      ],
      "text/plain": [
       "     R2m         R2c      \n",
       "[1,] 0.008691836 0.2581638"
      ]
     },
     "metadata": {},
     "output_type": "display_data"
    }
   ],
   "source": [
    "fit.adcl_1<-lmer(sensitivity~adcl_1+(1|community), data=df)\n",
    "summary(fit.adcl_1)\n",
    "r.squaredGLMM(fit.adcl_1)\n",
    "\n",
    "fit.adcl_2<-lmer(sensitivity~adcl_2+(1|community), data=df)\n",
    "summary(fit.adcl_2)\n",
    "r.squaredGLMM(fit.adcl_2)\n",
    "\n",
    "fit.prichness<-lmer(sensitivity~prichness+(1|community), data=df)\n",
    "summary(fit.prichness)\n",
    "r.squaredGLMM(fit.prichness)\n",
    "\n",
    "fit.edpl_1<-lmer(sensitivity~edpl_1+(1|community), data=df)\n",
    "summary(fit.edpl_1)\n",
    "r.squaredGLMM(fit.edpl_1)\n",
    "fit.edpl_2<-lmer(sensitivity~edpl_2+(1|community), data=df)\n",
    "summary(fit.edpl_2)\n",
    "r.squaredGLMM(fit.edpl_2)\n",
    "fit.adcl_1<-lmer(bcd~adcl_1+(1|community), data=df)\n",
    "summary(fit.adcl_1)\n",
    "r.squaredGLMM(fit.adcl_1)\n",
    "\n",
    "fit.adcl_2<-lmer(bcd~adcl_2+(1|community), data=df)\n",
    "summary(fit.adcl_2)\n",
    "r.squaredGLMM(fit.adcl_2)\n",
    "\n",
    "fit.prichness<-lmer(bcd~prichness+(1|community), data=df)\n",
    "summary(fit.prichness)\n",
    "r.squaredGLMM(fit.prichness)\n",
    "\n",
    "fit.edpl_1<-lmer(bcd~edpl_1+(1|community), data=df)\n",
    "summary(fit.edpl_1)\n",
    "r.squaredGLMM(fit.edpl_1)\n",
    "fit.edpl_2<-lmer(bcd~edpl_2+(1|community), data=df)\n",
    "summary(fit.edpl_2)\n",
    "r.squaredGLMM(fit.edpl_2)"
   ]
  },
  {
   "cell_type": "code",
   "execution_count": 8,
   "metadata": {},
   "outputs": [
    {
     "data": {
      "text/plain": [
       "\n",
       "Call:\n",
       "lm(formula = sensitivity ~ (adcl_1 + adcl_2 + prichness + edpl_1 + \n",
       "    edpl_2), data = df)\n",
       "\n",
       "Residuals:\n",
       "     Min       1Q   Median       3Q      Max \n",
       "-0.76867 -0.25534 -0.03756  0.25617  0.81593 \n",
       "\n",
       "Coefficients:\n",
       "             Estimate Std. Error t value Pr(>|t|)    \n",
       "(Intercept)  1.381843   0.261490   5.284 1.98e-07 ***\n",
       "adcl_1       0.028468   0.001007  28.267  < 2e-16 ***\n",
       "adcl_2      -9.805436   0.789221 -12.424  < 2e-16 ***\n",
       "prichness    0.004077   0.002668   1.528  0.12717    \n",
       "edpl_1       0.619069   0.212299   2.916  0.00372 ** \n",
       "edpl_2       8.567660   1.195613   7.166 3.24e-12 ***\n",
       "---\n",
       "Signif. codes:  0 ‘***’ 0.001 ‘**’ 0.01 ‘*’ 0.05 ‘.’ 0.1 ‘ ’ 1\n",
       "\n",
       "Residual standard error: 0.3281 on 444 degrees of freedom\n",
       "  (50 observations deleted due to missingness)\n",
       "Multiple R-squared:  0.9241,\tAdjusted R-squared:  0.9233 \n",
       "F-statistic:  1082 on 5 and 444 DF,  p-value: < 2.2e-16\n"
      ]
     },
     "metadata": {},
     "output_type": "display_data"
    },
    {
     "data": {
      "text/html": [
       "<table>\n",
       "<caption>A matrix: 1 × 2 of type dbl</caption>\n",
       "<thead>\n",
       "\t<tr><th scope=col>R2m</th><th scope=col>R2c</th></tr>\n",
       "</thead>\n",
       "<tbody>\n",
       "\t<tr><td>0.9233587</td><td>0.9233587</td></tr>\n",
       "</tbody>\n",
       "</table>\n"
      ],
      "text/latex": [
       "A matrix: 1 × 2 of type dbl\n",
       "\\begin{tabular}{ll}\n",
       " R2m & R2c\\\\\n",
       "\\hline\n",
       "\t 0.9233587 & 0.9233587\\\\\n",
       "\\end{tabular}\n"
      ],
      "text/markdown": [
       "\n",
       "A matrix: 1 × 2 of type dbl\n",
       "\n",
       "| R2m | R2c |\n",
       "|---|---|\n",
       "| 0.9233587 | 0.9233587 |\n",
       "\n"
      ],
      "text/plain": [
       "     R2m       R2c      \n",
       "[1,] 0.9233587 0.9233587"
      ]
     },
     "metadata": {},
     "output_type": "display_data"
    }
   ],
   "source": [
    "fit.all<-lm(sensitivity~(adcl_1+adcl_2+prichness+edpl_1+edpl_2), data=df)\n",
    "summary(fit.all)\n",
    "r.squaredGLMM(fit.all)"
   ]
  },
  {
   "cell_type": "code",
   "execution_count": 9,
   "metadata": {},
   "outputs": [],
   "source": [
    "# df"
   ]
  },
  {
   "cell_type": "code",
   "execution_count": 10,
   "metadata": {},
   "outputs": [
    {
     "data": {
      "text/plain": [
       "\n",
       "Call:\n",
       "lm(formula = bcd ~ (adcl_1 + adcl_2 + prichness + edpl_1 + edpl_2), \n",
       "    data = df)\n",
       "\n",
       "Residuals:\n",
       "      Min        1Q    Median        3Q       Max \n",
       "-0.008864 -0.004779 -0.002659  0.002293  0.060303 \n",
       "\n",
       "Coefficients:\n",
       "              Estimate Std. Error t value Pr(>|t|)  \n",
       "(Intercept)  3.391e-03  7.123e-03   0.476   0.6342  \n",
       "adcl_1      -5.081e-05  2.743e-05  -1.852   0.0647 .\n",
       "adcl_2       2.487e-02  2.150e-02   1.157   0.2479  \n",
       "prichness    5.880e-05  7.267e-05   0.809   0.4188  \n",
       "edpl_1      -3.066e-03  5.783e-03  -0.530   0.5962  \n",
       "edpl_2      -4.438e-02  3.257e-02  -1.363   0.1736  \n",
       "---\n",
       "Signif. codes:  0 ‘***’ 0.001 ‘**’ 0.01 ‘*’ 0.05 ‘.’ 0.1 ‘ ’ 1\n",
       "\n",
       "Residual standard error: 0.008937 on 444 degrees of freedom\n",
       "  (50 observations deleted due to missingness)\n",
       "Multiple R-squared:  0.05236,\tAdjusted R-squared:  0.04168 \n",
       "F-statistic: 4.906 on 5 and 444 DF,  p-value: 0.0002213\n"
      ]
     },
     "metadata": {},
     "output_type": "display_data"
    },
    {
     "data": {
      "text/html": [
       "<table>\n",
       "<caption>A matrix: 1 × 2 of type dbl</caption>\n",
       "<thead>\n",
       "\t<tr><th scope=col>R2m</th><th scope=col>R2c</th></tr>\n",
       "</thead>\n",
       "<tbody>\n",
       "\t<tr><td>0.05180342</td><td>0.05180342</td></tr>\n",
       "</tbody>\n",
       "</table>\n"
      ],
      "text/latex": [
       "A matrix: 1 × 2 of type dbl\n",
       "\\begin{tabular}{ll}\n",
       " R2m & R2c\\\\\n",
       "\\hline\n",
       "\t 0.05180342 & 0.05180342\\\\\n",
       "\\end{tabular}\n"
      ],
      "text/markdown": [
       "\n",
       "A matrix: 1 × 2 of type dbl\n",
       "\n",
       "| R2m | R2c |\n",
       "|---|---|\n",
       "| 0.05180342 | 0.05180342 |\n",
       "\n"
      ],
      "text/plain": [
       "     R2m        R2c       \n",
       "[1,] 0.05180342 0.05180342"
      ]
     },
     "metadata": {},
     "output_type": "display_data"
    }
   ],
   "source": [
    "fit.bcd<-lm(bcd~(adcl_1+adcl_2+prichness+edpl_1+edpl_2), data=df)\n",
    "summary(fit.bcd)\n",
    "r.squaredGLMM(fit.bcd)"
   ]
  },
  {
   "cell_type": "code",
   "execution_count": null,
   "metadata": {},
   "outputs": [],
   "source": []
  },
  {
   "cell_type": "code",
   "execution_count": null,
   "metadata": {},
   "outputs": [],
   "source": []
  }
 ],
 "metadata": {
  "kernelspec": {
   "display_name": "R",
   "language": "R",
   "name": "ir"
  },
  "language_info": {
   "codemirror_mode": "r",
   "file_extension": ".r",
   "mimetype": "text/x-r-source",
   "name": "R",
   "pygments_lexer": "r",
   "version": "4.0.0"
  }
 },
 "nbformat": 4,
 "nbformat_minor": 4
}
